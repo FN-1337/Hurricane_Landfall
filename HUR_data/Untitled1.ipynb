{
 "cells": [
  {
   "cell_type": "code",
   "execution_count": 2,
   "id": "d9398b4e-9594-46b4-821c-635de804cd1f",
   "metadata": {},
   "outputs": [],
   "source": [
    "import pandas as pd\n",
    "\n",
    "from geopy.geocoders import Nominatim\n",
    "\n",
    "import reverse_geocoder as rg\n",
    "import pprint\n",
    "\n",
    "geolocator = Nominatim(user_agent=\"HUR\")\n",
    "\n",
    "df = pd.DataFrame({'name': ['paris', 'berlin', 'london']})\n",
    "\n",
    "\n",
    "from geopy.extra.rate_limiter import RateLimiter\n",
    "geocode = RateLimiter(geolocator.geocode, min_delay_seconds=1)\n",
    "df['location'] = df['name'].apply(geocode)\n",
    "\n",
    "df['point'] = df['location'].apply(lambda loc: tuple(loc.point) if loc else None)"
   ]
  },
  {
   "cell_type": "code",
   "execution_count": 3,
   "id": "57122b1f-5d8e-49b7-8a8f-e79af73d44f7",
   "metadata": {},
   "outputs": [
    {
     "data": {
      "text/html": [
       "<div>\n",
       "<style scoped>\n",
       "    .dataframe tbody tr th:only-of-type {\n",
       "        vertical-align: middle;\n",
       "    }\n",
       "\n",
       "    .dataframe tbody tr th {\n",
       "        vertical-align: top;\n",
       "    }\n",
       "\n",
       "    .dataframe thead th {\n",
       "        text-align: right;\n",
       "    }\n",
       "</style>\n",
       "<table border=\"1\" class=\"dataframe\">\n",
       "  <thead>\n",
       "    <tr style=\"text-align: right;\">\n",
       "      <th></th>\n",
       "      <th>name</th>\n",
       "      <th>location</th>\n",
       "      <th>point</th>\n",
       "    </tr>\n",
       "  </thead>\n",
       "  <tbody>\n",
       "    <tr>\n",
       "      <th>0</th>\n",
       "      <td>paris</td>\n",
       "      <td>(Paris, Île-de-France, France métropolitaine, ...</td>\n",
       "      <td>(48.8566969, 2.3514616, 0.0)</td>\n",
       "    </tr>\n",
       "    <tr>\n",
       "      <th>1</th>\n",
       "      <td>berlin</td>\n",
       "      <td>(Berlin, 10117, Deutschland, (52.5170365, 13.3...</td>\n",
       "      <td>(52.5170365, 13.3888599, 0.0)</td>\n",
       "    </tr>\n",
       "    <tr>\n",
       "      <th>2</th>\n",
       "      <td>london</td>\n",
       "      <td>(London, City of Westminster, England, SW1A 2D...</td>\n",
       "      <td>(51.5073219, -0.1276474, 0.0)</td>\n",
       "    </tr>\n",
       "  </tbody>\n",
       "</table>\n",
       "</div>"
      ],
      "text/plain": [
       "     name                                           location  \\\n",
       "0   paris  (Paris, Île-de-France, France métropolitaine, ...   \n",
       "1  berlin  (Berlin, 10117, Deutschland, (52.5170365, 13.3...   \n",
       "2  london  (London, City of Westminster, England, SW1A 2D...   \n",
       "\n",
       "                           point  \n",
       "0   (48.8566969, 2.3514616, 0.0)  \n",
       "1  (52.5170365, 13.3888599, 0.0)  \n",
       "2  (51.5073219, -0.1276474, 0.0)  "
      ]
     },
     "execution_count": 3,
     "metadata": {},
     "output_type": "execute_result"
    }
   ],
   "source": [
    "df.head()"
   ]
  },
  {
   "cell_type": "code",
   "execution_count": null,
   "id": "9d2bae05-7d4b-45d2-abce-25e51364d0d2",
   "metadata": {},
   "outputs": [],
   "source": []
  }
 ],
 "metadata": {
  "kernelspec": {
   "display_name": "Python 3",
   "language": "python",
   "name": "python3"
  },
  "language_info": {
   "codemirror_mode": {
    "name": "ipython",
    "version": 3
   },
   "file_extension": ".py",
   "mimetype": "text/x-python",
   "name": "python",
   "nbconvert_exporter": "python",
   "pygments_lexer": "ipython3",
   "version": "3.8.8"
  }
 },
 "nbformat": 4,
 "nbformat_minor": 5
}
