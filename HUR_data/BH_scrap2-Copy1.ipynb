{
 "cells": [
  {
   "cell_type": "code",
   "execution_count": 1,
   "id": "9415e419-1305-4f66-84cd-8402396fc66a",
   "metadata": {},
   "outputs": [],
   "source": [
    "import pandas as pd\n",
    "\n",
    "from opencage.geocoder import OpenCageGeocode\n",
    "from geopy.geocoders import Nominatim\n",
    "\n",
    "import reverse_geocoder as rg\n",
    "import pprint\n",
    "\n",
    "geolocator = Nominatim(user_agent=\"HUR\")\n"
   ]
  },
  {
   "cell_type": "code",
   "execution_count": 2,
   "id": "fe33da54-e7b0-4e56-914a-967107f74933",
   "metadata": {},
   "outputs": [
    {
     "name": "stdout",
     "output_type": "stream",
     "text": [
      "20956, Northwest 27th Avenue, Lake Lucerne, Miami Gardens, Miami-Dade County, Florida, 33056, United States\n"
     ]
    }
   ],
   "source": [
    "#test the geolocator works\n",
    "location = geolocator.reverse('25.966660,-80.246790')\n",
    "print(location.address)"
   ]
  },
  {
   "cell_type": "code",
   "execution_count": 3,
   "id": "8b3fe9cf-a848-4a99-8846-f0ece56508e0",
   "metadata": {},
   "outputs": [],
   "source": [
    "# read-in csv file Atlantic hurricane data\n",
    "HUR_data=pd.read_csv('Atlantic_HURDAT-Copy1.csv', sep=',')\n",
    "HUR_data.head(3)\n",
    "\n",
    "HUR_df = pd.DataFrame(HUR_data)\n"
   ]
  },
  {
   "cell_type": "code",
   "execution_count": 4,
   "id": "bcbe48e5-5e67-44d0-a503-0c0a71945092",
   "metadata": {},
   "outputs": [
    {
     "data": {
      "text/html": [
       "<div>\n",
       "<style scoped>\n",
       "    .dataframe tbody tr th:only-of-type {\n",
       "        vertical-align: middle;\n",
       "    }\n",
       "\n",
       "    .dataframe tbody tr th {\n",
       "        vertical-align: top;\n",
       "    }\n",
       "\n",
       "    .dataframe thead th {\n",
       "        text-align: right;\n",
       "    }\n",
       "</style>\n",
       "<table border=\"1\" class=\"dataframe\">\n",
       "  <thead>\n",
       "    <tr style=\"text-align: right;\">\n",
       "      <th></th>\n",
       "      <th>index</th>\n",
       "      <th>id</th>\n",
       "      <th>name</th>\n",
       "      <th>date</th>\n",
       "      <th>record_identifier</th>\n",
       "      <th>status_of_system</th>\n",
       "      <th>latitude</th>\n",
       "      <th>longitude</th>\n",
       "      <th>maximum_sustained_wind_knots</th>\n",
       "      <th>maximum_pressure</th>\n",
       "      <th>...</th>\n",
       "      <th>34_kt_sw</th>\n",
       "      <th>34_kt_nw</th>\n",
       "      <th>50_kt_ne</th>\n",
       "      <th>50_kt_se</th>\n",
       "      <th>50_kt_sw</th>\n",
       "      <th>50_kt_nw</th>\n",
       "      <th>64_kt_ne</th>\n",
       "      <th>64_kt_se</th>\n",
       "      <th>64_kt_sw</th>\n",
       "      <th>64_kt_nw</th>\n",
       "    </tr>\n",
       "  </thead>\n",
       "  <tbody>\n",
       "    <tr>\n",
       "      <th>0</th>\n",
       "      <td>3</td>\n",
       "      <td>AL011851</td>\n",
       "      <td>UNNAMED</td>\n",
       "      <td>1851-06-25 18:00:00</td>\n",
       "      <td>NaN</td>\n",
       "      <td>HU</td>\n",
       "      <td>28.1</td>\n",
       "      <td>-96.5</td>\n",
       "      <td>80</td>\n",
       "      <td>NaN</td>\n",
       "      <td>...</td>\n",
       "      <td>NaN</td>\n",
       "      <td>NaN</td>\n",
       "      <td>NaN</td>\n",
       "      <td>NaN</td>\n",
       "      <td>NaN</td>\n",
       "      <td>NaN</td>\n",
       "      <td>NaN</td>\n",
       "      <td>NaN</td>\n",
       "      <td>NaN</td>\n",
       "      <td>NaN</td>\n",
       "    </tr>\n",
       "    <tr>\n",
       "      <th>1</th>\n",
       "      <td>4</td>\n",
       "      <td>AL011851</td>\n",
       "      <td>UNNAMED</td>\n",
       "      <td>1851-06-25 21:00:00</td>\n",
       "      <td>L</td>\n",
       "      <td>HU</td>\n",
       "      <td>28.2</td>\n",
       "      <td>-96.8</td>\n",
       "      <td>80</td>\n",
       "      <td>NaN</td>\n",
       "      <td>...</td>\n",
       "      <td>NaN</td>\n",
       "      <td>NaN</td>\n",
       "      <td>NaN</td>\n",
       "      <td>NaN</td>\n",
       "      <td>NaN</td>\n",
       "      <td>NaN</td>\n",
       "      <td>NaN</td>\n",
       "      <td>NaN</td>\n",
       "      <td>NaN</td>\n",
       "      <td>NaN</td>\n",
       "    </tr>\n",
       "  </tbody>\n",
       "</table>\n",
       "<p>2 rows × 22 columns</p>\n",
       "</div>"
      ],
      "text/plain": [
       "   index        id     name                 date record_identifier  \\\n",
       "0      3  AL011851  UNNAMED  1851-06-25 18:00:00               NaN   \n",
       "1      4  AL011851  UNNAMED  1851-06-25 21:00:00                 L   \n",
       "\n",
       "  status_of_system  latitude  longitude  maximum_sustained_wind_knots  \\\n",
       "0               HU      28.1      -96.5                            80   \n",
       "1               HU      28.2      -96.8                            80   \n",
       "\n",
       "   maximum_pressure  ...  34_kt_sw  34_kt_nw  50_kt_ne  50_kt_se  50_kt_sw  \\\n",
       "0               NaN  ...       NaN       NaN       NaN       NaN       NaN   \n",
       "1               NaN  ...       NaN       NaN       NaN       NaN       NaN   \n",
       "\n",
       "   50_kt_nw  64_kt_ne  64_kt_se  64_kt_sw  64_kt_nw  \n",
       "0       NaN       NaN       NaN       NaN       NaN  \n",
       "1       NaN       NaN       NaN       NaN       NaN  \n",
       "\n",
       "[2 rows x 22 columns]"
      ]
     },
     "execution_count": 4,
     "metadata": {},
     "output_type": "execute_result"
    }
   ],
   "source": [
    "#print the data\n",
    "HUR_df"
   ]
  },
  {
   "cell_type": "code",
   "execution_count": 5,
   "id": "2c4b32cb-f2e8-49fd-981c-5699b739e9d1",
   "metadata": {},
   "outputs": [],
   "source": [
    "\n",
    "\n",
    "# convert just columns \"a\" and \"b\"\n",
    "HUR_df[['latitude', 'longitude']] = HUR_df[['latitude', 'longitude']].apply(pd.to_numeric)\n",
    "\n",
    "HUR_df = HUR_df.infer_objects()\n",
    "\n",
    "HUR_df.dtypes\n",
    "\n",
    "HUR_df['lat/long'] = HUR_df['latitude'].astype(str) + \",\" + HUR_df['longitude'].astype(str) "
   ]
  },
  {
   "cell_type": "code",
   "execution_count": 6,
   "id": "36d0e112-7f16-4314-b1fd-e44a28fb521c",
   "metadata": {},
   "outputs": [
    {
     "data": {
      "text/plain": [
       "0    28.1,-96.5\n",
       "1    28.2,-96.8\n",
       "Name: lat/long, dtype: object"
      ]
     },
     "execution_count": 6,
     "metadata": {},
     "output_type": "execute_result"
    }
   ],
   "source": [
    "HUR_df['lat/long'].head(3)"
   ]
  },
  {
   "cell_type": "code",
   "execution_count": 7,
   "id": "dcb7cc5c-45e7-42ca-9fe8-a05bbc8b7b49",
   "metadata": {},
   "outputs": [
    {
     "data": {
      "text/plain": [
       "0"
      ]
     },
     "execution_count": 7,
     "metadata": {},
     "output_type": "execute_result"
    }
   ],
   "source": [
    "HUR_df['lat/long'].isnull().sum()"
   ]
  },
  {
   "cell_type": "code",
   "execution_count": 8,
   "id": "b97bd2da-74cb-4d66-bfcb-2cfac5983246",
   "metadata": {},
   "outputs": [],
   "source": [
    "from geopy.extra.rate_limiter import RateLimiter\n",
    "geocode = RateLimiter(geolocator.geocode, min_delay_seconds=1)"
   ]
  },
  {
   "cell_type": "code",
   "execution_count": 21,
   "id": "236a35cf-1a8c-4777-925c-b732e4d64752",
   "metadata": {},
   "outputs": [
    {
     "name": "stdout",
     "output_type": "stream",
     "text": [
      "United States\n"
     ]
    }
   ],
   "source": [
    "location = geolocator.reverse(HUR_df['lat/long'][0:1])\n",
    "print(location.address)"
   ]
  },
  {
   "cell_type": "code",
   "execution_count": 23,
   "id": "c782edfd-cd50-4a72-a427-014410b0306b",
   "metadata": {},
   "outputs": [
    {
     "name": "stdout",
     "output_type": "stream",
     "text": [
      "28.1,-96.5\n",
      "28.2,-96.8\n"
     ]
    }
   ],
   "source": [
    "address_list = []\n",
    "for row in HUR_df['lat/long']:\n",
    "    \n",
    "    \n",
    "    \n",
    "    #if location = geolocator.reverse(HUR_df['lat/long']).apply(geolocator.reverse,timeout=1000000)"
   ]
  },
  {
   "cell_type": "code",
   "execution_count": 15,
   "id": "bfb96260-a553-4bd4-9a85-5a1ad3b6761e",
   "metadata": {},
   "outputs": [
    {
     "data": {
      "text/plain": [
       "[(28.1, -96.5), (28.2, -96.8)]"
      ]
     },
     "execution_count": 15,
     "metadata": {},
     "output_type": "execute_result"
    }
   ],
   "source": [
    "import functools\n",
    "\n",
    "lats=HUR_df['latitude'].to_list()\n",
    "lons=HUR_df['longitude'].to_list()\n",
    "coords=list(zip(lats,lons))\n",
    "coords\n",
    "\n",
    "#location = geolocator.reverse(HUR_df['lat/long'],language=None, exactly_one=True, timeout=DEFAULT_SENTINEL)\n",
    "#print(location.address)\n",
    "\n",
    "#HUR_df[\"location\"]=geolocator.reverse(HUR_df['lat/long'][0])\n",
    "\n",
    "#location = geolocator.reverse(f'{coords[0],coords[1]}')\n",
    "#print(location.address)\n",
    "\n",
    "#location = geolocator.reverse(HUR_df[['latitude', 'longitude']])"
   ]
  },
  {
   "cell_type": "code",
   "execution_count": null,
   "id": "6e5d9168-89d5-4ada-81b9-0e78caf1e550",
   "metadata": {},
   "outputs": [],
   "source": [
    "# testing the geocoding tool:\n",
    "\n",
    "key = \"ba805f64fba7414196d33ceda40dd6c3\"\n",
    "geocoder = OpenCageGeocode(key)\n",
    "address='1108 ROSS CLARK CIRCLE,DOTHAN,HOUSTON,AL'\n",
    "result = geocoder.geocode(address, no_annotations=\"1\")  \n",
    "result[0]['geometry']"
   ]
  },
  {
   "cell_type": "code",
   "execution_count": null,
   "id": "8c8f022a-bc13-4b2f-9d3e-4240a957469b",
   "metadata": {},
   "outputs": [],
   "source": [
    "#testing the reverse geocoding works:\n",
    "\n",
    "result = geocoder.reverse_geocode(29,-99.4)  \n",
    "result[0]['formatted']"
   ]
  },
  {
   "cell_type": "code",
   "execution_count": null,
   "id": "f51182ab-1d6f-4ea5-8862-468c170dfeaf",
   "metadata": {},
   "outputs": [],
   "source": [
    "HUR_data.head(2)"
   ]
  },
  {
   "cell_type": "markdown",
   "id": "91267baa-976f-4227-9563-e8d43e9a2119",
   "metadata": {},
   "source": []
  },
  {
   "cell_type": "code",
   "execution_count": null,
   "id": "495ddd94-f1dd-4cb5-9226-f658676ea4d4",
   "metadata": {},
   "outputs": [],
   "source": [
    "lats=HUR_data['latitude'].to_list()\n",
    "lons=HUR_data['longitude'].to_list()\n",
    "coords=list(zip(lats,lons))\n",
    "\n",
    "from geopy.geocoders import Nominatim\n",
    "geolocator = Nominatim(user_agent=\"Google map\")\n",
    "location = geolocator.reverse()\n",
    "location.raw['display_name']\n",
    "print(location)"
   ]
  },
  {
   "cell_type": "code",
   "execution_count": null,
   "id": "5099b478-cfd4-43b2-92df-e56d5dc6f588",
   "metadata": {},
   "outputs": [],
   "source": [
    "#lats=data['Latitude'].to_list()\n",
    "#lons=data['Longitude'].to_list()\n",
    "#coords=list(zip(lats,lons))\n",
    "\n",
    "def reverseGeocode(coords):\n",
    "    result = rg.search(28,-94)\n",
    "    \n",
    "    pprint.pprint(result)\n",
    "    result"
   ]
  },
  {
   "cell_type": "code",
   "execution_count": null,
   "id": "76ff27a6-f279-45be-869d-349e19ec53c4",
   "metadata": {},
   "outputs": [],
   "source": [
    "\n",
    "from geopy.geocoders import Nominatim\n",
    "geolocator = Nominatim(user_agent=\"test_app\")  # enter a name for your app\n",
    "full_address=[]\n",
    "for i in coords:\n",
    "    location = geolocator.reverse(\"29,-99.4\")\n",
    "    address=location.raw['display_name']\n",
    "    full_address.append(address)"
   ]
  },
  {
   "cell_type": "code",
   "execution_count": null,
   "id": "9d0c026c-bbdb-4185-b49f-eda46677564f",
   "metadata": {},
   "outputs": [],
   "source": [
    "location = coords.reverse()\n",
    "location.raw\n",
    "# returns geopy Location object"
   ]
  },
  {
   "cell_type": "code",
   "execution_count": null,
   "id": "65098452-d812-47cb-8239-3d88d8b93105",
   "metadata": {},
   "outputs": [],
   "source": [
    "full_address=[]\n",
    "for i in coords:\n",
    "    location = geolocator.reverse(coords[i])\n",
    "    address=location.raw['display_name']\n",
    "    full_address.append(address)"
   ]
  },
  {
   "cell_type": "code",
   "execution_count": null,
   "id": "9e070ff1-0b39-4316-91d9-d311ba869f2d",
   "metadata": {},
   "outputs": [],
   "source": []
  },
  {
   "cell_type": "code",
   "execution_count": null,
   "id": "5052e35b-a46e-4ff5-a877-9ebd2b4fb214",
   "metadata": {},
   "outputs": [],
   "source": [
    "add=pd.DataFrame(data=full_address , columns=['Address'])\n",
    "add"
   ]
  },
  {
   "cell_type": "code",
   "execution_count": null,
   "id": "24c8ccb9-7bf6-4e68-b5ec-4957633acb5a",
   "metadata": {},
   "outputs": [],
   "source": []
  }
 ],
 "metadata": {
  "kernelspec": {
   "display_name": "Python 3",
   "language": "python",
   "name": "python3"
  },
  "language_info": {
   "codemirror_mode": {
    "name": "ipython",
    "version": 3
   },
   "file_extension": ".py",
   "mimetype": "text/x-python",
   "name": "python",
   "nbconvert_exporter": "python",
   "pygments_lexer": "ipython3",
   "version": "3.8.8"
  }
 },
 "nbformat": 4,
 "nbformat_minor": 5
}
