{
 "cells": [
  {
   "cell_type": "code",
   "execution_count": 1,
   "id": "84a890df-fdc5-475a-8ec3-7247de1a7d24",
   "metadata": {},
   "outputs": [],
   "source": [
    "# Import libraries and dependencies\n",
    "import os\n",
    "import pandas as pd\n",
    "import alpaca_trade_api as tradeapi\n",
    "import pytz\n",
    "import pandas_montecarlo\n",
    "%matplotlib inline\n",
    "import matplotlib.pyplot as plots\n",
    "import seaborn as sns\n",
    "\n",
    "sns.set_style('whitegrid')"
   ]
  },
  {
   "cell_type": "code",
   "execution_count": 2,
   "id": "da4f4d15-5e7d-48af-86ce-379a9a054249",
   "metadata": {},
   "outputs": [
    {
     "data": {
      "text/plain": [
       "True"
      ]
     },
     "execution_count": 2,
     "metadata": {},
     "output_type": "execute_result"
    }
   ],
   "source": [
    "# Load .env enviroment variables\n",
    "from dotenv import load_dotenv\n",
    "load_dotenv()"
   ]
  },
  {
   "cell_type": "code",
   "execution_count": 3,
   "id": "42357ddf-6bfc-4c17-adea-0e89f4a649cb",
   "metadata": {},
   "outputs": [
    {
     "data": {
      "text/html": [
       "<div>\n",
       "<style scoped>\n",
       "    .dataframe tbody tr th:only-of-type {\n",
       "        vertical-align: middle;\n",
       "    }\n",
       "\n",
       "    .dataframe tbody tr th {\n",
       "        vertical-align: top;\n",
       "    }\n",
       "\n",
       "    .dataframe thead th {\n",
       "        text-align: right;\n",
       "    }\n",
       "</style>\n",
       "<table border=\"1\" class=\"dataframe\">\n",
       "  <thead>\n",
       "    <tr style=\"text-align: right;\">\n",
       "      <th></th>\n",
       "      <th>inflation adjusted(bns)</th>\n",
       "    </tr>\n",
       "  </thead>\n",
       "  <tbody>\n",
       "    <tr>\n",
       "      <th>0</th>\n",
       "      <td>7.246200</td>\n",
       "    </tr>\n",
       "    <tr>\n",
       "      <th>1</th>\n",
       "      <td>0.197877</td>\n",
       "    </tr>\n",
       "  </tbody>\n",
       "</table>\n",
       "</div>"
      ],
      "text/plain": [
       "   inflation adjusted(bns)\n",
       "0                 7.246200\n",
       "1                 0.197877"
      ]
     },
     "execution_count": 3,
     "metadata": {},
     "output_type": "execute_result"
    }
   ],
   "source": [
    "Sim_loss_data=pd.read_csv('MC_Sim_losses.csv')\n",
    "Sim_loss_data.head(3)\n",
    "\n",
    "Sim_loss_df = pd.DataFrame(Sim_loss_data)\n",
    "Sim_loss_df.head(2)"
   ]
  },
  {
   "cell_type": "code",
   "execution_count": 4,
   "id": "8fec871a-bad0-4a31-bc18-74955e01b887",
   "metadata": {},
   "outputs": [
    {
     "data": {
      "text/html": [
       "<div>\n",
       "<style scoped>\n",
       "    .dataframe tbody tr th:only-of-type {\n",
       "        vertical-align: middle;\n",
       "    }\n",
       "\n",
       "    .dataframe tbody tr th {\n",
       "        vertical-align: top;\n",
       "    }\n",
       "\n",
       "    .dataframe thead th {\n",
       "        text-align: right;\n",
       "    }\n",
       "</style>\n",
       "<table border=\"1\" class=\"dataframe\">\n",
       "  <thead>\n",
       "    <tr style=\"text-align: right;\">\n",
       "      <th></th>\n",
       "      <th># events</th>\n",
       "      <th># of years</th>\n",
       "      <th>dist</th>\n",
       "    </tr>\n",
       "  </thead>\n",
       "  <tbody>\n",
       "    <tr>\n",
       "      <th>0</th>\n",
       "      <td>0</td>\n",
       "      <td>92</td>\n",
       "      <td>54.12%</td>\n",
       "    </tr>\n",
       "    <tr>\n",
       "      <th>1</th>\n",
       "      <td>1</td>\n",
       "      <td>44</td>\n",
       "      <td>25.88%</td>\n",
       "    </tr>\n",
       "    <tr>\n",
       "      <th>2</th>\n",
       "      <td>2</td>\n",
       "      <td>25</td>\n",
       "      <td>14.71%</td>\n",
       "    </tr>\n",
       "    <tr>\n",
       "      <th>3</th>\n",
       "      <td>3</td>\n",
       "      <td>7</td>\n",
       "      <td>4.12%</td>\n",
       "    </tr>\n",
       "    <tr>\n",
       "      <th>4</th>\n",
       "      <td>4</td>\n",
       "      <td>2</td>\n",
       "      <td>1.18%</td>\n",
       "    </tr>\n",
       "  </tbody>\n",
       "</table>\n",
       "</div>"
      ],
      "text/plain": [
       "   # events  # of years    dist\n",
       "0         0          92  54.12%\n",
       "1         1          44  25.88%\n",
       "2         2          25  14.71%\n",
       "3         3           7   4.12%\n",
       "4         4           2   1.18%"
      ]
     },
     "execution_count": 4,
     "metadata": {},
     "output_type": "execute_result"
    }
   ],
   "source": [
    "Sim_dist_data=pd.read_csv('MC_Sim_dist.csv')\n",
    "Sim_dist_data.head(3)\n",
    "\n",
    "Sim_dist_df = pd.DataFrame(Sim_dist_data)\n",
    "Sim_dist_df.head()"
   ]
  },
  {
   "cell_type": "code",
   "execution_count": 5,
   "id": "11b70173-5a77-4e7c-bddc-3cd8ddfacdb1",
   "metadata": {},
   "outputs": [],
   "source": [
    "pct_to_target =Sim_dist_df['dist']"
   ]
  },
  {
   "cell_type": "code",
   "execution_count": 6,
   "id": "758cf7cb-bb01-49cf-bf3d-27052ed4688c",
   "metadata": {},
   "outputs": [],
   "source": [
    "#MC_even_dist = Sim_dist_df['# events'].montecarlo(weight = ['0.3','0.32'],sims=10,bust=-.1,goal=1)"
   ]
  },
  {
   "cell_type": "code",
   "execution_count": 7,
   "id": "d7570a47-bde4-485d-a9ca-febfb496e44c",
   "metadata": {},
   "outputs": [
    {
     "ename": "SyntaxError",
     "evalue": "invalid syntax (<ipython-input-7-663d11ff47fd>, line 3)",
     "output_type": "error",
     "traceback": [
      "\u001b[1;36m  File \u001b[1;32m\"<ipython-input-7-663d11ff47fd>\"\u001b[1;36m, line \u001b[1;32m3\u001b[0m\n\u001b[1;33m    mc = Sim_dist_df['# events'].montecarlo(sims=10,weights = [.5412,.2588,.1471,0.0412,0.018])\u001b[0m\n\u001b[1;37m    ^\u001b[0m\n\u001b[1;31mSyntaxError\u001b[0m\u001b[1;31m:\u001b[0m invalid syntax\n"
     ]
    }
   ],
   "source": [
    "mc = Sim_dist_df['# events'].montecarlo(sims=10, bust=-0.1, goal=1\n",
    "\n",
    "mc = Sim_dist_df['# events'].montecarlo(sims=10,weights = [.5412,.2588,.1471,0.0412,0.018])\n",
    "print(mc.data.head())"
   ]
  },
  {
   "cell_type": "code",
   "execution_count": 12,
   "id": "695b119b-56fc-4997-bf93-919494c03e4f",
   "metadata": {},
   "outputs": [],
   "source": [
    "import numpy as np\n",
    "import matplotlib.pyplot as plt"
   ]
  },
  {
   "cell_type": "code",
   "execution_count": 25,
   "id": "3726f2ac-ceb7-4d97-a407-3f5de4e92145",
   "metadata": {},
   "outputs": [
    {
     "data": {
      "text/plain": [
       "2"
      ]
     },
     "execution_count": 25,
     "metadata": {},
     "output_type": "execute_result"
    }
   ],
   "source": [
    "iterations = 10000\n",
    "mean_losses_per_hurricane\n",
    "std_dev_losses_per_hurricane\n",
    "for i in range(iterations):\n",
    "    num_hurricanes = np.random.choice(np.arange(0,4), p =[0.5, 0.25, 0.125, 0.125])\n",
    "    hurricane_loss = random.normal(mean_losses_per_hurricane,std_dev_losses_per_hurricane )\n",
    "    total_loss = num_hurricanes * hurricane_loss"
   ]
  },
  {
   "cell_type": "code",
   "execution_count": null,
   "id": "e844642f-f060-4651-98a0-3eae75950e4c",
   "metadata": {},
   "outputs": [],
   "source": [
    "def nrandom(p0,p1):\n",
    "    u = np.random.uniform(0,1)\n",
    "    if u<p0: return 0\n",
    "    if u<(p0+p1):return 1\n",
    "    return 2\n",
    "    "
   ]
  },
  {
   "cell_type": "code",
   "execution_count": 8,
   "id": "5a2bd487-b404-4f38-baf5-cc652609376f",
   "metadata": {},
   "outputs": [],
   "source": [
    "#poisson random variable\n",
    "\n",
    "def drandom():\n",
    "    pmass = [0.5412,0.2588,.1471,0.0412,0.018]\n",
    "    var, pp, u=0, pmass[0], np.random.uniform(0,1)\n",
    "    while(u>pp):\n",
    "        var = var+1\n",
    "        pp = pp + pmass[var]\n",
    "        \n",
    "    return var"
   ]
  },
  {
   "cell_type": "code",
   "execution_count": 9,
   "id": "c63ae419-409e-4faf-93d1-70767be7f855",
   "metadata": {},
   "outputs": [],
   "source": [
    "from scipy import random"
   ]
  },
  {
   "cell_type": "code",
   "execution_count": null,
   "id": "587fd9c4-abcc-41f7-815b-1a0fb970f02d",
   "metadata": {},
   "outputs": [],
   "source": []
  }
 ],
 "metadata": {
  "kernelspec": {
   "display_name": "Python 3",
   "language": "python",
   "name": "python3"
  },
  "language_info": {
   "codemirror_mode": {
    "name": "ipython",
    "version": 3
   },
   "file_extension": ".py",
   "mimetype": "text/x-python",
   "name": "python",
   "nbconvert_exporter": "python",
   "pygments_lexer": "ipython3",
   "version": "3.8.8"
  }
 },
 "nbformat": 4,
 "nbformat_minor": 5
}
