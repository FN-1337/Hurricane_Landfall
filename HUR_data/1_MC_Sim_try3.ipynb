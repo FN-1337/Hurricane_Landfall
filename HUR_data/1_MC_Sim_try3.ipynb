{
 "cells": [
  {
   "cell_type": "code",
   "execution_count": 1,
   "id": "f9be4bae-aff6-432a-aa3e-74ae98209620",
   "metadata": {},
   "outputs": [],
   "source": [
    "import pandas as pd\n",
    "import numpy as np\n",
    "import matplotlib.pyplot as plt\n"
   ]
  },
  {
   "cell_type": "code",
   "execution_count": null,
   "id": "40215ad4-1f79-4c43-bfb3-a1a0ba4abcdb",
   "metadata": {},
   "outputs": [],
   "source": [
    "N_CARS = 1000\n",
    "cars = pd.DataFrame({\n",
    "    'value': np.random.normal(35000, 5000, size=N_CARS),\n",
    "    'damage_pct': np.random.choice([-0.1, -0.05, 0], size=N_CARS, p=[0.1, 0.5, 0.4])\n",
    "})\n",
    "\n",
    "inspected_cars = cars.sample(cars.shape[0] // 2)\n",
    "uninspected_cars = cars[~cars.index.isin(inspected_cars.index)]\n",
    "\n",
    "damage_dist = (inspected_cars.groupby('damage_pct').count()\n",
    "               / inspected_cars.shape[0]).rename(columns={'value': 'prob'})"
   ]
  },
  {
   "cell_type": "code",
   "execution_count": 5,
   "id": "848292d0-09bf-4246-bc63-3c23a2cb7647",
   "metadata": {},
   "outputs": [
    {
     "data": {
      "text/plain": [
       "inflation adjusted(bns)    27.332045\n",
       "dtype: float64"
      ]
     },
     "execution_count": 5,
     "metadata": {},
     "output_type": "execute_result"
    }
   ],
   "source": [
    "Sim_loss_data=pd.read_csv('MC_Sim_losses.csv')\n",
    "Sim_loss_data.head(3)\n",
    "\n",
    "Sim_loss_df = pd.DataFrame(Sim_loss_data)\n",
    "Sim_loss_df.head(2)\n",
    "Sim_loss_df.mean()\n",
    "Sim_loss_df.std()"
   ]
  },
  {
   "cell_type": "code",
   "execution_count": null,
   "id": "0e8e7018-d4da-4030-a883-7cb85af7c668",
   "metadata": {},
   "outputs": [],
   "source": [
    "H_EVENTS = 10000\n",
    "\n",
    "mean_losses_per_hurricane = Sim_loss_df.mean()\n",
    "std_dev_losses_per_hurricane = Sim_loss_df.std()\n",
    "\n",
    "losses = pd.DataFrame({\n",
    "    'value':np.random.normal(mean_losses_per_hurricane,std_dev_losses_per_hurricane, size=H_EVENTS),\n",
    "    'damage_pct':np.random.choice([0,1,2,3,4],size=H_EVENTS, p=[0.54,0.26,0.15,0.05])\n",
    "})\n",
    "\n",
    "inspected_cars = cars.sample(cars.shape[0] // 2)\n",
    "uninspected_cars = cars[~cars.index.isin(inspected_cars.index)]\n",
    "\n",
    "damage_dist = (inspected_cars.groupby('damage_pct').count()\n",
    "               / inspected_cars.shape[0]).rename(columns={'value': 'prob'})"
   ]
  },
  {
   "cell_type": "code",
   "execution_count": null,
   "id": "c0605ef6-c231-4493-a26f-62d06397d156",
   "metadata": {},
   "outputs": [],
   "source": [
    "#simulations:\n",
    "import random\n",
    "import numpy as np\n",
    "\n",
    "iterations = 10000\n",
    "mean_losses_per_hurricane = Sim_loss_df.mean()\n",
    "std_dev_losses_per_hurricane = Sim_loss_df.std()\n",
    "total_losses = []\n",
    "for i in range(iterations):\n",
    "    num_hurricanes = np.random.choice(np.arange(0,4), p =[0.05, 0.15, 0.26, 0.54])\n",
    "    hurricane_loss = np.random.normal(mean_losses_per_hurricane,std_dev_losses_per_hurricane)\n",
    "    if hurricane_loss < 0:\n",
    "        hurricane_loss =0.0\n",
    "    total_loss = num_hurricanes * hurricane_loss\n",
    "    total_losses.append(total_loss)\n",
    "\n",
    "\n",
    "total_losses = np.array(total_losses)\n",
    "total_losses\n",
    "\n",
    "\n",
    "data = pd.DataFrame(total_losses)\n",
    "data.head()\n",
    "\n",
    "Sim_results_df = pd.DataFrame()\n",
    "Sim_results_df.append(data)\n",
    "\n",
    "data.to_csv(r'Sim_output5.csv', index = False)\n",
    "\n",
    "#total_losses.sum()\n",
    "#total_losses.mean()\n",
    "#total_losses.std()\n",
    "#total_losses.var()\n",
    "#plt.hist(total_losses)"
   ]
  }
 ],
 "metadata": {
  "kernelspec": {
   "display_name": "Python 3",
   "language": "python",
   "name": "python3"
  },
  "language_info": {
   "codemirror_mode": {
    "name": "ipython",
    "version": 3
   },
   "file_extension": ".py",
   "mimetype": "text/x-python",
   "name": "python",
   "nbconvert_exporter": "python",
   "pygments_lexer": "ipython3",
   "version": "3.8.8"
  }
 },
 "nbformat": 4,
 "nbformat_minor": 5
}
