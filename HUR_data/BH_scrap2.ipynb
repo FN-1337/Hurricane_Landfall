{
 "cells": [
  {
   "cell_type": "code",
   "execution_count": 2,
   "id": "9415e419-1305-4f66-84cd-8402396fc66a",
   "metadata": {},
   "outputs": [],
   "source": [
    "import pandas as pd\n",
    "\n",
    "from opencage.geocoder import OpenCageGeocode\n",
    "from geopy.geocoders import Nominatim\n",
    "\n",
    "import reverse_geocoder as rg\n",
    "import pprint\n",
    "\n",
    "geolocator = Nominatim(user_agent=\"HUR\")\n"
   ]
  },
  {
   "cell_type": "code",
   "execution_count": 3,
   "id": "fe33da54-e7b0-4e56-914a-967107f74933",
   "metadata": {},
   "outputs": [
    {
     "name": "stdout",
     "output_type": "stream",
     "text": [
      "20956, Northwest 27th Avenue, Lake Lucerne, Miami Gardens, Miami-Dade County, Florida, 33056, United States\n"
     ]
    }
   ],
   "source": [
    "#test the geolocator works\n",
    "location = geolocator.reverse('25.966660,-80.246790')\n",
    "print(location.address)"
   ]
  },
  {
   "cell_type": "code",
   "execution_count": 5,
   "id": "8b3fe9cf-a848-4a99-8846-f0ece56508e0",
   "metadata": {},
   "outputs": [],
   "source": [
    "# read-in csv file Atlantic hurricane data\n",
    "HUR_Andrew_data=pd.read_csv('andrew_EP.csv', sep=',')\n",
    "HUR_Andrew_data.head(3)\n",
    "\n",
    "HUR_Andrew_df = pd.DataFrame(HUR_Andrew_data)\n"
   ]
  },
  {
   "cell_type": "code",
   "execution_count": 58,
   "id": "bcbe48e5-5e67-44d0-a503-0c0a71945092",
   "metadata": {},
   "outputs": [
    {
     "data": {
      "text/html": [
       "<div>\n",
       "<style scoped>\n",
       "    .dataframe tbody tr th:only-of-type {\n",
       "        vertical-align: middle;\n",
       "    }\n",
       "\n",
       "    .dataframe tbody tr th {\n",
       "        vertical-align: top;\n",
       "    }\n",
       "\n",
       "    .dataframe thead th {\n",
       "        text-align: right;\n",
       "    }\n",
       "</style>\n",
       "<table border=\"1\" class=\"dataframe\">\n",
       "  <thead>\n",
       "    <tr style=\"text-align: right;\">\n",
       "      <th></th>\n",
       "      <th>index</th>\n",
       "      <th>id</th>\n",
       "      <th>name</th>\n",
       "      <th>date</th>\n",
       "      <th>record_identifier</th>\n",
       "      <th>status_of_system</th>\n",
       "      <th>latitude</th>\n",
       "      <th>longitude</th>\n",
       "      <th>maximum_sustained_wind_knots</th>\n",
       "      <th>maximum_pressure</th>\n",
       "    </tr>\n",
       "  </thead>\n",
       "  <tbody>\n",
       "    <tr>\n",
       "      <th>0</th>\n",
       "      <td>37937</td>\n",
       "      <td>AL041992</td>\n",
       "      <td>ANDREW</td>\n",
       "      <td>8/16/1992 18:00</td>\n",
       "      <td>NaN</td>\n",
       "      <td>TD</td>\n",
       "      <td>10.8</td>\n",
       "      <td>-35.5</td>\n",
       "      <td>25</td>\n",
       "      <td>1010</td>\n",
       "    </tr>\n",
       "    <tr>\n",
       "      <th>1</th>\n",
       "      <td>37938</td>\n",
       "      <td>AL041992</td>\n",
       "      <td>ANDREW</td>\n",
       "      <td>8/17/1992 0:00</td>\n",
       "      <td>NaN</td>\n",
       "      <td>TD</td>\n",
       "      <td>11.2</td>\n",
       "      <td>-37.4</td>\n",
       "      <td>30</td>\n",
       "      <td>1009</td>\n",
       "    </tr>\n",
       "    <tr>\n",
       "      <th>2</th>\n",
       "      <td>37939</td>\n",
       "      <td>AL041992</td>\n",
       "      <td>ANDREW</td>\n",
       "      <td>8/17/1992 6:00</td>\n",
       "      <td>NaN</td>\n",
       "      <td>TD</td>\n",
       "      <td>11.7</td>\n",
       "      <td>-39.6</td>\n",
       "      <td>30</td>\n",
       "      <td>1008</td>\n",
       "    </tr>\n",
       "    <tr>\n",
       "      <th>3</th>\n",
       "      <td>37940</td>\n",
       "      <td>AL041992</td>\n",
       "      <td>ANDREW</td>\n",
       "      <td>8/17/1992 12:00</td>\n",
       "      <td>NaN</td>\n",
       "      <td>TS</td>\n",
       "      <td>12.3</td>\n",
       "      <td>-42.0</td>\n",
       "      <td>35</td>\n",
       "      <td>1006</td>\n",
       "    </tr>\n",
       "    <tr>\n",
       "      <th>4</th>\n",
       "      <td>37941</td>\n",
       "      <td>AL041992</td>\n",
       "      <td>ANDREW</td>\n",
       "      <td>8/17/1992 18:00</td>\n",
       "      <td>NaN</td>\n",
       "      <td>TS</td>\n",
       "      <td>13.1</td>\n",
       "      <td>-44.2</td>\n",
       "      <td>35</td>\n",
       "      <td>1003</td>\n",
       "    </tr>\n",
       "  </tbody>\n",
       "</table>\n",
       "</div>"
      ],
      "text/plain": [
       "   index        id    name             date record_identifier  \\\n",
       "0  37937  AL041992  ANDREW  8/16/1992 18:00               NaN   \n",
       "1  37938  AL041992  ANDREW   8/17/1992 0:00               NaN   \n",
       "2  37939  AL041992  ANDREW   8/17/1992 6:00               NaN   \n",
       "3  37940  AL041992  ANDREW  8/17/1992 12:00               NaN   \n",
       "4  37941  AL041992  ANDREW  8/17/1992 18:00               NaN   \n",
       "\n",
       "  status_of_system  latitude  longitude  maximum_sustained_wind_knots  \\\n",
       "0               TD      10.8      -35.5                            25   \n",
       "1               TD      11.2      -37.4                            30   \n",
       "2               TD      11.7      -39.6                            30   \n",
       "3               TS      12.3      -42.0                            35   \n",
       "4               TS      13.1      -44.2                            35   \n",
       "\n",
       "   maximum_pressure  \n",
       "0              1010  \n",
       "1              1009  \n",
       "2              1008  \n",
       "3              1006  \n",
       "4              1003  "
      ]
     },
     "execution_count": 58,
     "metadata": {},
     "output_type": "execute_result"
    }
   ],
   "source": [
    "#print the data\n",
    "HUR_Andrew_df.head()"
   ]
  },
  {
   "cell_type": "code",
   "execution_count": 12,
   "id": "2c4b32cb-f2e8-49fd-981c-5699b739e9d1",
   "metadata": {},
   "outputs": [],
   "source": [
    "\n",
    "\n",
    "# convert just columns \"a\" and \"b\"\n",
    "HUR_Andrew_df[['latitude', 'longitude']] = HUR_Andrew_df[['latitude', 'longitude']].apply(pd.to_numeric)\n",
    "\n",
    "HUR_Andrew_df = HUR_Andrew_df.infer_objects()\n",
    "\n",
    "HUR_Andrew_df.dtypes\n",
    "\n",
    "HUR_Andrew_df['lat/long'] = HUR_Andrew_df['latitude'].astype(str) + \",\" + HUR_Andrew_df['longitude'].astype(str) "
   ]
  },
  {
   "cell_type": "code",
   "execution_count": 13,
   "id": "36d0e112-7f16-4314-b1fd-e44a28fb521c",
   "metadata": {},
   "outputs": [
    {
     "data": {
      "text/plain": [
       "0    24.4,-64.2\n",
       "1    24.8,-64.9\n",
       "2    25.3,-65.9\n",
       "Name: lat/long, dtype: object"
      ]
     },
     "execution_count": 13,
     "metadata": {},
     "output_type": "execute_result"
    }
   ],
   "source": [
    "HUR_Andrew_df['lat/long'].head(3)"
   ]
  },
  {
   "cell_type": "code",
   "execution_count": 11,
   "id": "dcb7cc5c-45e7-42ca-9fe8-a05bbc8b7b49",
   "metadata": {},
   "outputs": [
    {
     "data": {
      "text/html": [
       "<div>\n",
       "<style scoped>\n",
       "    .dataframe tbody tr th:only-of-type {\n",
       "        vertical-align: middle;\n",
       "    }\n",
       "\n",
       "    .dataframe tbody tr th {\n",
       "        vertical-align: top;\n",
       "    }\n",
       "\n",
       "    .dataframe thead th {\n",
       "        text-align: right;\n",
       "    }\n",
       "</style>\n",
       "<table border=\"1\" class=\"dataframe\">\n",
       "  <thead>\n",
       "    <tr style=\"text-align: right;\">\n",
       "      <th></th>\n",
       "      <th>date</th>\n",
       "      <th>record_identifier</th>\n",
       "      <th>status_of_system</th>\n",
       "      <th>latitude</th>\n",
       "      <th>longitude</th>\n",
       "      <th>maximum_sustained_wind_knots</th>\n",
       "      <th>Max kPH (1.85)</th>\n",
       "      <th>maximum_pressure</th>\n",
       "      <th>Velocity</th>\n",
       "      <th>damage ratio</th>\n",
       "      <th>lat/long</th>\n",
       "    </tr>\n",
       "  </thead>\n",
       "  <tbody>\n",
       "    <tr>\n",
       "      <th>0</th>\n",
       "      <td>8/21/1992 12:00</td>\n",
       "      <td>NaN</td>\n",
       "      <td>TS</td>\n",
       "      <td>24.4</td>\n",
       "      <td>-64.2</td>\n",
       "      <td>50</td>\n",
       "      <td>92.50</td>\n",
       "      <td>1007</td>\n",
       "      <td>0.002809</td>\n",
       "      <td>2.216410e-08</td>\n",
       "      <td>24.4,-64.2</td>\n",
       "    </tr>\n",
       "    <tr>\n",
       "      <th>1</th>\n",
       "      <td>8/21/1992 18:00</td>\n",
       "      <td>NaN</td>\n",
       "      <td>TS</td>\n",
       "      <td>24.8</td>\n",
       "      <td>-64.9</td>\n",
       "      <td>50</td>\n",
       "      <td>92.50</td>\n",
       "      <td>1004</td>\n",
       "      <td>0.002809</td>\n",
       "      <td>2.216410e-08</td>\n",
       "      <td>24.8,-64.9</td>\n",
       "    </tr>\n",
       "    <tr>\n",
       "      <th>2</th>\n",
       "      <td>8/22/1992 0:00</td>\n",
       "      <td>NaN</td>\n",
       "      <td>TS</td>\n",
       "      <td>25.3</td>\n",
       "      <td>-65.9</td>\n",
       "      <td>55</td>\n",
       "      <td>101.75</td>\n",
       "      <td>1000</td>\n",
       "      <td>0.054775</td>\n",
       "      <td>1.643170e-04</td>\n",
       "      <td>25.3,-65.9</td>\n",
       "    </tr>\n",
       "    <tr>\n",
       "      <th>3</th>\n",
       "      <td>8/22/1992 6:00</td>\n",
       "      <td>NaN</td>\n",
       "      <td>HU</td>\n",
       "      <td>25.6</td>\n",
       "      <td>-67.0</td>\n",
       "      <td>65</td>\n",
       "      <td>120.25</td>\n",
       "      <td>994</td>\n",
       "      <td>0.158708</td>\n",
       "      <td>3.981646e-03</td>\n",
       "      <td>25.6,-67.0</td>\n",
       "    </tr>\n",
       "    <tr>\n",
       "      <th>4</th>\n",
       "      <td>8/22/1992 12:00</td>\n",
       "      <td>NaN</td>\n",
       "      <td>HU</td>\n",
       "      <td>25.8</td>\n",
       "      <td>-68.3</td>\n",
       "      <td>80</td>\n",
       "      <td>148.00</td>\n",
       "      <td>981</td>\n",
       "      <td>0.314607</td>\n",
       "      <td>3.019860e-02</td>\n",
       "      <td>25.8,-68.3</td>\n",
       "    </tr>\n",
       "  </tbody>\n",
       "</table>\n",
       "</div>"
      ],
      "text/plain": [
       "              date record_identifier status_of_system  latitude  longitude  \\\n",
       "0  8/21/1992 12:00               NaN               TS      24.4      -64.2   \n",
       "1  8/21/1992 18:00               NaN               TS      24.8      -64.9   \n",
       "2   8/22/1992 0:00               NaN               TS      25.3      -65.9   \n",
       "3   8/22/1992 6:00               NaN               HU      25.6      -67.0   \n",
       "4  8/22/1992 12:00               NaN               HU      25.8      -68.3   \n",
       "\n",
       "   maximum_sustained_wind_knots  Max kPH (1.85)  maximum_pressure  Velocity  \\\n",
       "0                            50           92.50              1007  0.002809   \n",
       "1                            50           92.50              1004  0.002809   \n",
       "2                            55          101.75              1000  0.054775   \n",
       "3                            65          120.25               994  0.158708   \n",
       "4                            80          148.00               981  0.314607   \n",
       "\n",
       "   damage ratio    lat/long  \n",
       "0  2.216410e-08  24.4,-64.2  \n",
       "1  2.216410e-08  24.8,-64.9  \n",
       "2  1.643170e-04  25.3,-65.9  \n",
       "3  3.981646e-03  25.6,-67.0  \n",
       "4  3.019860e-02  25.8,-68.3  "
      ]
     },
     "execution_count": 11,
     "metadata": {},
     "output_type": "execute_result"
    }
   ],
   "source": [
    "#Subset_df = HUR_df.dropna(subset=['record_identifier'])\n",
    "#Subset_df\n",
    "HUR_Andrew_df.head()"
   ]
  },
  {
   "cell_type": "code",
   "execution_count": 7,
   "id": "b97bd2da-74cb-4d66-bfcb-2cfac5983246",
   "metadata": {},
   "outputs": [],
   "source": [
    "from geopy.extra.rate_limiter import RateLimiter\n",
    "geocode = RateLimiter(geolocator.geocode, min_delay_seconds=1)"
   ]
  },
  {
   "cell_type": "code",
   "execution_count": 14,
   "id": "236a35cf-1a8c-4777-925c-b732e4d64752",
   "metadata": {},
   "outputs": [
    {
     "ename": "ValueError",
     "evalue": "Must be a coordinate pair or Point",
     "output_type": "error",
     "traceback": [
      "\u001b[1;31m---------------------------------------------------------------------------\u001b[0m",
      "\u001b[1;31mValueError\u001b[0m                                Traceback (most recent call last)",
      "\u001b[1;32m~\\anaconda3\\lib\\site-packages\\geopy\\geocoders\\nominatim.py\u001b[0m in \u001b[0;36mreverse\u001b[1;34m(self, query, exactly_one, timeout, language, addressdetails, zoom)\u001b[0m\n\u001b[0;32m    342\u001b[0m         \u001b[1;32mtry\u001b[0m\u001b[1;33m:\u001b[0m\u001b[1;33m\u001b[0m\u001b[1;33m\u001b[0m\u001b[0m\n\u001b[1;32m--> 343\u001b[1;33m             \u001b[0mlat\u001b[0m\u001b[1;33m,\u001b[0m \u001b[0mlon\u001b[0m \u001b[1;33m=\u001b[0m \u001b[0mself\u001b[0m\u001b[1;33m.\u001b[0m\u001b[0m_coerce_point_to_string\u001b[0m\u001b[1;33m(\u001b[0m\u001b[0mquery\u001b[0m\u001b[1;33m)\u001b[0m\u001b[1;33m.\u001b[0m\u001b[0msplit\u001b[0m\u001b[1;33m(\u001b[0m\u001b[1;34m','\u001b[0m\u001b[1;33m)\u001b[0m\u001b[1;33m\u001b[0m\u001b[1;33m\u001b[0m\u001b[0m\n\u001b[0m\u001b[0;32m    344\u001b[0m         \u001b[1;32mexcept\u001b[0m \u001b[0mValueError\u001b[0m\u001b[1;33m:\u001b[0m\u001b[1;33m\u001b[0m\u001b[1;33m\u001b[0m\u001b[0m\n",
      "\u001b[1;32m~\\anaconda3\\lib\\site-packages\\geopy\\geocoders\\base.py\u001b[0m in \u001b[0;36m_coerce_point_to_string\u001b[1;34m(self, point, output_format)\u001b[0m\n\u001b[0;32m    299\u001b[0m         \u001b[1;32mif\u001b[0m \u001b[1;32mnot\u001b[0m \u001b[0misinstance\u001b[0m\u001b[1;33m(\u001b[0m\u001b[0mpoint\u001b[0m\u001b[1;33m,\u001b[0m \u001b[0mPoint\u001b[0m\u001b[1;33m)\u001b[0m\u001b[1;33m:\u001b[0m\u001b[1;33m\u001b[0m\u001b[1;33m\u001b[0m\u001b[0m\n\u001b[1;32m--> 300\u001b[1;33m             \u001b[0mpoint\u001b[0m \u001b[1;33m=\u001b[0m \u001b[0mPoint\u001b[0m\u001b[1;33m(\u001b[0m\u001b[0mpoint\u001b[0m\u001b[1;33m)\u001b[0m\u001b[1;33m\u001b[0m\u001b[1;33m\u001b[0m\u001b[0m\n\u001b[0m\u001b[0;32m    301\u001b[0m \u001b[1;33m\u001b[0m\u001b[0m\n",
      "\u001b[1;32m~\\anaconda3\\lib\\site-packages\\geopy\\point.py\u001b[0m in \u001b[0;36m__new__\u001b[1;34m(cls, latitude, longitude, altitude)\u001b[0m\n\u001b[0;32m    174\u001b[0m                 \u001b[1;32melse\u001b[0m\u001b[1;33m:\u001b[0m\u001b[1;33m\u001b[0m\u001b[1;33m\u001b[0m\u001b[0m\n\u001b[1;32m--> 175\u001b[1;33m                     \u001b[1;32mreturn\u001b[0m \u001b[0mcls\u001b[0m\u001b[1;33m.\u001b[0m\u001b[0mfrom_sequence\u001b[0m\u001b[1;33m(\u001b[0m\u001b[0mseq\u001b[0m\u001b[1;33m)\u001b[0m\u001b[1;33m\u001b[0m\u001b[1;33m\u001b[0m\u001b[0m\n\u001b[0m\u001b[0;32m    176\u001b[0m \u001b[1;33m\u001b[0m\u001b[0m\n",
      "\u001b[1;32m~\\anaconda3\\lib\\site-packages\\geopy\\point.py\u001b[0m in \u001b[0;36mfrom_sequence\u001b[1;34m(cls, seq)\u001b[0m\n\u001b[0;32m    469\u001b[0m         \u001b[1;32mif\u001b[0m \u001b[0mlen\u001b[0m\u001b[1;33m(\u001b[0m\u001b[0margs\u001b[0m\u001b[1;33m)\u001b[0m \u001b[1;33m>\u001b[0m \u001b[1;36m3\u001b[0m\u001b[1;33m:\u001b[0m\u001b[1;33m\u001b[0m\u001b[1;33m\u001b[0m\u001b[0m\n\u001b[1;32m--> 470\u001b[1;33m             raise ValueError('When creating a Point from sequence, it '\n\u001b[0m\u001b[0;32m    471\u001b[0m                              'must not have more than 3 items.')\n",
      "\u001b[1;31mValueError\u001b[0m: When creating a Point from sequence, it must not have more than 3 items.",
      "\nDuring handling of the above exception, another exception occurred:\n",
      "\u001b[1;31mValueError\u001b[0m                                Traceback (most recent call last)",
      "\u001b[1;32m<ipython-input-14-6cc8a7130ca7>\u001b[0m in \u001b[0;36m<module>\u001b[1;34m\u001b[0m\n\u001b[1;32m----> 1\u001b[1;33m \u001b[0maddress\u001b[0m \u001b[1;33m=\u001b[0m \u001b[0mgeolocator\u001b[0m\u001b[1;33m.\u001b[0m\u001b[0mreverse\u001b[0m\u001b[1;33m(\u001b[0m\u001b[0mHUR_Andrew_df\u001b[0m\u001b[1;33m[\u001b[0m\u001b[1;34m'lat/long'\u001b[0m\u001b[1;33m]\u001b[0m\u001b[1;33m)\u001b[0m\u001b[1;33m\u001b[0m\u001b[1;33m\u001b[0m\u001b[0m\n\u001b[0m\u001b[0;32m      2\u001b[0m \u001b[0mprint\u001b[0m\u001b[1;33m(\u001b[0m\u001b[0maddress\u001b[0m\u001b[1;33m)\u001b[0m\u001b[1;33m\u001b[0m\u001b[1;33m\u001b[0m\u001b[0m\n",
      "\u001b[1;32m~\\anaconda3\\lib\\site-packages\\geopy\\geocoders\\nominatim.py\u001b[0m in \u001b[0;36mreverse\u001b[1;34m(self, query, exactly_one, timeout, language, addressdetails, zoom)\u001b[0m\n\u001b[0;32m    343\u001b[0m             \u001b[0mlat\u001b[0m\u001b[1;33m,\u001b[0m \u001b[0mlon\u001b[0m \u001b[1;33m=\u001b[0m \u001b[0mself\u001b[0m\u001b[1;33m.\u001b[0m\u001b[0m_coerce_point_to_string\u001b[0m\u001b[1;33m(\u001b[0m\u001b[0mquery\u001b[0m\u001b[1;33m)\u001b[0m\u001b[1;33m.\u001b[0m\u001b[0msplit\u001b[0m\u001b[1;33m(\u001b[0m\u001b[1;34m','\u001b[0m\u001b[1;33m)\u001b[0m\u001b[1;33m\u001b[0m\u001b[1;33m\u001b[0m\u001b[0m\n\u001b[0;32m    344\u001b[0m         \u001b[1;32mexcept\u001b[0m \u001b[0mValueError\u001b[0m\u001b[1;33m:\u001b[0m\u001b[1;33m\u001b[0m\u001b[1;33m\u001b[0m\u001b[0m\n\u001b[1;32m--> 345\u001b[1;33m             \u001b[1;32mraise\u001b[0m \u001b[0mValueError\u001b[0m\u001b[1;33m(\u001b[0m\u001b[1;34m\"Must be a coordinate pair or Point\"\u001b[0m\u001b[1;33m)\u001b[0m\u001b[1;33m\u001b[0m\u001b[1;33m\u001b[0m\u001b[0m\n\u001b[0m\u001b[0;32m    346\u001b[0m         params = {\n\u001b[0;32m    347\u001b[0m             \u001b[1;34m'lat'\u001b[0m\u001b[1;33m:\u001b[0m \u001b[0mlat\u001b[0m\u001b[1;33m,\u001b[0m\u001b[1;33m\u001b[0m\u001b[1;33m\u001b[0m\u001b[0m\n",
      "\u001b[1;31mValueError\u001b[0m: Must be a coordinate pair or Point"
     ]
    }
   ],
   "source": [
    "address = geolocator.reverse(HUR_Andrew_df['lat/long'])\n",
    "print(address)"
   ]
  },
  {
   "cell_type": "code",
   "execution_count": 34,
   "id": "c782edfd-cd50-4a72-a427-014410b0306b",
   "metadata": {},
   "outputs": [],
   "source": [
    "address_list = []\n",
    "address = \"\"\n",
    "counter = 0\n",
    "for row in Subset_df['lat/long']:\n",
    "    address = geolocator.reverse(row)\n",
    "    address_list.append(address)\n",
    "    \n",
    "    #if location = geolocator.reverse(HUR_df['lat/long']).apply(geolocator.reverse,timeout=1000000)"
   ]
  },
  {
   "cell_type": "code",
   "execution_count": 37,
   "id": "159b213b-b18e-4eca-bf5e-39d02d74e16c",
   "metadata": {},
   "outputs": [],
   "source": [
    "Subset_df['address'] = address_list"
   ]
  },
  {
   "cell_type": "code",
   "execution_count": 38,
   "id": "3e58fe89-77fd-4e20-a89e-aa93f5ba095c",
   "metadata": {},
   "outputs": [
    {
     "data": {
      "text/html": [
       "<div>\n",
       "<style scoped>\n",
       "    .dataframe tbody tr th:only-of-type {\n",
       "        vertical-align: middle;\n",
       "    }\n",
       "\n",
       "    .dataframe tbody tr th {\n",
       "        vertical-align: top;\n",
       "    }\n",
       "\n",
       "    .dataframe thead th {\n",
       "        text-align: right;\n",
       "    }\n",
       "</style>\n",
       "<table border=\"1\" class=\"dataframe\">\n",
       "  <thead>\n",
       "    <tr style=\"text-align: right;\">\n",
       "      <th></th>\n",
       "      <th>index</th>\n",
       "      <th>id</th>\n",
       "      <th>name</th>\n",
       "      <th>date</th>\n",
       "      <th>record_identifier</th>\n",
       "      <th>status_of_system</th>\n",
       "      <th>latitude</th>\n",
       "      <th>longitude</th>\n",
       "      <th>maximum_sustained_wind_knots</th>\n",
       "      <th>maximum_pressure</th>\n",
       "      <th>lat/long</th>\n",
       "      <th>address</th>\n",
       "    </tr>\n",
       "  </thead>\n",
       "  <tbody>\n",
       "    <tr>\n",
       "      <th>29</th>\n",
       "      <td>37966</td>\n",
       "      <td>AL041992</td>\n",
       "      <td>ANDREW</td>\n",
       "      <td>8/23/1992 21:00</td>\n",
       "      <td>L</td>\n",
       "      <td>HU</td>\n",
       "      <td>25.4</td>\n",
       "      <td>-76.6</td>\n",
       "      <td>140</td>\n",
       "      <td>923</td>\n",
       "      <td>25.4,-76.6</td>\n",
       "      <td>(Bermuda Triangle, (22.1200939, -69.4578541652...</td>\n",
       "    </tr>\n",
       "    <tr>\n",
       "      <th>31</th>\n",
       "      <td>37968</td>\n",
       "      <td>AL041992</td>\n",
       "      <td>ANDREW</td>\n",
       "      <td>8/24/1992 1:00</td>\n",
       "      <td>L</td>\n",
       "      <td>HU</td>\n",
       "      <td>25.4</td>\n",
       "      <td>-77.8</td>\n",
       "      <td>130</td>\n",
       "      <td>931</td>\n",
       "      <td>25.4,-77.8</td>\n",
       "      <td>(Berry Islands, The Bahamas, (25.3992426, -77....</td>\n",
       "    </tr>\n",
       "  </tbody>\n",
       "</table>\n",
       "</div>"
      ],
      "text/plain": [
       "    index        id    name             date record_identifier  \\\n",
       "29  37966  AL041992  ANDREW  8/23/1992 21:00                 L   \n",
       "31  37968  AL041992  ANDREW   8/24/1992 1:00                 L   \n",
       "\n",
       "   status_of_system  latitude  longitude  maximum_sustained_wind_knots  \\\n",
       "29               HU      25.4      -76.6                           140   \n",
       "31               HU      25.4      -77.8                           130   \n",
       "\n",
       "    maximum_pressure    lat/long  \\\n",
       "29               923  25.4,-76.6   \n",
       "31               931  25.4,-77.8   \n",
       "\n",
       "                                              address  \n",
       "29  (Bermuda Triangle, (22.1200939, -69.4578541652...  \n",
       "31  (Berry Islands, The Bahamas, (25.3992426, -77....  "
      ]
     },
     "execution_count": 38,
     "metadata": {},
     "output_type": "execute_result"
    }
   ],
   "source": [
    "Subset_df.head(2)"
   ]
  },
  {
   "cell_type": "code",
   "execution_count": 41,
   "id": "fad8bb6b-f4f5-47d4-8959-7c01fad039e3",
   "metadata": {},
   "outputs": [],
   "source": [
    "Subset_df.to_csv('HUR_Andrew_92_reverse_geo2.csv')"
   ]
  },
  {
   "cell_type": "code",
   "execution_count": 40,
   "id": "729186cc-c7de-4308-bfe9-84f9fccd0fa1",
   "metadata": {},
   "outputs": [
    {
     "name": "stdout",
     "output_type": "stream",
     "text": [
      "None\n"
     ]
    }
   ],
   "source": [
    "print(geolocator.reverse(HUR_df['lat/long'][5]))"
   ]
  },
  {
   "cell_type": "code",
   "execution_count": 17,
   "id": "bfb96260-a553-4bd4-9a85-5a1ad3b6761e",
   "metadata": {},
   "outputs": [
    {
     "ename": "NameError",
     "evalue": "name 'DEFAULT_SENTINEL' is not defined",
     "output_type": "error",
     "traceback": [
      "\u001b[1;31m---------------------------------------------------------------------------\u001b[0m",
      "\u001b[1;31mNameError\u001b[0m                                 Traceback (most recent call last)",
      "\u001b[1;32m<ipython-input-17-f4d95cb17968>\u001b[0m in \u001b[0;36m<module>\u001b[1;34m\u001b[0m\n\u001b[0;32m      5\u001b[0m \u001b[0mcoords\u001b[0m\u001b[1;33m=\u001b[0m\u001b[0mlist\u001b[0m\u001b[1;33m(\u001b[0m\u001b[0mzip\u001b[0m\u001b[1;33m(\u001b[0m\u001b[0mlats\u001b[0m\u001b[1;33m,\u001b[0m\u001b[0mlons\u001b[0m\u001b[1;33m)\u001b[0m\u001b[1;33m)\u001b[0m\u001b[1;33m\u001b[0m\u001b[1;33m\u001b[0m\u001b[0m\n\u001b[0;32m      6\u001b[0m \u001b[1;33m\u001b[0m\u001b[0m\n\u001b[1;32m----> 7\u001b[1;33m \u001b[0mlocation\u001b[0m \u001b[1;33m=\u001b[0m \u001b[0mgeolocator\u001b[0m\u001b[1;33m.\u001b[0m\u001b[0mreverse\u001b[0m\u001b[1;33m(\u001b[0m\u001b[0mHUR_df\u001b[0m\u001b[1;33m[\u001b[0m\u001b[1;34m'lat/long'\u001b[0m\u001b[1;33m]\u001b[0m\u001b[1;33m,\u001b[0m\u001b[0mlanguage\u001b[0m\u001b[1;33m=\u001b[0m\u001b[1;32mNone\u001b[0m\u001b[1;33m,\u001b[0m \u001b[0mexactly_one\u001b[0m\u001b[1;33m=\u001b[0m\u001b[1;32mTrue\u001b[0m\u001b[1;33m,\u001b[0m \u001b[0mtimeout\u001b[0m\u001b[1;33m=\u001b[0m\u001b[0mDEFAULT_SENTINEL\u001b[0m\u001b[1;33m)\u001b[0m\u001b[1;33m\u001b[0m\u001b[1;33m\u001b[0m\u001b[0m\n\u001b[0m\u001b[0;32m      8\u001b[0m \u001b[0mprint\u001b[0m\u001b[1;33m(\u001b[0m\u001b[0mlocation\u001b[0m\u001b[1;33m.\u001b[0m\u001b[0maddress\u001b[0m\u001b[1;33m)\u001b[0m\u001b[1;33m\u001b[0m\u001b[1;33m\u001b[0m\u001b[0m\n\u001b[0;32m      9\u001b[0m \u001b[1;33m\u001b[0m\u001b[0m\n",
      "\u001b[1;31mNameError\u001b[0m: name 'DEFAULT_SENTINEL' is not defined"
     ]
    }
   ],
   "source": [
    "import functools\n",
    "\n",
    "lats=HUR_df['latitude'].to_list()\n",
    "lons=HUR_df['longitude'].to_list()\n",
    "coords=list(zip(lats,lons))\n",
    "\n",
    "location = geolocator.reverse(HUR_df['lat/long'],language=None, exactly_one=True, timeout=DEFAULT_SENTINEL)\n",
    "print(location.address)\n",
    "\n",
    "#HUR_df[\"location\"]=geolocator.reverse(HUR_df['lat/long'][0])\n",
    "\n",
    "#location = geolocator.reverse(f'{coords[0],coords[1]}')\n",
    "#print(location.address)\n",
    "\n",
    "#location = geolocator.reverse(HUR_df[['latitude', 'longitude']])"
   ]
  },
  {
   "cell_type": "code",
   "execution_count": null,
   "id": "f51182ab-1d6f-4ea5-8862-468c170dfeaf",
   "metadata": {},
   "outputs": [],
   "source": [
    "HUR_data.head(2)"
   ]
  },
  {
   "cell_type": "markdown",
   "id": "91267baa-976f-4227-9563-e8d43e9a2119",
   "metadata": {},
   "source": []
  },
  {
   "cell_type": "code",
   "execution_count": null,
   "id": "495ddd94-f1dd-4cb5-9226-f658676ea4d4",
   "metadata": {},
   "outputs": [],
   "source": [
    "lats=HUR_data['latitude'].to_list()\n",
    "lons=HUR_data['longitude'].to_list()\n",
    "coords=list(zip(lats,lons))\n",
    "\n",
    "from geopy.geocoders import Nominatim\n",
    "geolocator = Nominatim(user_agent=\"Google map\")\n",
    "location = geolocator.reverse()\n",
    "location.raw['display_name']\n",
    "print(location)"
   ]
  },
  {
   "cell_type": "code",
   "execution_count": null,
   "id": "5099b478-cfd4-43b2-92df-e56d5dc6f588",
   "metadata": {},
   "outputs": [],
   "source": [
    "#lats=data['Latitude'].to_list()\n",
    "#lons=data['Longitude'].to_list()\n",
    "#coords=list(zip(lats,lons))\n",
    "\n",
    "def reverseGeocode(coords):\n",
    "    result = rg.search(28,-94)\n",
    "    \n",
    "    pprint.pprint(result)\n",
    "    result"
   ]
  },
  {
   "cell_type": "code",
   "execution_count": null,
   "id": "76ff27a6-f279-45be-869d-349e19ec53c4",
   "metadata": {},
   "outputs": [],
   "source": [
    "\n",
    "from geopy.geocoders import Nominatim\n",
    "geolocator = Nominatim(user_agent=\"test_app\")  # enter a name for your app\n",
    "full_address=[]\n",
    "for i in coords:\n",
    "    location = geolocator.reverse(\"29,-99.4\")\n",
    "    address=location.raw['display_name']\n",
    "    full_address.append(address)"
   ]
  },
  {
   "cell_type": "code",
   "execution_count": null,
   "id": "9d0c026c-bbdb-4185-b49f-eda46677564f",
   "metadata": {},
   "outputs": [],
   "source": [
    "location = coords.reverse()\n",
    "location.raw\n",
    "# returns geopy Location object"
   ]
  },
  {
   "cell_type": "code",
   "execution_count": null,
   "id": "65098452-d812-47cb-8239-3d88d8b93105",
   "metadata": {},
   "outputs": [],
   "source": [
    "full_address=[]\n",
    "for i in coords:\n",
    "    location = geolocator.reverse(coords[i])\n",
    "    address=location.raw['display_name']\n",
    "    full_address.append(address)"
   ]
  },
  {
   "cell_type": "code",
   "execution_count": null,
   "id": "9e070ff1-0b39-4316-91d9-d311ba869f2d",
   "metadata": {},
   "outputs": [],
   "source": []
  },
  {
   "cell_type": "code",
   "execution_count": null,
   "id": "5052e35b-a46e-4ff5-a877-9ebd2b4fb214",
   "metadata": {},
   "outputs": [],
   "source": [
    "add=pd.DataFrame(data=full_address , columns=['Address'])\n",
    "add"
   ]
  },
  {
   "cell_type": "code",
   "execution_count": null,
   "id": "24c8ccb9-7bf6-4e68-b5ec-4957633acb5a",
   "metadata": {},
   "outputs": [],
   "source": []
  }
 ],
 "metadata": {
  "kernelspec": {
   "display_name": "Python 3",
   "language": "python",
   "name": "python3"
  },
  "language_info": {
   "codemirror_mode": {
    "name": "ipython",
    "version": 3
   },
   "file_extension": ".py",
   "mimetype": "text/x-python",
   "name": "python",
   "nbconvert_exporter": "python",
   "pygments_lexer": "ipython3",
   "version": "3.8.8"
  }
 },
 "nbformat": 4,
 "nbformat_minor": 5
}
