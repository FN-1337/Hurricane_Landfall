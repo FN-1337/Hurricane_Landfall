{
 "cells": [
  {
   "cell_type": "code",
   "execution_count": 1,
   "id": "68f6d04a-8ffe-46fe-ab7f-0f07437606e2",
   "metadata": {},
   "outputs": [
    {
     "data": {
      "text/html": [
       "\n",
       "        <iframe\n",
       "            width=\"900\"\n",
       "            height=\"600\"\n",
       "            src=\"http://www.nhc.noaa.gov/data/hurdat/hurdat2-format-atlantic.pdf\"\n",
       "            frameborder=\"0\"\n",
       "            allowfullscreen\n",
       "        ></iframe>\n",
       "        "
      ],
      "text/plain": [
       "<IPython.lib.display.IFrame at 0x21c8a14ed90>"
      ]
     },
     "execution_count": 1,
     "metadata": {},
     "output_type": "execute_result"
    }
   ],
   "source": [
    "from IPython.display import IFrame\n",
    "IFrame(\"http://www.nhc.noaa.gov/data/hurdat/hurdat2-format-atlantic.pdf\", width=900, height=600)"
   ]
  },
  {
   "cell_type": "code",
   "execution_count": 14,
   "id": "74e197d7-d7ee-49ec-8ff4-633932cace08",
   "metadata": {},
   "outputs": [],
   "source": [
    "import io\n",
    "from collections import Counter\n",
    "\n",
    "c = Counter()\n",
    "for line in io.StringIO(atlantic_raw.text).readlines():\n",
    "    c[line[:2]] += 1"
   ]
  },
  {
   "cell_type": "code",
   "execution_count": 15,
   "id": "5447c0fc-e827-4ac2-82e1-27ac06e77416",
   "metadata": {},
   "outputs": [
    {
     "data": {
      "text/plain": [
       "Counter({'\\n': 49,\n",
       "         ' \\n': 5,\n",
       "         '  ': 345,\n",
       "         '<!': 7,\n",
       "         '<h': 2,\n",
       "         'pr': 1,\n",
       "         'in': 1,\n",
       "         '<s': 1,\n",
       "         '</': 3,\n",
       "         '<p': 2,\n",
       "         'Th': 1,\n",
       "         'Pe': 1,\n",
       "         'We': 1,\n",
       "         '<u': 1,\n",
       "         '\\t<': 1,\n",
       "         ' \\t': 1,\n",
       "         '\\t\\n': 1})"
      ]
     },
     "execution_count": 15,
     "metadata": {},
     "output_type": "execute_result"
    }
   ],
   "source": [
    "c"
   ]
  },
  {
   "cell_type": "code",
   "execution_count": 16,
   "id": "e827d4e4-59ef-4661-882a-850d22a20c48",
   "metadata": {},
   "outputs": [],
   "source": [
    "import io\n",
    "\n",
    "atlantic_storms_r = []\n",
    "atlantic_storm_r = {'header': None, 'data': []}\n",
    "\n",
    "for i, line in enumerate(io.StringIO(atlantic_raw.text).readlines()):\n",
    "    if line[:2] == 'AL':\n",
    "        atlantic_storms_r.append(atlantic_storm_r.copy())\n",
    "        atlantic_storm_r['header'] = line\n",
    "        atlantic_storm_r['data'] = []\n",
    "    else:\n",
    "        atlantic_storm_r['data'].append(line)\n",
    "\n",
    "atlantic_storms_r = atlantic_storms_r[1:]"
   ]
  },
  {
   "cell_type": "code",
   "execution_count": 17,
   "id": "da89672d-03a7-437a-821a-6e0be3e3398d",
   "metadata": {},
   "outputs": [
    {
     "data": {
      "text/plain": [
       "0"
      ]
     },
     "execution_count": 17,
     "metadata": {},
     "output_type": "execute_result"
    }
   ],
   "source": [
    "\n",
    "len(atlantic_storms_r)"
   ]
  },
  {
   "cell_type": "code",
   "execution_count": null,
   "id": "ade13383-9e66-464f-af47-79b5ef3e5fa2",
   "metadata": {},
   "outputs": [],
   "source": []
  },
  {
   "cell_type": "code",
   "execution_count": null,
   "id": "136c868f-37b6-40c4-9aeb-e1ef8d2b880a",
   "metadata": {},
   "outputs": [],
   "source": []
  }
 ],
 "metadata": {
  "kernelspec": {
   "display_name": "Python 3",
   "language": "python",
   "name": "python3"
  },
  "language_info": {
   "codemirror_mode": {
    "name": "ipython",
    "version": 3
   },
   "file_extension": ".py",
   "mimetype": "text/x-python",
   "name": "python",
   "nbconvert_exporter": "python",
   "pygments_lexer": "ipython3",
   "version": "3.8.8"
  }
 },
 "nbformat": 4,
 "nbformat_minor": 5
}
