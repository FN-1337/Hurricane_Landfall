{
 "cells": [
  {
   "cell_type": "code",
   "execution_count": 1,
   "id": "43cc44d2-5232-448b-8978-62afe03bd8db",
   "metadata": {},
   "outputs": [],
   "source": [
    "test = 0\n",
    "tester = 'Fintech'"
   ]
  },
  {
   "cell_type": "code",
   "execution_count": 2,
   "id": "5274ad8b-bb6a-471a-bd4b-bef3c7085e3b",
   "metadata": {},
   "outputs": [
    {
     "data": {
      "text/plain": [
       "0"
      ]
     },
     "execution_count": 2,
     "metadata": {},
     "output_type": "execute_result"
    }
   ],
   "source": [
    "test"
   ]
  },
  {
   "cell_type": "code",
   "execution_count": 3,
   "id": "3b565c78-4d7b-4838-bbf6-9dfb14f0d26e",
   "metadata": {},
   "outputs": [
    {
     "data": {
      "text/plain": [
       "'Fintech'"
      ]
     },
     "execution_count": 3,
     "metadata": {},
     "output_type": "execute_result"
    }
   ],
   "source": [
    "tester"
   ]
  },
  {
   "cell_type": "code",
   "execution_count": null,
   "id": "280c3311-247f-4a45-a4f1-44590a4b2c6b",
   "metadata": {},
   "outputs": [],
   "source": []
  }
 ],
 "metadata": {
  "kernelspec": {
   "display_name": "Python 3",
   "language": "python",
   "name": "python3"
  },
  "language_info": {
   "codemirror_mode": {
    "name": "ipython",
    "version": 3
   },
   "file_extension": ".py",
   "mimetype": "text/x-python",
   "name": "python",
   "nbconvert_exporter": "python",
   "pygments_lexer": "ipython3",
   "version": "3.8.8"
  }
 },
 "nbformat": 4,
 "nbformat_minor": 5
}
