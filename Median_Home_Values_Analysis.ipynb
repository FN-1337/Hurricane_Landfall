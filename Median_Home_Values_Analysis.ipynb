{
 "cells": [
  {
   "cell_type": "code",
   "execution_count": 130,
   "id": "a19a79ea-1053-44a0-9ddc-69ad5fce1099",
   "metadata": {},
   "outputs": [
    {
     "ename": "ModuleNotFoundError",
     "evalue": "No module named 'folium'",
     "output_type": "error",
     "traceback": [
      "\u001b[0;31m---------------------------------------------------------------------------\u001b[0m",
      "\u001b[0;31mModuleNotFoundError\u001b[0m                       Traceback (most recent call last)",
      "\u001b[0;32m<ipython-input-130-d6ff34b7f952>\u001b[0m in \u001b[0;36m<module>\u001b[0;34m\u001b[0m\n\u001b[1;32m     12\u001b[0m \u001b[0;32mfrom\u001b[0m \u001b[0mpathlib\u001b[0m \u001b[0;32mimport\u001b[0m \u001b[0mPath\u001b[0m\u001b[0;34m\u001b[0m\u001b[0;34m\u001b[0m\u001b[0m\n\u001b[1;32m     13\u001b[0m \u001b[0;32mfrom\u001b[0m \u001b[0mdotenv\u001b[0m \u001b[0;32mimport\u001b[0m \u001b[0mload_dotenv\u001b[0m\u001b[0;34m\u001b[0m\u001b[0;34m\u001b[0m\u001b[0m\n\u001b[0;32m---> 14\u001b[0;31m \u001b[0;32mimport\u001b[0m \u001b[0mfolium\u001b[0m\u001b[0;34m\u001b[0m\u001b[0;34m\u001b[0m\u001b[0m\n\u001b[0m\u001b[1;32m     15\u001b[0m \u001b[0mget_ipython\u001b[0m\u001b[0;34m(\u001b[0m\u001b[0;34m)\u001b[0m\u001b[0;34m.\u001b[0m\u001b[0mrun_line_magic\u001b[0m\u001b[0;34m(\u001b[0m\u001b[0;34m'matplotlib'\u001b[0m\u001b[0;34m,\u001b[0m \u001b[0;34m'inline'\u001b[0m\u001b[0;34m)\u001b[0m\u001b[0;34m\u001b[0m\u001b[0;34m\u001b[0m\u001b[0m\n",
      "\u001b[0;31mModuleNotFoundError\u001b[0m: No module named 'folium'"
     ]
    }
   ],
   "source": [
    "# Imports\n",
    "import pandas as pd\n",
    "import numpy as np\n",
    "import datetime as dt\n",
    "from pathlib import Path\n",
    "import panel as pn\n",
    "pn.extension('plotly')\n",
    "import plotly.express as px\n",
    "import hvplot.pandas\n",
    "import matplotlib.pyplot as plt\n",
    "import os\n",
    "from pathlib import Path\n",
    "from dotenv import load_dotenv\n",
    "%matplotlib inline"
   ]
  },
  {
   "cell_type": "code",
   "execution_count": 109,
   "id": "5d537655-7489-4642-be94-9123d27713c6",
   "metadata": {},
   "outputs": [],
   "source": [
    "# Read Mapbox API Key\n",
    "load_dotenv()\n",
    "mapbox_api = os.getenv(\"mapbox\")\n",
    "px.set_mapbox_access_token(mapbox_api)"
   ]
  },
  {
   "cell_type": "code",
   "execution_count": 110,
   "id": "2b139838-69f0-4502-99cb-e1d583157e88",
   "metadata": {},
   "outputs": [
    {
     "data": {
      "text/html": [
       "<div>\n",
       "<style scoped>\n",
       "    .dataframe tbody tr th:only-of-type {\n",
       "        vertical-align: middle;\n",
       "    }\n",
       "\n",
       "    .dataframe tbody tr th {\n",
       "        vertical-align: top;\n",
       "    }\n",
       "\n",
       "    .dataframe thead th {\n",
       "        text-align: right;\n",
       "    }\n",
       "</style>\n",
       "<table border=\"1\" class=\"dataframe\">\n",
       "  <thead>\n",
       "    <tr style=\"text-align: right;\">\n",
       "      <th></th>\n",
       "      <th>Lat</th>\n",
       "      <th>Long</th>\n",
       "    </tr>\n",
       "    <tr>\n",
       "      <th>County</th>\n",
       "      <th></th>\n",
       "      <th></th>\n",
       "    </tr>\n",
       "  </thead>\n",
       "  <tbody>\n",
       "    <tr>\n",
       "      <th>Alachua</th>\n",
       "      <td>29.676436</td>\n",
       "      <td>-82.379953</td>\n",
       "    </tr>\n",
       "    <tr>\n",
       "      <th>Baker</th>\n",
       "      <td>30.287517</td>\n",
       "      <td>-82.236268</td>\n",
       "    </tr>\n",
       "    <tr>\n",
       "      <th>Bay</th>\n",
       "      <td>30.219170</td>\n",
       "      <td>-85.638788</td>\n",
       "    </tr>\n",
       "    <tr>\n",
       "      <th>Bevard</th>\n",
       "      <td>28.083333</td>\n",
       "      <td>-80.608333</td>\n",
       "    </tr>\n",
       "    <tr>\n",
       "      <th>Bradford</th>\n",
       "      <td>29.928876</td>\n",
       "      <td>-82.142368</td>\n",
       "    </tr>\n",
       "    <tr>\n",
       "      <th>Broward</th>\n",
       "      <td>26.134788</td>\n",
       "      <td>-80.206098</td>\n",
       "    </tr>\n",
       "    <tr>\n",
       "      <th>Calhoun</th>\n",
       "      <td>30.428611</td>\n",
       "      <td>-85.186786</td>\n",
       "    </tr>\n",
       "    <tr>\n",
       "      <th>Charlotte</th>\n",
       "      <td>26.952873</td>\n",
       "      <td>-82.131242</td>\n",
       "    </tr>\n",
       "    <tr>\n",
       "      <th>Citrus</th>\n",
       "      <td>28.894637</td>\n",
       "      <td>-82.469163</td>\n",
       "    </tr>\n",
       "    <tr>\n",
       "      <th>Clay</th>\n",
       "      <td>30.000401</td>\n",
       "      <td>-81.823736</td>\n",
       "    </tr>\n",
       "  </tbody>\n",
       "</table>\n",
       "</div>"
      ],
      "text/plain": [
       "                 Lat       Long\n",
       "County                         \n",
       "Alachua    29.676436 -82.379953\n",
       "Baker      30.287517 -82.236268\n",
       "Bay        30.219170 -85.638788\n",
       "Bevard     28.083333 -80.608333\n",
       "Bradford   29.928876 -82.142368\n",
       "Broward    26.134788 -80.206098\n",
       "Calhoun    30.428611 -85.186786\n",
       "Charlotte  26.952873 -82.131242\n",
       "Citrus     28.894637 -82.469163\n",
       "Clay       30.000401 -81.823736"
      ]
     },
     "execution_count": 110,
     "metadata": {},
     "output_type": "execute_result"
    }
   ],
   "source": [
    "# Import geocodes for Florida counties\n",
    "geocodes = Path(\"lat_long.csv\")\n",
    "geocodes_df = pd.read_csv(geocodes, index_col = 'County')\n",
    "geocodes_df.sort_index(ascending = True, inplace = True)\n",
    "geocodes_df.head(10)"
   ]
  },
  {
   "cell_type": "code",
   "execution_count": 111,
   "id": "0697b8c3-0117-460a-b376-6caf7a51c2ed",
   "metadata": {},
   "outputs": [
    {
     "data": {
      "text/html": [
       "<div>\n",
       "<style scoped>\n",
       "    .dataframe tbody tr th:only-of-type {\n",
       "        vertical-align: middle;\n",
       "    }\n",
       "\n",
       "    .dataframe tbody tr th {\n",
       "        vertical-align: top;\n",
       "    }\n",
       "\n",
       "    .dataframe thead th {\n",
       "        text-align: right;\n",
       "    }\n",
       "</style>\n",
       "<table border=\"1\" class=\"dataframe\">\n",
       "  <thead>\n",
       "    <tr style=\"text-align: right;\">\n",
       "      <th></th>\n",
       "      <th>Unnamed: 0</th>\n",
       "      <th>Median Home Price Q1 2021</th>\n",
       "      <th>Unnamed: 3</th>\n",
       "      <th>Unnamed: 4</th>\n",
       "    </tr>\n",
       "    <tr>\n",
       "      <th>County</th>\n",
       "      <th></th>\n",
       "      <th></th>\n",
       "      <th></th>\n",
       "      <th></th>\n",
       "    </tr>\n",
       "  </thead>\n",
       "  <tbody>\n",
       "    <tr>\n",
       "      <th>Alachua</th>\n",
       "      <td>1</td>\n",
       "      <td>237288</td>\n",
       "      <td>NaN</td>\n",
       "      <td>NaN</td>\n",
       "    </tr>\n",
       "    <tr>\n",
       "      <th>Baker</th>\n",
       "      <td>2</td>\n",
       "      <td>151241</td>\n",
       "      <td>NaN</td>\n",
       "      <td>NaN</td>\n",
       "    </tr>\n",
       "    <tr>\n",
       "      <th>Bay</th>\n",
       "      <td>3</td>\n",
       "      <td>220032</td>\n",
       "      <td>NaN</td>\n",
       "      <td>NaN</td>\n",
       "    </tr>\n",
       "    <tr>\n",
       "      <th>Bevard</th>\n",
       "      <td>5</td>\n",
       "      <td>252790</td>\n",
       "      <td>NaN</td>\n",
       "      <td>NaN</td>\n",
       "    </tr>\n",
       "    <tr>\n",
       "      <th>Bradford</th>\n",
       "      <td>4</td>\n",
       "      <td>120402</td>\n",
       "      <td>NaN</td>\n",
       "      <td>NaN</td>\n",
       "    </tr>\n",
       "    <tr>\n",
       "      <th>Broward</th>\n",
       "      <td>6</td>\n",
       "      <td>327349</td>\n",
       "      <td>NaN</td>\n",
       "      <td>NaN</td>\n",
       "    </tr>\n",
       "    <tr>\n",
       "      <th>Calhoun</th>\n",
       "      <td>7</td>\n",
       "      <td>92366</td>\n",
       "      <td>NaN</td>\n",
       "      <td>NaN</td>\n",
       "    </tr>\n",
       "    <tr>\n",
       "      <th>Charlotte</th>\n",
       "      <td>8</td>\n",
       "      <td>250482</td>\n",
       "      <td>NaN</td>\n",
       "      <td>NaN</td>\n",
       "    </tr>\n",
       "    <tr>\n",
       "      <th>Citrus</th>\n",
       "      <td>9</td>\n",
       "      <td>169954</td>\n",
       "      <td>NaN</td>\n",
       "      <td>NaN</td>\n",
       "    </tr>\n",
       "    <tr>\n",
       "      <th>Clay</th>\n",
       "      <td>10</td>\n",
       "      <td>233558</td>\n",
       "      <td>NaN</td>\n",
       "      <td>NaN</td>\n",
       "    </tr>\n",
       "  </tbody>\n",
       "</table>\n",
       "</div>"
      ],
      "text/plain": [
       "            Unnamed: 0  Median Home Price Q1 2021  Unnamed: 3  Unnamed: 4\n",
       "County                                                                   \n",
       "Alachua              1                     237288         NaN         NaN\n",
       "Baker                2                     151241         NaN         NaN\n",
       "Bay                  3                     220032         NaN         NaN\n",
       "Bevard               5                     252790         NaN         NaN\n",
       "Bradford             4                     120402         NaN         NaN\n",
       "Broward              6                     327349         NaN         NaN\n",
       "Calhoun              7                      92366         NaN         NaN\n",
       "Charlotte            8                     250482         NaN         NaN\n",
       "Citrus               9                     169954         NaN         NaN\n",
       "Clay                10                     233558         NaN         NaN"
      ]
     },
     "execution_count": 111,
     "metadata": {},
     "output_type": "execute_result"
    }
   ],
   "source": [
    "# Import Median Home Prices for Florida counties\n",
    "median = Path(\"median_home_value.xlsx\")\n",
    "#median_df = pd.read_csv(median, index_col = 'County') \n",
    "median_df = pd.read_excel(median, index_col = 'County')              \n",
    "median_df.sort_index(ascending = True, inplace = True)\n",
    "median_df.head(10)"
   ]
  },
  {
   "cell_type": "code",
   "execution_count": 112,
   "id": "6233741d-8812-4db8-900a-212dd74fa9fd",
   "metadata": {},
   "outputs": [
    {
     "data": {
      "text/html": [
       "<div>\n",
       "<style scoped>\n",
       "    .dataframe tbody tr th:only-of-type {\n",
       "        vertical-align: middle;\n",
       "    }\n",
       "\n",
       "    .dataframe tbody tr th {\n",
       "        vertical-align: top;\n",
       "    }\n",
       "\n",
       "    .dataframe thead th {\n",
       "        text-align: right;\n",
       "    }\n",
       "</style>\n",
       "<table border=\"1\" class=\"dataframe\">\n",
       "  <thead>\n",
       "    <tr style=\"text-align: right;\">\n",
       "      <th></th>\n",
       "      <th>Unnamed: 0</th>\n",
       "      <th>Median Home Price Q1 2021</th>\n",
       "      <th>Unnamed: 3</th>\n",
       "      <th>Unnamed: 4</th>\n",
       "    </tr>\n",
       "    <tr>\n",
       "      <th>County</th>\n",
       "      <th></th>\n",
       "      <th></th>\n",
       "      <th></th>\n",
       "      <th></th>\n",
       "    </tr>\n",
       "  </thead>\n",
       "  <tbody>\n",
       "    <tr>\n",
       "      <th>Alachua</th>\n",
       "      <td>1</td>\n",
       "      <td>237288.0</td>\n",
       "      <td>NaN</td>\n",
       "      <td>NaN</td>\n",
       "    </tr>\n",
       "    <tr>\n",
       "      <th>Baker</th>\n",
       "      <td>2</td>\n",
       "      <td>151241.0</td>\n",
       "      <td>NaN</td>\n",
       "      <td>NaN</td>\n",
       "    </tr>\n",
       "    <tr>\n",
       "      <th>Bay</th>\n",
       "      <td>3</td>\n",
       "      <td>220032.0</td>\n",
       "      <td>NaN</td>\n",
       "      <td>NaN</td>\n",
       "    </tr>\n",
       "    <tr>\n",
       "      <th>Bevard</th>\n",
       "      <td>5</td>\n",
       "      <td>252790.0</td>\n",
       "      <td>NaN</td>\n",
       "      <td>NaN</td>\n",
       "    </tr>\n",
       "    <tr>\n",
       "      <th>Bradford</th>\n",
       "      <td>4</td>\n",
       "      <td>120402.0</td>\n",
       "      <td>NaN</td>\n",
       "      <td>NaN</td>\n",
       "    </tr>\n",
       "    <tr>\n",
       "      <th>Broward</th>\n",
       "      <td>6</td>\n",
       "      <td>327349.0</td>\n",
       "      <td>NaN</td>\n",
       "      <td>NaN</td>\n",
       "    </tr>\n",
       "    <tr>\n",
       "      <th>Calhoun</th>\n",
       "      <td>7</td>\n",
       "      <td>92366.0</td>\n",
       "      <td>NaN</td>\n",
       "      <td>NaN</td>\n",
       "    </tr>\n",
       "    <tr>\n",
       "      <th>Charlotte</th>\n",
       "      <td>8</td>\n",
       "      <td>250482.0</td>\n",
       "      <td>NaN</td>\n",
       "      <td>NaN</td>\n",
       "    </tr>\n",
       "    <tr>\n",
       "      <th>Citrus</th>\n",
       "      <td>9</td>\n",
       "      <td>169954.0</td>\n",
       "      <td>NaN</td>\n",
       "      <td>NaN</td>\n",
       "    </tr>\n",
       "    <tr>\n",
       "      <th>Clay</th>\n",
       "      <td>10</td>\n",
       "      <td>233558.0</td>\n",
       "      <td>NaN</td>\n",
       "      <td>NaN</td>\n",
       "    </tr>\n",
       "  </tbody>\n",
       "</table>\n",
       "</div>"
      ],
      "text/plain": [
       "            Unnamed: 0  Median Home Price Q1 2021  Unnamed: 3  Unnamed: 4\n",
       "County                                                                   \n",
       "Alachua              1                   237288.0         NaN         NaN\n",
       "Baker                2                   151241.0         NaN         NaN\n",
       "Bay                  3                   220032.0         NaN         NaN\n",
       "Bevard               5                   252790.0         NaN         NaN\n",
       "Bradford             4                   120402.0         NaN         NaN\n",
       "Broward              6                   327349.0         NaN         NaN\n",
       "Calhoun              7                    92366.0         NaN         NaN\n",
       "Charlotte            8                   250482.0         NaN         NaN\n",
       "Citrus               9                   169954.0         NaN         NaN\n",
       "Clay                10                   233558.0         NaN         NaN"
      ]
     },
     "execution_count": 112,
     "metadata": {},
     "output_type": "execute_result"
    }
   ],
   "source": [
    "# Change values from string to float, remove $\n",
    "median_df[median_df.columns[1:]] = median_df[median_df.columns[1:]].replace('[\\$,]', '', regex=True).astype(float)\n",
    "median_df.head(10)"
   ]
  },
  {
   "cell_type": "code",
   "execution_count": 113,
   "id": "e3674460-f270-49f7-ba6a-7cee9368affe",
   "metadata": {},
   "outputs": [
    {
     "data": {
      "text/html": [
       "<div>\n",
       "<style scoped>\n",
       "    .dataframe tbody tr th:only-of-type {\n",
       "        vertical-align: middle;\n",
       "    }\n",
       "\n",
       "    .dataframe tbody tr th {\n",
       "        vertical-align: top;\n",
       "    }\n",
       "\n",
       "    .dataframe thead th {\n",
       "        text-align: right;\n",
       "    }\n",
       "</style>\n",
       "<table border=\"1\" class=\"dataframe\">\n",
       "  <thead>\n",
       "    <tr style=\"text-align: right;\">\n",
       "      <th></th>\n",
       "      <th>Median Home Price Q1 2021</th>\n",
       "    </tr>\n",
       "    <tr>\n",
       "      <th>County</th>\n",
       "      <th></th>\n",
       "    </tr>\n",
       "  </thead>\n",
       "  <tbody>\n",
       "    <tr>\n",
       "      <th>Alachua</th>\n",
       "      <td>237288.0</td>\n",
       "    </tr>\n",
       "    <tr>\n",
       "      <th>Baker</th>\n",
       "      <td>151241.0</td>\n",
       "    </tr>\n",
       "    <tr>\n",
       "      <th>Bay</th>\n",
       "      <td>220032.0</td>\n",
       "    </tr>\n",
       "    <tr>\n",
       "      <th>Bevard</th>\n",
       "      <td>252790.0</td>\n",
       "    </tr>\n",
       "    <tr>\n",
       "      <th>Bradford</th>\n",
       "      <td>120402.0</td>\n",
       "    </tr>\n",
       "  </tbody>\n",
       "</table>\n",
       "</div>"
      ],
      "text/plain": [
       "           Median Home Price Q1 2021\n",
       "County                              \n",
       "Alachua                     237288.0\n",
       "Baker                       151241.0\n",
       "Bay                         220032.0\n",
       "Bevard                      252790.0\n",
       "Bradford                    120402.0"
      ]
     },
     "execution_count": 113,
     "metadata": {},
     "output_type": "execute_result"
    }
   ],
   "source": [
    "#Drop unused columns from Median Home Values DataFrame \n",
    "median_df=median_df.drop(columns=[\"Unnamed: 0\",\"Unnamed: 3\",\"Unnamed: 4\"])\n",
    "median_df.head()"
   ]
  },
  {
   "cell_type": "code",
   "execution_count": 114,
   "id": "e8931f61-abcc-4a0f-9a71-dab3f912dd3e",
   "metadata": {},
   "outputs": [
    {
     "data": {
      "text/html": [
       "<div>\n",
       "<style scoped>\n",
       "    .dataframe tbody tr th:only-of-type {\n",
       "        vertical-align: middle;\n",
       "    }\n",
       "\n",
       "    .dataframe tbody tr th {\n",
       "        vertical-align: top;\n",
       "    }\n",
       "\n",
       "    .dataframe thead th {\n",
       "        text-align: right;\n",
       "    }\n",
       "</style>\n",
       "<table border=\"1\" class=\"dataframe\">\n",
       "  <thead>\n",
       "    <tr style=\"text-align: right;\">\n",
       "      <th></th>\n",
       "      <th>County</th>\n",
       "      <th>Median Home Price Q1 2021</th>\n",
       "    </tr>\n",
       "  </thead>\n",
       "  <tbody>\n",
       "    <tr>\n",
       "      <th>0</th>\n",
       "      <td>Alachua</td>\n",
       "      <td>237288.0</td>\n",
       "    </tr>\n",
       "    <tr>\n",
       "      <th>1</th>\n",
       "      <td>Baker</td>\n",
       "      <td>151241.0</td>\n",
       "    </tr>\n",
       "    <tr>\n",
       "      <th>2</th>\n",
       "      <td>Bay</td>\n",
       "      <td>220032.0</td>\n",
       "    </tr>\n",
       "    <tr>\n",
       "      <th>3</th>\n",
       "      <td>Bevard</td>\n",
       "      <td>252790.0</td>\n",
       "    </tr>\n",
       "    <tr>\n",
       "      <th>4</th>\n",
       "      <td>Bradford</td>\n",
       "      <td>120402.0</td>\n",
       "    </tr>\n",
       "    <tr>\n",
       "      <th>...</th>\n",
       "      <td>...</td>\n",
       "      <td>...</td>\n",
       "    </tr>\n",
       "    <tr>\n",
       "      <th>61</th>\n",
       "      <td>Union</td>\n",
       "      <td>128661.0</td>\n",
       "    </tr>\n",
       "    <tr>\n",
       "      <th>62</th>\n",
       "      <td>Volusia</td>\n",
       "      <td>228766.0</td>\n",
       "    </tr>\n",
       "    <tr>\n",
       "      <th>63</th>\n",
       "      <td>Wakulla</td>\n",
       "      <td>153639.0</td>\n",
       "    </tr>\n",
       "    <tr>\n",
       "      <th>64</th>\n",
       "      <td>Walton</td>\n",
       "      <td>265362.0</td>\n",
       "    </tr>\n",
       "    <tr>\n",
       "      <th>65</th>\n",
       "      <td>Washington</td>\n",
       "      <td>123010.0</td>\n",
       "    </tr>\n",
       "  </tbody>\n",
       "</table>\n",
       "<p>66 rows × 2 columns</p>\n",
       "</div>"
      ],
      "text/plain": [
       "         County  Median Home Price Q1 2021\n",
       "0      Alachua                    237288.0\n",
       "1        Baker                    151241.0\n",
       "2          Bay                    220032.0\n",
       "3       Bevard                    252790.0\n",
       "4     Bradford                    120402.0\n",
       "..          ...                        ...\n",
       "61       Union                    128661.0\n",
       "62     Volusia                    228766.0\n",
       "63     Wakulla                    153639.0\n",
       "64      Walton                    265362.0\n",
       "65  Washington                    123010.0\n",
       "\n",
       "[66 rows x 2 columns]"
      ]
     },
     "execution_count": 114,
     "metadata": {},
     "output_type": "execute_result"
    }
   ],
   "source": [
    "# Reset Index in Median Home Values DataFrame\n",
    "median_reset_df = median_df.reset_index()\n",
    "median_reset_df"
   ]
  },
  {
   "cell_type": "code",
   "execution_count": 116,
   "id": "1f4ef7b0-8304-4abb-aeea-e6ac9f010df9",
   "metadata": {},
   "outputs": [
    {
     "data": {
      "text/html": [
       "<div>\n",
       "<style scoped>\n",
       "    .dataframe tbody tr th:only-of-type {\n",
       "        vertical-align: middle;\n",
       "    }\n",
       "\n",
       "    .dataframe tbody tr th {\n",
       "        vertical-align: top;\n",
       "    }\n",
       "\n",
       "    .dataframe thead th {\n",
       "        text-align: right;\n",
       "    }\n",
       "</style>\n",
       "<table border=\"1\" class=\"dataframe\">\n",
       "  <thead>\n",
       "    <tr style=\"text-align: right;\">\n",
       "      <th></th>\n",
       "      <th>County</th>\n",
       "      <th>Lat</th>\n",
       "      <th>Long</th>\n",
       "    </tr>\n",
       "  </thead>\n",
       "  <tbody>\n",
       "    <tr>\n",
       "      <th>0</th>\n",
       "      <td>Alachua</td>\n",
       "      <td>29.676436</td>\n",
       "      <td>-82.379953</td>\n",
       "    </tr>\n",
       "    <tr>\n",
       "      <th>1</th>\n",
       "      <td>Baker</td>\n",
       "      <td>30.287517</td>\n",
       "      <td>-82.236268</td>\n",
       "    </tr>\n",
       "    <tr>\n",
       "      <th>2</th>\n",
       "      <td>Bay</td>\n",
       "      <td>30.219170</td>\n",
       "      <td>-85.638788</td>\n",
       "    </tr>\n",
       "    <tr>\n",
       "      <th>3</th>\n",
       "      <td>Bevard</td>\n",
       "      <td>28.083333</td>\n",
       "      <td>-80.608333</td>\n",
       "    </tr>\n",
       "    <tr>\n",
       "      <th>4</th>\n",
       "      <td>Bradford</td>\n",
       "      <td>29.928876</td>\n",
       "      <td>-82.142368</td>\n",
       "    </tr>\n",
       "    <tr>\n",
       "      <th>...</th>\n",
       "      <td>...</td>\n",
       "      <td>...</td>\n",
       "      <td>...</td>\n",
       "    </tr>\n",
       "    <tr>\n",
       "      <th>61</th>\n",
       "      <td>Union</td>\n",
       "      <td>30.028050</td>\n",
       "      <td>-82.367222</td>\n",
       "    </tr>\n",
       "    <tr>\n",
       "      <th>62</th>\n",
       "      <td>Volusia</td>\n",
       "      <td>29.049037</td>\n",
       "      <td>-81.138947</td>\n",
       "    </tr>\n",
       "    <tr>\n",
       "      <th>63</th>\n",
       "      <td>Wakulla</td>\n",
       "      <td>30.144620</td>\n",
       "      <td>-84.366174</td>\n",
       "    </tr>\n",
       "    <tr>\n",
       "      <th>64</th>\n",
       "      <td>Walton</td>\n",
       "      <td>30.637995</td>\n",
       "      <td>-86.155962</td>\n",
       "    </tr>\n",
       "    <tr>\n",
       "      <th>65</th>\n",
       "      <td>Washington</td>\n",
       "      <td>30.630591</td>\n",
       "      <td>-85.638396</td>\n",
       "    </tr>\n",
       "  </tbody>\n",
       "</table>\n",
       "<p>66 rows × 3 columns</p>\n",
       "</div>"
      ],
      "text/plain": [
       "        County        Lat       Long\n",
       "0      Alachua  29.676436 -82.379953\n",
       "1        Baker  30.287517 -82.236268\n",
       "2          Bay  30.219170 -85.638788\n",
       "3       Bevard  28.083333 -80.608333\n",
       "4     Bradford  29.928876 -82.142368\n",
       "..         ...        ...        ...\n",
       "61       Union  30.028050 -82.367222\n",
       "62     Volusia  29.049037 -81.138947\n",
       "63     Wakulla  30.144620 -84.366174\n",
       "64      Walton  30.637995 -86.155962\n",
       "65  Washington  30.630591 -85.638396\n",
       "\n",
       "[66 rows x 3 columns]"
      ]
     },
     "execution_count": 116,
     "metadata": {},
     "output_type": "execute_result"
    }
   ],
   "source": [
    "# Reset Index in Geocodes DataFrame\n",
    "geocodes_reset_df = geocodes_df.reset_index()\n",
    "geocodes_reset_df"
   ]
  },
  {
   "cell_type": "code",
   "execution_count": 118,
   "id": "343dba4c-fb03-4d34-bbbd-0a0ec6b9824f",
   "metadata": {},
   "outputs": [],
   "source": [
    "#Remove blank space from Index in Median Home Values DataFrame\n",
    "median_reset_df['County'] = median_reset_df['County'].str.strip()\n",
    "#median_reset_df['County'][5]"
   ]
  },
  {
   "cell_type": "code",
   "execution_count": 150,
   "id": "54bf5a70-061d-427b-9c17-f3dd7735adb4",
   "metadata": {},
   "outputs": [
    {
     "data": {
      "text/html": [
       "<div>\n",
       "<style scoped>\n",
       "    .dataframe tbody tr th:only-of-type {\n",
       "        vertical-align: middle;\n",
       "    }\n",
       "\n",
       "    .dataframe tbody tr th {\n",
       "        vertical-align: top;\n",
       "    }\n",
       "\n",
       "    .dataframe thead th {\n",
       "        text-align: right;\n",
       "    }\n",
       "</style>\n",
       "<table border=\"1\" class=\"dataframe\">\n",
       "  <thead>\n",
       "    <tr style=\"text-align: right;\">\n",
       "      <th></th>\n",
       "      <th>County</th>\n",
       "      <th>Lat</th>\n",
       "      <th>Long</th>\n",
       "      <th>Median Home Price Q1 2021</th>\n",
       "    </tr>\n",
       "  </thead>\n",
       "  <tbody>\n",
       "    <tr>\n",
       "      <th>0</th>\n",
       "      <td>Alachua</td>\n",
       "      <td>29.676436</td>\n",
       "      <td>-82.379953</td>\n",
       "      <td>237288.0</td>\n",
       "    </tr>\n",
       "    <tr>\n",
       "      <th>1</th>\n",
       "      <td>Baker</td>\n",
       "      <td>30.287517</td>\n",
       "      <td>-82.236268</td>\n",
       "      <td>151241.0</td>\n",
       "    </tr>\n",
       "    <tr>\n",
       "      <th>2</th>\n",
       "      <td>Bay</td>\n",
       "      <td>30.219170</td>\n",
       "      <td>-85.638788</td>\n",
       "      <td>220032.0</td>\n",
       "    </tr>\n",
       "    <tr>\n",
       "      <th>3</th>\n",
       "      <td>Bevard</td>\n",
       "      <td>28.083333</td>\n",
       "      <td>-80.608333</td>\n",
       "      <td>252790.0</td>\n",
       "    </tr>\n",
       "    <tr>\n",
       "      <th>4</th>\n",
       "      <td>Bradford</td>\n",
       "      <td>29.928876</td>\n",
       "      <td>-82.142368</td>\n",
       "      <td>120402.0</td>\n",
       "    </tr>\n",
       "    <tr>\n",
       "      <th>...</th>\n",
       "      <td>...</td>\n",
       "      <td>...</td>\n",
       "      <td>...</td>\n",
       "      <td>...</td>\n",
       "    </tr>\n",
       "    <tr>\n",
       "      <th>61</th>\n",
       "      <td>Union</td>\n",
       "      <td>30.028050</td>\n",
       "      <td>-82.367222</td>\n",
       "      <td>128661.0</td>\n",
       "    </tr>\n",
       "    <tr>\n",
       "      <th>62</th>\n",
       "      <td>Volusia</td>\n",
       "      <td>29.049037</td>\n",
       "      <td>-81.138947</td>\n",
       "      <td>228766.0</td>\n",
       "    </tr>\n",
       "    <tr>\n",
       "      <th>63</th>\n",
       "      <td>Wakulla</td>\n",
       "      <td>30.144620</td>\n",
       "      <td>-84.366174</td>\n",
       "      <td>153639.0</td>\n",
       "    </tr>\n",
       "    <tr>\n",
       "      <th>64</th>\n",
       "      <td>Walton</td>\n",
       "      <td>30.637995</td>\n",
       "      <td>-86.155962</td>\n",
       "      <td>265362.0</td>\n",
       "    </tr>\n",
       "    <tr>\n",
       "      <th>65</th>\n",
       "      <td>Washington</td>\n",
       "      <td>30.630591</td>\n",
       "      <td>-85.638396</td>\n",
       "      <td>123010.0</td>\n",
       "    </tr>\n",
       "  </tbody>\n",
       "</table>\n",
       "<p>66 rows × 4 columns</p>\n",
       "</div>"
      ],
      "text/plain": [
       "        County        Lat       Long  Median Home Price Q1 2021\n",
       "0      Alachua  29.676436 -82.379953                   237288.0\n",
       "1        Baker  30.287517 -82.236268                   151241.0\n",
       "2          Bay  30.219170 -85.638788                   220032.0\n",
       "3       Bevard  28.083333 -80.608333                   252790.0\n",
       "4     Bradford  29.928876 -82.142368                   120402.0\n",
       "..         ...        ...        ...                        ...\n",
       "61       Union  30.028050 -82.367222                   128661.0\n",
       "62     Volusia  29.049037 -81.138947                   228766.0\n",
       "63     Wakulla  30.144620 -84.366174                   153639.0\n",
       "64      Walton  30.637995 -86.155962                   265362.0\n",
       "65  Washington  30.630591 -85.638396                   123010.0\n",
       "\n",
       "[66 rows x 4 columns]"
      ]
     },
     "execution_count": 150,
     "metadata": {},
     "output_type": "execute_result"
    }
   ],
   "source": [
    "#Merge Median Home Values DataFrame with Geocodes DataFrame\n",
    "combined_df=geocodes_reset_df.merge(median_reset_df,how='inner',on='County' )\n",
    "combined_df"
   ]
  },
  {
   "cell_type": "code",
   "execution_count": 122,
   "id": "bbdc24f6-b35a-48b3-b062-ca9859a9c8b1",
   "metadata": {},
   "outputs": [],
   "source": [
    "#Concat Median Home Vale with geocodes\n",
    "#median_geo_df= pd.concat([geocodes_df, median_df], axis=0, join=\"inner\")\n",
    "#median_geo_df= pd.concat([geocodes_reset_df, median_reset_df], axis=\"columns\", join=\"inner\")\n",
    "# test for repo "
   ]
  },
  {
   "cell_type": "code",
   "execution_count": 158,
   "id": "2ca0f9ab-0ae3-4713-a3b7-d9ced25351cc",
   "metadata": {},
   "outputs": [
    {
     "data": {
      "application/vnd.plotly.v1+json": {
       "config": {
        "plotlyServerURL": "https://plot.ly"
       },
       "data": [
        {
         "customdata": [
          [
           237288
          ]
         ],
         "hovertemplate": "<b>%{hovertext}</b><br><br>County=Alachua<br>Median Home Price Q1 2021=%{customdata[0]}<br>Lat=%{lat}<br>Long=%{lon}<extra></extra>",
         "hovertext": [
          "237288.0"
         ],
         "lat": [
          29.676436
         ],
         "legendgroup": "Alachua",
         "lon": [
          -82.379953
         ],
         "marker": {
          "color": "#636efa",
          "size": [
           237288
          ],
          "sizemode": "area",
          "sizeref": 1535.995
         },
         "mode": "markers",
         "name": "Alachua",
         "showlegend": true,
         "subplot": "mapbox",
         "type": "scattermapbox"
        },
        {
         "customdata": [
          [
           151241
          ]
         ],
         "hovertemplate": "<b>%{hovertext}</b><br><br>County=Baker<br>Median Home Price Q1 2021=%{customdata[0]}<br>Lat=%{lat}<br>Long=%{lon}<extra></extra>",
         "hovertext": [
          "151241.0"
         ],
         "lat": [
          30.287517
         ],
         "legendgroup": "Baker",
         "lon": [
          -82.236268
         ],
         "marker": {
          "color": "#EF553B",
          "size": [
           151241
          ],
          "sizemode": "area",
          "sizeref": 1535.995
         },
         "mode": "markers",
         "name": "Baker",
         "showlegend": true,
         "subplot": "mapbox",
         "type": "scattermapbox"
        },
        {
         "customdata": [
          [
           220032
          ]
         ],
         "hovertemplate": "<b>%{hovertext}</b><br><br>County=Bay<br>Median Home Price Q1 2021=%{customdata[0]}<br>Lat=%{lat}<br>Long=%{lon}<extra></extra>",
         "hovertext": [
          "220032.0"
         ],
         "lat": [
          30.21917
         ],
         "legendgroup": "Bay",
         "lon": [
          -85.638788
         ],
         "marker": {
          "color": "#00cc96",
          "size": [
           220032
          ],
          "sizemode": "area",
          "sizeref": 1535.995
         },
         "mode": "markers",
         "name": "Bay",
         "showlegend": true,
         "subplot": "mapbox",
         "type": "scattermapbox"
        },
        {
         "customdata": [
          [
           252790
          ]
         ],
         "hovertemplate": "<b>%{hovertext}</b><br><br>County=Bevard<br>Median Home Price Q1 2021=%{customdata[0]}<br>Lat=%{lat}<br>Long=%{lon}<extra></extra>",
         "hovertext": [
          "252790.0"
         ],
         "lat": [
          28.0833333
         ],
         "legendgroup": "Bevard",
         "lon": [
          -80.6083333
         ],
         "marker": {
          "color": "#ab63fa",
          "size": [
           252790
          ],
          "sizemode": "area",
          "sizeref": 1535.995
         },
         "mode": "markers",
         "name": "Bevard",
         "showlegend": true,
         "subplot": "mapbox",
         "type": "scattermapbox"
        },
        {
         "customdata": [
          [
           120402
          ]
         ],
         "hovertemplate": "<b>%{hovertext}</b><br><br>County=Bradford<br>Median Home Price Q1 2021=%{customdata[0]}<br>Lat=%{lat}<br>Long=%{lon}<extra></extra>",
         "hovertext": [
          "120402.0"
         ],
         "lat": [
          29.928876
         ],
         "legendgroup": "Bradford",
         "lon": [
          -82.142368
         ],
         "marker": {
          "color": "#FFA15A",
          "size": [
           120402
          ],
          "sizemode": "area",
          "sizeref": 1535.995
         },
         "mode": "markers",
         "name": "Bradford",
         "showlegend": true,
         "subplot": "mapbox",
         "type": "scattermapbox"
        },
        {
         "customdata": [
          [
           327349
          ]
         ],
         "hovertemplate": "<b>%{hovertext}</b><br><br>County=Broward<br>Median Home Price Q1 2021=%{customdata[0]}<br>Lat=%{lat}<br>Long=%{lon}<extra></extra>",
         "hovertext": [
          "327349.0"
         ],
         "lat": [
          26.134788
         ],
         "legendgroup": "Broward",
         "lon": [
          -80.206098
         ],
         "marker": {
          "color": "#19d3f3",
          "size": [
           327349
          ],
          "sizemode": "area",
          "sizeref": 1535.995
         },
         "mode": "markers",
         "name": "Broward",
         "showlegend": true,
         "subplot": "mapbox",
         "type": "scattermapbox"
        },
        {
         "customdata": [
          [
           92366
          ]
         ],
         "hovertemplate": "<b>%{hovertext}</b><br><br>County=Calhoun<br>Median Home Price Q1 2021=%{customdata[0]}<br>Lat=%{lat}<br>Long=%{lon}<extra></extra>",
         "hovertext": [
          "92366.0"
         ],
         "lat": [
          30.428611
         ],
         "legendgroup": "Calhoun",
         "lon": [
          -85.186786
         ],
         "marker": {
          "color": "#FF6692",
          "size": [
           92366
          ],
          "sizemode": "area",
          "sizeref": 1535.995
         },
         "mode": "markers",
         "name": "Calhoun",
         "showlegend": true,
         "subplot": "mapbox",
         "type": "scattermapbox"
        },
        {
         "customdata": [
          [
           250482
          ]
         ],
         "hovertemplate": "<b>%{hovertext}</b><br><br>County=Charlotte<br>Median Home Price Q1 2021=%{customdata[0]}<br>Lat=%{lat}<br>Long=%{lon}<extra></extra>",
         "hovertext": [
          "250482.0"
         ],
         "lat": [
          26.952873
         ],
         "legendgroup": "Charlotte",
         "lon": [
          -82.131242
         ],
         "marker": {
          "color": "#B6E880",
          "size": [
           250482
          ],
          "sizemode": "area",
          "sizeref": 1535.995
         },
         "mode": "markers",
         "name": "Charlotte",
         "showlegend": true,
         "subplot": "mapbox",
         "type": "scattermapbox"
        },
        {
         "customdata": [
          [
           169954
          ]
         ],
         "hovertemplate": "<b>%{hovertext}</b><br><br>County=Citrus<br>Median Home Price Q1 2021=%{customdata[0]}<br>Lat=%{lat}<br>Long=%{lon}<extra></extra>",
         "hovertext": [
          "169954.0"
         ],
         "lat": [
          28.894637
         ],
         "legendgroup": "Citrus",
         "lon": [
          -82.469163
         ],
         "marker": {
          "color": "#FF97FF",
          "size": [
           169954
          ],
          "sizemode": "area",
          "sizeref": 1535.995
         },
         "mode": "markers",
         "name": "Citrus",
         "showlegend": true,
         "subplot": "mapbox",
         "type": "scattermapbox"
        },
        {
         "customdata": [
          [
           233558
          ]
         ],
         "hovertemplate": "<b>%{hovertext}</b><br><br>County=Clay<br>Median Home Price Q1 2021=%{customdata[0]}<br>Lat=%{lat}<br>Long=%{lon}<extra></extra>",
         "hovertext": [
          "233558.0"
         ],
         "lat": [
          30.000401
         ],
         "legendgroup": "Clay",
         "lon": [
          -81.823736
         ],
         "marker": {
          "color": "#FECB52",
          "size": [
           233558
          ],
          "sizemode": "area",
          "sizeref": 1535.995
         },
         "mode": "markers",
         "name": "Clay",
         "showlegend": true,
         "subplot": "mapbox",
         "type": "scattermapbox"
        },
        {
         "customdata": [
          [
           401446
          ]
         ],
         "hovertemplate": "<b>%{hovertext}</b><br><br>County=Collier<br>Median Home Price Q1 2021=%{customdata[0]}<br>Lat=%{lat}<br>Long=%{lon}<extra></extra>",
         "hovertext": [
          "401446.0"
         ],
         "lat": [
          26.155113
         ],
         "legendgroup": "Collier",
         "lon": [
          -81.671313
         ],
         "marker": {
          "color": "#636efa",
          "size": [
           401446
          ],
          "sizemode": "area",
          "sizeref": 1535.995
         },
         "mode": "markers",
         "name": "Collier",
         "showlegend": true,
         "subplot": "mapbox",
         "type": "scattermapbox"
        },
        {
         "customdata": [
          [
           175713
          ]
         ],
         "hovertemplate": "<b>%{hovertext}</b><br><br>County=Columbia<br>Median Home Price Q1 2021=%{customdata[0]}<br>Lat=%{lat}<br>Long=%{lon}<extra></extra>",
         "hovertext": [
          "175713.0"
         ],
         "lat": [
          30.1839
         ],
         "legendgroup": "Columbia",
         "lon": [
          -82.638781
         ],
         "marker": {
          "color": "#EF553B",
          "size": [
           175713
          ],
          "sizemode": "area",
          "sizeref": 1535.995
         },
         "mode": "markers",
         "name": "Columbia",
         "showlegend": true,
         "subplot": "mapbox",
         "type": "scattermapbox"
        },
        {
         "customdata": [
          [
           95300
          ]
         ],
         "hovertemplate": "<b>%{hovertext}</b><br><br>County=DeSoto<br>Median Home Price Q1 2021=%{customdata[0]}<br>Lat=%{lat}<br>Long=%{lon}<extra></extra>",
         "hovertext": [
          "95300.0"
         ],
         "lat": [
          27.201006
         ],
         "legendgroup": "DeSoto",
         "lon": [
          -81.871967
         ],
         "marker": {
          "color": "#00cc96",
          "size": [
           95300
          ],
          "sizemode": "area",
          "sizeref": 1535.995
         },
         "mode": "markers",
         "name": "DeSoto",
         "showlegend": true,
         "subplot": "mapbox",
         "type": "scattermapbox"
        },
        {
         "customdata": [
          [
           85303
          ]
         ],
         "hovertemplate": "<b>%{hovertext}</b><br><br>County=Dixie<br>Median Home Price Q1 2021=%{customdata[0]}<br>Lat=%{lat}<br>Long=%{lon}<extra></extra>",
         "hovertext": [
          "85303.0"
         ],
         "lat": [
          29.607261
         ],
         "legendgroup": "Dixie",
         "lon": [
          -83.119978
         ],
         "marker": {
          "color": "#ab63fa",
          "size": [
           85303
          ],
          "sizemode": "area",
          "sizeref": 1535.995
         },
         "mode": "markers",
         "name": "Dixie",
         "showlegend": true,
         "subplot": "mapbox",
         "type": "scattermapbox"
        },
        {
         "customdata": [
          [
           226045
          ]
         ],
         "hovertemplate": "<b>%{hovertext}</b><br><br>County=Duval<br>Median Home Price Q1 2021=%{customdata[0]}<br>Lat=%{lat}<br>Long=%{lon}<extra></extra>",
         "hovertext": [
          "226045.0"
         ],
         "lat": [
          30.320873
         ],
         "legendgroup": "Duval",
         "lon": [
          -81.638873
         ],
         "marker": {
          "color": "#FFA15A",
          "size": [
           226045
          ],
          "sizemode": "area",
          "sizeref": 1535.995
         },
         "mode": "markers",
         "name": "Duval",
         "showlegend": true,
         "subplot": "mapbox",
         "type": "scattermapbox"
        },
        {
         "customdata": [
          [
           194925
          ]
         ],
         "hovertemplate": "<b>%{hovertext}</b><br><br>County=Escambia<br>Median Home Price Q1 2021=%{customdata[0]}<br>Lat=%{lat}<br>Long=%{lon}<extra></extra>",
         "hovertext": [
          "194925.0"
         ],
         "lat": [
          30.502045
         ],
         "legendgroup": "Escambia",
         "lon": [
          -87.277355
         ],
         "marker": {
          "color": "#19d3f3",
          "size": [
           194925
          ],
          "sizemode": "area",
          "sizeref": 1535.995
         },
         "mode": "markers",
         "name": "Escambia",
         "showlegend": true,
         "subplot": "mapbox",
         "type": "scattermapbox"
        },
        {
         "customdata": [
          [
           180386
          ]
         ],
         "hovertemplate": "<b>%{hovertext}</b><br><br>County=Franklin<br>Median Home Price Q1 2021=%{customdata[0]}<br>Lat=%{lat}<br>Long=%{lon}<extra></extra>",
         "hovertext": [
          "180386.0"
         ],
         "lat": [
          29.842944
         ],
         "legendgroup": "Franklin",
         "lon": [
          -84.789354
         ],
         "marker": {
          "color": "#FF6692",
          "size": [
           180386
          ],
          "sizemode": "area",
          "sizeref": 1535.995
         },
         "mode": "markers",
         "name": "Franklin",
         "showlegend": true,
         "subplot": "mapbox",
         "type": "scattermapbox"
        },
        {
         "customdata": [
          [
           103279
          ]
         ],
         "hovertemplate": "<b>%{hovertext}</b><br><br>County=Gadsden<br>Median Home Price Q1 2021=%{customdata[0]}<br>Lat=%{lat}<br>Long=%{lon}<extra></extra>",
         "hovertext": [
          "103279.0"
         ],
         "lat": [
          30.603309
         ],
         "legendgroup": "Gadsden",
         "lon": [
          -84.618328
         ],
         "marker": {
          "color": "#B6E880",
          "size": [
           103279
          ],
          "sizemode": "area",
          "sizeref": 1535.995
         },
         "mode": "markers",
         "name": "Gadsden",
         "showlegend": true,
         "subplot": "mapbox",
         "type": "scattermapbox"
        },
        {
         "customdata": [
          [
           113344
          ]
         ],
         "hovertemplate": "<b>%{hovertext}</b><br><br>County=Gilchrist<br>Median Home Price Q1 2021=%{customdata[0]}<br>Lat=%{lat}<br>Long=%{lon}<extra></extra>",
         "hovertext": [
          "113344.0"
         ],
         "lat": [
          29.709927
         ],
         "legendgroup": "Gilchrist",
         "lon": [
          -82.832899
         ],
         "marker": {
          "color": "#FF97FF",
          "size": [
           113344
          ],
          "sizemode": "area",
          "sizeref": 1535.995
         },
         "mode": "markers",
         "name": "Gilchrist",
         "showlegend": true,
         "subplot": "mapbox",
         "type": "scattermapbox"
        },
        {
         "customdata": [
          [
           83347
          ]
         ],
         "hovertemplate": "<b>%{hovertext}</b><br><br>County=Glades<br>Median Home Price Q1 2021=%{customdata[0]}<br>Lat=%{lat}<br>Long=%{lon}<extra></extra>",
         "hovertext": [
          "83347.0"
         ],
         "lat": [
          26.891982
         ],
         "legendgroup": "Glades",
         "lon": [
          -81.168365
         ],
         "marker": {
          "color": "#FECB52",
          "size": [
           83347
          ],
          "sizemode": "area",
          "sizeref": 1535.995
         },
         "mode": "markers",
         "name": "Glades",
         "showlegend": true,
         "subplot": "mapbox",
         "type": "scattermapbox"
        },
        {
         "customdata": [
          [
           174626
          ]
         ],
         "hovertemplate": "<b>%{hovertext}</b><br><br>County=Gulf<br>Median Home Price Q1 2021=%{customdata[0]}<br>Lat=%{lat}<br>Long=%{lon}<extra></extra>",
         "hovertext": [
          "174626.0"
         ],
         "lat": [
          29.940016
         ],
         "legendgroup": "Gulf",
         "lon": [
          -85.267756
         ],
         "marker": {
          "color": "#636efa",
          "size": [
           174626
          ],
          "sizemode": "area",
          "sizeref": 1535.995
         },
         "mode": "markers",
         "name": "Gulf",
         "showlegend": true,
         "subplot": "mapbox",
         "type": "scattermapbox"
        },
        {
         "customdata": [
          [
           87041
          ]
         ],
         "hovertemplate": "<b>%{hovertext}</b><br><br>County=Hamilton<br>Median Home Price Q1 2021=%{customdata[0]}<br>Lat=%{lat}<br>Long=%{lon}<extra></extra>",
         "hovertext": [
          "87041.0"
         ],
         "lat": [
          30.491893
         ],
         "legendgroup": "Hamilton",
         "lon": [
          -82.948765
         ],
         "marker": {
          "color": "#EF553B",
          "size": [
           87041
          ],
          "sizemode": "area",
          "sizeref": 1535.995
         },
         "mode": "markers",
         "name": "Hamilton",
         "showlegend": true,
         "subplot": "mapbox",
         "type": "scattermapbox"
        },
        {
         "customdata": [
          [
           90627
          ]
         ],
         "hovertemplate": "<b>%{hovertext}</b><br><br>County=Hardee<br>Median Home Price Q1 2021=%{customdata[0]}<br>Lat=%{lat}<br>Long=%{lon}<extra></extra>",
         "hovertext": [
          "90627.0"
         ],
         "lat": [
          27.538231
         ],
         "legendgroup": "Hardee",
         "lon": [
          -81.809106
         ],
         "marker": {
          "color": "#00cc96",
          "size": [
           90627
          ],
          "sizemode": "area",
          "sizeref": 1535.995
         },
         "mode": "markers",
         "name": "Hardee",
         "showlegend": true,
         "subplot": "mapbox",
         "type": "scattermapbox"
        },
        {
         "customdata": [
          [
           102689
          ]
         ],
         "hovertemplate": "<b>%{hovertext}</b><br><br>County=Hendry<br>Median Home Price Q1 2021=%{customdata[0]}<br>Lat=%{lat}<br>Long=%{lon}<extra></extra>",
         "hovertext": [
          "102689.0"
         ],
         "lat": [
          26.696403
         ],
         "legendgroup": "Hendry",
         "lon": [
          -81.191622
         ],
         "marker": {
          "color": "#ab63fa",
          "size": [
           102689
          ],
          "sizemode": "area",
          "sizeref": 1535.995
         },
         "mode": "markers",
         "name": "Hendry",
         "showlegend": true,
         "subplot": "mapbox",
         "type": "scattermapbox"
        },
        {
         "customdata": [
          [
           192135
          ]
         ],
         "hovertemplate": "<b>%{hovertext}</b><br><br>County=Hernando<br>Median Home Price Q1 2021=%{customdata[0]}<br>Lat=%{lat}<br>Long=%{lon}<extra></extra>",
         "hovertext": [
          "192135.0"
         ],
         "lat": [
          28.521291
         ],
         "legendgroup": "Hernando",
         "lon": [
          -82.481399
         ],
         "marker": {
          "color": "#FFA15A",
          "size": [
           192135
          ],
          "sizemode": "area",
          "sizeref": 1535.995
         },
         "mode": "markers",
         "name": "Hernando",
         "showlegend": true,
         "subplot": "mapbox",
         "type": "scattermapbox"
        },
        {
         "customdata": [
          [
           157457
          ]
         ],
         "hovertemplate": "<b>%{hovertext}</b><br><br>County=Highlands<br>Median Home Price Q1 2021=%{customdata[0]}<br>Lat=%{lat}<br>Long=%{lon}<extra></extra>",
         "hovertext": [
          "157457.0"
         ],
         "lat": [
          27.439711
         ],
         "legendgroup": "Highlands",
         "lon": [
          -81.428524
         ],
         "marker": {
          "color": "#19d3f3",
          "size": [
           157457
          ],
          "sizemode": "area",
          "sizeref": 1535.995
         },
         "mode": "markers",
         "name": "Highlands",
         "showlegend": true,
         "subplot": "mapbox",
         "type": "scattermapbox"
        },
        {
         "customdata": [
          [
           272517
          ]
         ],
         "hovertemplate": "<b>%{hovertext}</b><br><br>County=Hillsborough<br>Median Home Price Q1 2021=%{customdata[0]}<br>Lat=%{lat}<br>Long=%{lon}<extra></extra>",
         "hovertext": [
          "272517.0"
         ],
         "lat": [
          27.966349
         ],
         "legendgroup": "Hillsborough",
         "lon": [
          -82.412079
         ],
         "marker": {
          "color": "#FF6692",
          "size": [
           272517
          ],
          "sizemode": "area",
          "sizeref": 1535.995
         },
         "mode": "markers",
         "name": "Hillsborough",
         "showlegend": true,
         "subplot": "mapbox",
         "type": "scattermapbox"
        },
        {
         "customdata": [
          [
           100733
          ]
         ],
         "hovertemplate": "<b>%{hovertext}</b><br><br>County=Holmes<br>Median Home Price Q1 2021=%{customdata[0]}<br>Lat=%{lat}<br>Long=%{lon}<extra></extra>",
         "hovertext": [
          "100733.0"
         ],
         "lat": [
          30.853637
         ],
         "legendgroup": "Holmes",
         "lon": [
          -85.785748
         ],
         "marker": {
          "color": "#B6E880",
          "size": [
           100733
          ],
          "sizemode": "area",
          "sizeref": 1535.995
         },
         "mode": "markers",
         "name": "Holmes",
         "showlegend": true,
         "subplot": "mapbox",
         "type": "scattermapbox"
        },
        {
         "customdata": [
          [
           262291
          ]
         ],
         "hovertemplate": "<b>%{hovertext}</b><br><br>County=Indian River<br>Median Home Price Q1 2021=%{customdata[0]}<br>Lat=%{lat}<br>Long=%{lon}<extra></extra>",
         "hovertext": [
          "262291.0"
         ],
         "lat": [
          27.695124
         ],
         "legendgroup": "Indian River",
         "lon": [
          -80.454056
         ],
         "marker": {
          "color": "#FF97FF",
          "size": [
           262291
          ],
          "sizemode": "area",
          "sizeref": 1535.995
         },
         "mode": "markers",
         "name": "Indian River",
         "showlegend": true,
         "subplot": "mapbox",
         "type": "scattermapbox"
        },
        {
         "customdata": [
          [
           107579
          ]
         ],
         "hovertemplate": "<b>%{hovertext}</b><br><br>County=Jackson<br>Median Home Price Q1 2021=%{customdata[0]}<br>Lat=%{lat}<br>Long=%{lon}<extra></extra>",
         "hovertext": [
          "107579.0"
         ],
         "lat": [
          30.769903
         ],
         "legendgroup": "Jackson",
         "lon": [
          -85.241124
         ],
         "marker": {
          "color": "#FECB52",
          "size": [
           107579
          ],
          "sizemode": "area",
          "sizeref": 1535.995
         },
         "mode": "markers",
         "name": "Jackson",
         "showlegend": true,
         "subplot": "mapbox",
         "type": "scattermapbox"
        },
        {
         "customdata": [
          [
           142436
          ]
         ],
         "hovertemplate": "<b>%{hovertext}</b><br><br>County=Jefferson<br>Median Home Price Q1 2021=%{customdata[0]}<br>Lat=%{lat}<br>Long=%{lon}<extra></extra>",
         "hovertext": [
          "142436.0"
         ],
         "lat": [
          30.510187
         ],
         "legendgroup": "Jefferson",
         "lon": [
          -83.884229
         ],
         "marker": {
          "color": "#636efa",
          "size": [
           142436
          ],
          "sizemode": "area",
          "sizeref": 1535.995
         },
         "mode": "markers",
         "name": "Jefferson",
         "showlegend": true,
         "subplot": "mapbox",
         "type": "scattermapbox"
        },
        {
         "customdata": [
          [
           113773
          ]
         ],
         "hovertemplate": "<b>%{hovertext}</b><br><br>County=Lafayette<br>Median Home Price Q1 2021=%{customdata[0]}<br>Lat=%{lat}<br>Long=%{lon}<extra></extra>",
         "hovertext": [
          "113773.0"
         ],
         "lat": [
          30.00143
         ],
         "legendgroup": "Lafayette",
         "lon": [
          -83.183264
         ],
         "marker": {
          "color": "#EF553B",
          "size": [
           113773
          ],
          "sizemode": "area",
          "sizeref": 1535.995
         },
         "mode": "markers",
         "name": "Lafayette",
         "showlegend": true,
         "subplot": "mapbox",
         "type": "scattermapbox"
        },
        {
         "customdata": [
          [
           242017
          ]
         ],
         "hovertemplate": "<b>%{hovertext}</b><br><br>County=Lake<br>Median Home Price Q1 2021=%{customdata[0]}<br>Lat=%{lat}<br>Long=%{lon}<extra></extra>",
         "hovertext": [
          "242017.0"
         ],
         "lat": [
          28.795924
         ],
         "legendgroup": "Lake",
         "lon": [
          -81.747696
         ],
         "marker": {
          "color": "#00cc96",
          "size": [
           242017
          ],
          "sizemode": "area",
          "sizeref": 1535.995
         },
         "mode": "markers",
         "name": "Lake",
         "showlegend": true,
         "subplot": "mapbox",
         "type": "scattermapbox"
        },
        {
         "customdata": [
          [
           268314
          ]
         ],
         "hovertemplate": "<b>%{hovertext}</b><br><br>County=Lee<br>Median Home Price Q1 2021=%{customdata[0]}<br>Lat=%{lat}<br>Long=%{lon}<extra></extra>",
         "hovertext": [
          "268314.0"
         ],
         "lat": [
          26.602541
         ],
         "legendgroup": "Lee",
         "lon": [
          -81.846262
         ],
         "marker": {
          "color": "#ab63fa",
          "size": [
           268314
          ],
          "sizemode": "area",
          "sizeref": 1535.995
         },
         "mode": "markers",
         "name": "Lee",
         "showlegend": true,
         "subplot": "mapbox",
         "type": "scattermapbox"
        },
        {
         "customdata": [
          [
           241021
          ]
         ],
         "hovertemplate": "<b>%{hovertext}</b><br><br>County=Leon<br>Median Home Price Q1 2021=%{customdata[0]}<br>Lat=%{lat}<br>Long=%{lon}<extra></extra>",
         "hovertext": [
          "241021.0"
         ],
         "lat": [
          30.462933
         ],
         "legendgroup": "Leon",
         "lon": [
          -84.260888
         ],
         "marker": {
          "color": "#FFA15A",
          "size": [
           241021
          ],
          "sizemode": "area",
          "sizeref": 1535.995
         },
         "mode": "markers",
         "name": "Leon",
         "showlegend": true,
         "subplot": "mapbox",
         "type": "scattermapbox"
        },
        {
         "customdata": [
          [
           114860
          ]
         ],
         "hovertemplate": "<b>%{hovertext}</b><br><br>County=Levy<br>Median Home Price Q1 2021=%{customdata[0]}<br>Lat=%{lat}<br>Long=%{lon}<extra></extra>",
         "hovertext": [
          "114860.0"
         ],
         "lat": [
          29.330144
         ],
         "legendgroup": "Levy",
         "lon": [
          -82.70781
         ],
         "marker": {
          "color": "#19d3f3",
          "size": [
           114860
          ],
          "sizemode": "area",
          "sizeref": 1535.995
         },
         "mode": "markers",
         "name": "Levy",
         "showlegend": true,
         "subplot": "mapbox",
         "type": "scattermapbox"
        },
        {
         "customdata": [
          [
           81608
          ]
         ],
         "hovertemplate": "<b>%{hovertext}</b><br><br>County=Liberty<br>Median Home Price Q1 2021=%{customdata[0]}<br>Lat=%{lat}<br>Long=%{lon}<extra></extra>",
         "hovertext": [
          "81608.0"
         ],
         "lat": [
          30.285745
         ],
         "legendgroup": "Liberty",
         "lon": [
          -84.883242
         ],
         "marker": {
          "color": "#FF6692",
          "size": [
           81608
          ],
          "sizemode": "area",
          "sizeref": 1535.995
         },
         "mode": "markers",
         "name": "Liberty",
         "showlegend": true,
         "subplot": "mapbox",
         "type": "scattermapbox"
        },
        {
         "customdata": [
          [
           96821
          ]
         ],
         "hovertemplate": "<b>%{hovertext}</b><br><br>County=Madison<br>Median Home Price Q1 2021=%{customdata[0]}<br>Lat=%{lat}<br>Long=%{lon}<extra></extra>",
         "hovertext": [
          "96821.0"
         ],
         "lat": [
          30.443902
         ],
         "legendgroup": "Madison",
         "lon": [
          -83.4258
         ],
         "marker": {
          "color": "#B6E880",
          "size": [
           96821
          ],
          "sizemode": "area",
          "sizeref": 1535.995
         },
         "mode": "markers",
         "name": "Madison",
         "showlegend": true,
         "subplot": "mapbox",
         "type": "scattermapbox"
        },
        {
         "customdata": [
          [
           300807
          ]
         ],
         "hovertemplate": "<b>%{hovertext}</b><br><br>County=Manatee<br>Median Home Price Q1 2021=%{customdata[0]}<br>Lat=%{lat}<br>Long=%{lon}<extra></extra>",
         "hovertext": [
          "300807.0"
         ],
         "lat": [
          27.487817
         ],
         "legendgroup": "Manatee",
         "lon": [
          -82.549069
         ],
         "marker": {
          "color": "#FF97FF",
          "size": [
           300807
          ],
          "sizemode": "area",
          "sizeref": 1535.995
         },
         "mode": "markers",
         "name": "Manatee",
         "showlegend": true,
         "subplot": "mapbox",
         "type": "scattermapbox"
        },
        {
         "customdata": [
          [
           179292
          ]
         ],
         "hovertemplate": "<b>%{hovertext}</b><br><br>County=Marion<br>Median Home Price Q1 2021=%{customdata[0]}<br>Lat=%{lat}<br>Long=%{lon}<extra></extra>",
         "hovertext": [
          "179292.0"
         ],
         "lat": [
          29.142855
         ],
         "legendgroup": "Marion",
         "lon": [
          -82.114602
         ],
         "marker": {
          "color": "#FECB52",
          "size": [
           179292
          ],
          "sizemode": "area",
          "sizeref": 1535.995
         },
         "mode": "markers",
         "name": "Marion",
         "showlegend": true,
         "subplot": "mapbox",
         "type": "scattermapbox"
        },
        {
         "customdata": [
          [
           340082
          ]
         ],
         "hovertemplate": "<b>%{hovertext}</b><br><br>County=Martin<br>Median Home Price Q1 2021=%{customdata[0]}<br>Lat=%{lat}<br>Long=%{lon}<extra></extra>",
         "hovertext": [
          "340082.0"
         ],
         "lat": [
          27.132403
         ],
         "legendgroup": "Martin",
         "lon": [
          -80.255862
         ],
         "marker": {
          "color": "#636efa",
          "size": [
           340082
          ],
          "sizemode": "area",
          "sizeref": 1535.995
         },
         "mode": "markers",
         "name": "Martin",
         "showlegend": true,
         "subplot": "mapbox",
         "type": "scattermapbox"
        },
        {
         "customdata": [
          [
           360149
          ]
         ],
         "hovertemplate": "<b>%{hovertext}</b><br><br>County=Miami-Dade<br>Median Home Price Q1 2021=%{customdata[0]}<br>Lat=%{lat}<br>Long=%{lon}<extra></extra>",
         "hovertext": [
          "360149.0"
         ],
         "lat": [
          25.756427
         ],
         "legendgroup": "Miami-Dade",
         "lon": [
          -80.302264
         ],
         "marker": {
          "color": "#EF553B",
          "size": [
           360149
          ],
          "sizemode": "area",
          "sizeref": 1535.995
         },
         "mode": "markers",
         "name": "Miami-Dade",
         "showlegend": true,
         "subplot": "mapbox",
         "type": "scattermapbox"
        },
        {
         "customdata": [
          [
           614398
          ]
         ],
         "hovertemplate": "<b>%{hovertext}</b><br><br>County=Monroe<br>Median Home Price Q1 2021=%{customdata[0]}<br>Lat=%{lat}<br>Long=%{lon}<extra></extra>",
         "hovertext": [
          "614398.0"
         ],
         "lat": [
          24.777558
         ],
         "legendgroup": "Monroe",
         "lon": [
          -81.228495
         ],
         "marker": {
          "color": "#00cc96",
          "size": [
           614398
          ],
          "sizemode": "area",
          "sizeref": 1535.995
         },
         "mode": "markers",
         "name": "Monroe",
         "showlegend": true,
         "subplot": "mapbox",
         "type": "scattermapbox"
        },
        {
         "customdata": [
          [
           266550
          ]
         ],
         "hovertemplate": "<b>%{hovertext}</b><br><br>County=Nassau<br>Median Home Price Q1 2021=%{customdata[0]}<br>Lat=%{lat}<br>Long=%{lon}<extra></extra>",
         "hovertext": [
          "266550.0"
         ],
         "lat": [
          30.623401
         ],
         "legendgroup": "Nassau",
         "lon": [
          -81.704762
         ],
         "marker": {
          "color": "#ab63fa",
          "size": [
           266550
          ],
          "sizemode": "area",
          "sizeref": 1535.995
         },
         "mode": "markers",
         "name": "Nassau",
         "showlegend": true,
         "subplot": "mapbox",
         "type": "scattermapbox"
        },
        {
         "customdata": [
          [
           270401
          ]
         ],
         "hovertemplate": "<b>%{hovertext}</b><br><br>County=Okaloosa<br>Median Home Price Q1 2021=%{customdata[0]}<br>Lat=%{lat}<br>Long=%{lon}<extra></extra>",
         "hovertext": [
          "270401.0"
         ],
         "lat": [
          30.642029
         ],
         "legendgroup": "Okaloosa",
         "lon": [
          -86.562467
         ],
         "marker": {
          "color": "#FFA15A",
          "size": [
           270401
          ],
          "sizemode": "area",
          "sizeref": 1535.995
         },
         "mode": "markers",
         "name": "Okaloosa",
         "showlegend": true,
         "subplot": "mapbox",
         "type": "scattermapbox"
        },
        {
         "customdata": [
          [
           115186
          ]
         ],
         "hovertemplate": "<b>%{hovertext}</b><br><br>County=Okeechobee<br>Median Home Price Q1 2021=%{customdata[0]}<br>Lat=%{lat}<br>Long=%{lon}<extra></extra>",
         "hovertext": [
          "115186.0"
         ],
         "lat": [
          27.32525
         ],
         "legendgroup": "Okeechobee",
         "lon": [
          -80.870875
         ],
         "marker": {
          "color": "#19d3f3",
          "size": [
           115186
          ],
          "sizemode": "area",
          "sizeref": 1535.995
         },
         "mode": "markers",
         "name": "Okeechobee",
         "showlegend": true,
         "subplot": "mapbox",
         "type": "scattermapbox"
        },
        {
         "customdata": [
          [
           288408
          ]
         ],
         "hovertemplate": "<b>%{hovertext}</b><br><br>County=Orange<br>Median Home Price Q1 2021=%{customdata[0]}<br>Lat=%{lat}<br>Long=%{lon}<extra></extra>",
         "hovertext": [
          "288408.0"
         ],
         "lat": [
          28.547129
         ],
         "legendgroup": "Orange",
         "lon": [
          -81.404159
         ],
         "marker": {
          "color": "#FF6692",
          "size": [
           288408
          ],
          "sizemode": "area",
          "sizeref": 1535.995
         },
         "mode": "markers",
         "name": "Orange",
         "showlegend": true,
         "subplot": "mapbox",
         "type": "scattermapbox"
        },
        {
         "customdata": [
          [
           250343
          ]
         ],
         "hovertemplate": "<b>%{hovertext}</b><br><br>County=Osceola<br>Median Home Price Q1 2021=%{customdata[0]}<br>Lat=%{lat}<br>Long=%{lon}<extra></extra>",
         "hovertext": [
          "250343.0"
         ],
         "lat": [
          28.231941
         ],
         "legendgroup": "Osceola",
         "lon": [
          -81.31971
         ],
         "marker": {
          "color": "#B6E880",
          "size": [
           250343
          ],
          "sizemode": "area",
          "sizeref": 1535.995
         },
         "mode": "markers",
         "name": "Osceola",
         "showlegend": true,
         "subplot": "mapbox",
         "type": "scattermapbox"
        },
        {
         "customdata": [
          [
           339226
          ]
         ],
         "hovertemplate": "<b>%{hovertext}</b><br><br>County=Palm Beach<br>Median Home Price Q1 2021=%{customdata[0]}<br>Lat=%{lat}<br>Long=%{lon}<extra></extra>",
         "hovertext": [
          "339226.0"
         ],
         "lat": [
          26.637745
         ],
         "legendgroup": "Palm Beach",
         "lon": [
          -80.176395
         ],
         "marker": {
          "color": "#FF97FF",
          "size": [
           339226
          ],
          "sizemode": "area",
          "sizeref": 1535.995
         },
         "mode": "markers",
         "name": "Palm Beach",
         "showlegend": true,
         "subplot": "mapbox",
         "type": "scattermapbox"
        },
        {
         "customdata": [
          [
           214575
          ]
         ],
         "hovertemplate": "<b>%{hovertext}</b><br><br>County=Pasco<br>Median Home Price Q1 2021=%{customdata[0]}<br>Lat=%{lat}<br>Long=%{lon}<extra></extra>",
         "hovertext": [
          "214575.0"
         ],
         "lat": [
          28.276153
         ],
         "legendgroup": "Pasco",
         "lon": [
          -82.496887
         ],
         "marker": {
          "color": "#FECB52",
          "size": [
           214575
          ],
          "sizemode": "area",
          "sizeref": 1535.995
         },
         "mode": "markers",
         "name": "Pasco",
         "showlegend": true,
         "subplot": "mapbox",
         "type": "scattermapbox"
        },
        {
         "customdata": [
          [
           258339
          ]
         ],
         "hovertemplate": "<b>%{hovertext}</b><br><br>County=Pinellas<br>Median Home Price Q1 2021=%{customdata[0]}<br>Lat=%{lat}<br>Long=%{lon}<extra></extra>",
         "hovertext": [
          "258339.0"
         ],
         "lat": [
          27.889647
         ],
         "legendgroup": "Pinellas",
         "lon": [
          -82.727766
         ],
         "marker": {
          "color": "#636efa",
          "size": [
           258339
          ],
          "sizemode": "area",
          "sizeref": 1535.995
         },
         "mode": "markers",
         "name": "Pinellas",
         "showlegend": true,
         "subplot": "mapbox",
         "type": "scattermapbox"
        },
        {
         "customdata": [
          [
           196031
          ]
         ],
         "hovertemplate": "<b>%{hovertext}</b><br><br>County=Polk<br>Median Home Price Q1 2021=%{customdata[0]}<br>Lat=%{lat}<br>Long=%{lon}<extra></extra>",
         "hovertext": [
          "196031.0"
         ],
         "lat": [
          27.992436
         ],
         "legendgroup": "Polk",
         "lon": [
          -81.758303
         ],
         "marker": {
          "color": "#EF553B",
          "size": [
           196031
          ],
          "sizemode": "area",
          "sizeref": 1535.995
         },
         "mode": "markers",
         "name": "Polk",
         "showlegend": true,
         "subplot": "mapbox",
         "type": "scattermapbox"
        },
        {
         "customdata": [
          [
           109101
          ]
         ],
         "hovertemplate": "<b>%{hovertext}</b><br><br>County=Putnam<br>Median Home Price Q1 2021=%{customdata[0]}<br>Lat=%{lat}<br>Long=%{lon}<extra></extra>",
         "hovertext": [
          "109101.0"
         ],
         "lat": [
          29.597982
         ],
         "legendgroup": "Putnam",
         "lon": [
          -81.758508
         ],
         "marker": {
          "color": "#00cc96",
          "size": [
           109101
          ],
          "sizemode": "area",
          "sizeref": 1535.995
         },
         "mode": "markers",
         "name": "Putnam",
         "showlegend": true,
         "subplot": "mapbox",
         "type": "scattermapbox"
        },
        {
         "customdata": [
          [
           248977
          ]
         ],
         "hovertemplate": "<b>%{hovertext}</b><br><br>County=Santa Rosa<br>Median Home Price Q1 2021=%{customdata[0]}<br>Lat=%{lat}<br>Long=%{lon}<extra></extra>",
         "hovertext": [
          "248977.0"
         ],
         "lat": [
          30.614138
         ],
         "legendgroup": "Santa Rosa",
         "lon": [
          -87.021807
         ],
         "marker": {
          "color": "#ab63fa",
          "size": [
           248977
          ],
          "sizemode": "area",
          "sizeref": 1535.995
         },
         "mode": "markers",
         "name": "Santa Rosa",
         "showlegend": true,
         "subplot": "mapbox",
         "type": "scattermapbox"
        },
        {
         "customdata": [
          [
           304351
          ]
         ],
         "hovertemplate": "<b>%{hovertext}</b><br><br>County=Sarasota<br>Median Home Price Q1 2021=%{customdata[0]}<br>Lat=%{lat}<br>Long=%{lon}<extra></extra>",
         "hovertext": [
          "304351.0"
         ],
         "lat": [
          27.16493
         ],
         "legendgroup": "Sarasota",
         "lon": [
          -82.398881
         ],
         "marker": {
          "color": "#FFA15A",
          "size": [
           304351
          ],
          "sizemode": "area",
          "sizeref": 1535.995
         },
         "mode": "markers",
         "name": "Sarasota",
         "showlegend": true,
         "subplot": "mapbox",
         "type": "scattermapbox"
        },
        {
         "customdata": [
          [
           299331
          ]
         ],
         "hovertemplate": "<b>%{hovertext}</b><br><br>County=Seminole<br>Median Home Price Q1 2021=%{customdata[0]}<br>Lat=%{lat}<br>Long=%{lon}<extra></extra>",
         "hovertext": [
          "299331.0"
         ],
         "lat": [
          28.709909
         ],
         "legendgroup": "Seminole",
         "lon": [
          -81.310831
         ],
         "marker": {
          "color": "#19d3f3",
          "size": [
           299331
          ],
          "sizemode": "area",
          "sizeref": 1535.995
         },
         "mode": "markers",
         "name": "Seminole",
         "showlegend": true,
         "subplot": "mapbox",
         "type": "scattermapbox"
        },
        {
         "customdata": [
          [
           368792
          ]
         ],
         "hovertemplate": "<b>%{hovertext}</b><br><br>County=St. Johns<br>Median Home Price Q1 2021=%{customdata[0]}<br>Lat=%{lat}<br>Long=%{lon}<extra></extra>",
         "hovertext": [
          "368792.0"
         ],
         "lat": [
          29.881862
         ],
         "legendgroup": "St. Johns",
         "lon": [
          -81.358139
         ],
         "marker": {
          "color": "#FF6692",
          "size": [
           368792
          ],
          "sizemode": "area",
          "sizeref": 1535.995
         },
         "mode": "markers",
         "name": "St. Johns",
         "showlegend": true,
         "subplot": "mapbox",
         "type": "scattermapbox"
        },
        {
         "customdata": [
          [
           249703
          ]
         ],
         "hovertemplate": "<b>%{hovertext}</b><br><br>County=St. Lucie<br>Median Home Price Q1 2021=%{customdata[0]}<br>Lat=%{lat}<br>Long=%{lon}<extra></extra>",
         "hovertext": [
          "249703.0"
         ],
         "lat": [
          27.348246
         ],
         "legendgroup": "St. Lucie",
         "lon": [
          -80.360875
         ],
         "marker": {
          "color": "#B6E880",
          "size": [
           249703
          ],
          "sizemode": "area",
          "sizeref": 1535.995
         },
         "mode": "markers",
         "name": "St. Lucie",
         "showlegend": true,
         "subplot": "mapbox",
         "type": "scattermapbox"
        },
        {
         "customdata": [
          [
           306438
          ]
         ],
         "hovertemplate": "<b>%{hovertext}</b><br><br>County=Sumter<br>Median Home Price Q1 2021=%{customdata[0]}<br>Lat=%{lat}<br>Long=%{lon}<extra></extra>",
         "hovertext": [
          "306438.0"
         ],
         "lat": [
          28.770086
         ],
         "legendgroup": "Sumter",
         "lon": [
          -82.075542
         ],
         "marker": {
          "color": "#FF97FF",
          "size": [
           306438
          ],
          "sizemode": "area",
          "sizeref": 1535.995
         },
         "mode": "markers",
         "name": "Sumter",
         "showlegend": true,
         "subplot": "mapbox",
         "type": "scattermapbox"
        },
        {
         "customdata": [
          [
           110079
          ]
         ],
         "hovertemplate": "<b>%{hovertext}</b><br><br>County=Suwannee<br>Median Home Price Q1 2021=%{customdata[0]}<br>Lat=%{lat}<br>Long=%{lon}<extra></extra>",
         "hovertext": [
          "110079.0"
         ],
         "lat": [
          30.191684
         ],
         "legendgroup": "Suwannee",
         "lon": [
          -82.985391
         ],
         "marker": {
          "color": "#FECB52",
          "size": [
           110079
          ],
          "sizemode": "area",
          "sizeref": 1535.995
         },
         "mode": "markers",
         "name": "Suwannee",
         "showlegend": true,
         "subplot": "mapbox",
         "type": "scattermapbox"
        },
        {
         "customdata": [
          [
           92475
          ]
         ],
         "hovertemplate": "<b>%{hovertext}</b><br><br>County=Taylor<br>Median Home Price Q1 2021=%{customdata[0]}<br>Lat=%{lat}<br>Long=%{lon}<extra></extra>",
         "hovertext": [
          "92475.0"
         ],
         "lat": [
          30.053738
         ],
         "legendgroup": "Taylor",
         "lon": [
          -83.585228
         ],
         "marker": {
          "color": "#636efa",
          "size": [
           92475
          ],
          "sizemode": "area",
          "sizeref": 1535.995
         },
         "mode": "markers",
         "name": "Taylor",
         "showlegend": true,
         "subplot": "mapbox",
         "type": "scattermapbox"
        },
        {
         "customdata": [
          [
           128661
          ]
         ],
         "hovertemplate": "<b>%{hovertext}</b><br><br>County=Union<br>Median Home Price Q1 2021=%{customdata[0]}<br>Lat=%{lat}<br>Long=%{lon}<extra></extra>",
         "hovertext": [
          "128661.0"
         ],
         "lat": [
          30.02805
         ],
         "legendgroup": "Union",
         "lon": [
          -82.367222
         ],
         "marker": {
          "color": "#EF553B",
          "size": [
           128661
          ],
          "sizemode": "area",
          "sizeref": 1535.995
         },
         "mode": "markers",
         "name": "Union",
         "showlegend": true,
         "subplot": "mapbox",
         "type": "scattermapbox"
        },
        {
         "customdata": [
          [
           228766
          ]
         ],
         "hovertemplate": "<b>%{hovertext}</b><br><br>County=Volusia<br>Median Home Price Q1 2021=%{customdata[0]}<br>Lat=%{lat}<br>Long=%{lon}<extra></extra>",
         "hovertext": [
          "228766.0"
         ],
         "lat": [
          29.049037
         ],
         "legendgroup": "Volusia",
         "lon": [
          -81.138947
         ],
         "marker": {
          "color": "#00cc96",
          "size": [
           228766
          ],
          "sizemode": "area",
          "sizeref": 1535.995
         },
         "mode": "markers",
         "name": "Volusia",
         "showlegend": true,
         "subplot": "mapbox",
         "type": "scattermapbox"
        },
        {
         "customdata": [
          [
           153639
          ]
         ],
         "hovertemplate": "<b>%{hovertext}</b><br><br>County=Wakulla<br>Median Home Price Q1 2021=%{customdata[0]}<br>Lat=%{lat}<br>Long=%{lon}<extra></extra>",
         "hovertext": [
          "153639.0"
         ],
         "lat": [
          30.14462
         ],
         "legendgroup": "Wakulla",
         "lon": [
          -84.366174
         ],
         "marker": {
          "color": "#ab63fa",
          "size": [
           153639
          ],
          "sizemode": "area",
          "sizeref": 1535.995
         },
         "mode": "markers",
         "name": "Wakulla",
         "showlegend": true,
         "subplot": "mapbox",
         "type": "scattermapbox"
        },
        {
         "customdata": [
          [
           265362
          ]
         ],
         "hovertemplate": "<b>%{hovertext}</b><br><br>County=Walton<br>Median Home Price Q1 2021=%{customdata[0]}<br>Lat=%{lat}<br>Long=%{lon}<extra></extra>",
         "hovertext": [
          "265362.0"
         ],
         "lat": [
          30.637995
         ],
         "legendgroup": "Walton",
         "lon": [
          -86.155962
         ],
         "marker": {
          "color": "#FFA15A",
          "size": [
           265362
          ],
          "sizemode": "area",
          "sizeref": 1535.995
         },
         "mode": "markers",
         "name": "Walton",
         "showlegend": true,
         "subplot": "mapbox",
         "type": "scattermapbox"
        },
        {
         "customdata": [
          [
           123010
          ]
         ],
         "hovertemplate": "<b>%{hovertext}</b><br><br>County=Washington<br>Median Home Price Q1 2021=%{customdata[0]}<br>Lat=%{lat}<br>Long=%{lon}<extra></extra>",
         "hovertext": [
          "123010.0"
         ],
         "lat": [
          30.630591
         ],
         "legendgroup": "Washington",
         "lon": [
          -85.638396
         ],
         "marker": {
          "color": "#19d3f3",
          "size": [
           123010
          ],
          "sizemode": "area",
          "sizeref": 1535.995
         },
         "mode": "markers",
         "name": "Washington",
         "showlegend": true,
         "subplot": "mapbox",
         "type": "scattermapbox"
        }
       ],
       "layout": {
        "autosize": true,
        "legend": {
         "itemsizing": "constant",
         "title": {
          "text": "County"
         },
         "tracegroupgap": 0
        },
        "mapbox": {
         "accesstoken": "pk.eyJ1Ijoid2VpZXJtZWRpYSIsImEiOiJja3F4djAwMjUxMjhrMnVsMzh5aThlcW9yIn0.0EA9aojTBfUEoSEdsqpQUw",
         "bearing": 0,
         "center": {
          "lat": 29.624953163912252,
          "lon": -85.81636933882066
         },
         "domain": {
          "x": [
           0,
           1
          ],
          "y": [
           0,
           1
          ]
         },
         "pitch": 0,
         "style": "light",
         "zoom": 5
        },
        "margin": {
         "t": 60
        },
        "template": {
         "data": {
          "bar": [
           {
            "error_x": {
             "color": "#2a3f5f"
            },
            "error_y": {
             "color": "#2a3f5f"
            },
            "marker": {
             "line": {
              "color": "#E5ECF6",
              "width": 0.5
             },
             "pattern": {
              "fillmode": "overlay",
              "size": 10,
              "solidity": 0.2
             }
            },
            "type": "bar"
           }
          ],
          "barpolar": [
           {
            "marker": {
             "line": {
              "color": "#E5ECF6",
              "width": 0.5
             },
             "pattern": {
              "fillmode": "overlay",
              "size": 10,
              "solidity": 0.2
             }
            },
            "type": "barpolar"
           }
          ],
          "carpet": [
           {
            "aaxis": {
             "endlinecolor": "#2a3f5f",
             "gridcolor": "white",
             "linecolor": "white",
             "minorgridcolor": "white",
             "startlinecolor": "#2a3f5f"
            },
            "baxis": {
             "endlinecolor": "#2a3f5f",
             "gridcolor": "white",
             "linecolor": "white",
             "minorgridcolor": "white",
             "startlinecolor": "#2a3f5f"
            },
            "type": "carpet"
           }
          ],
          "choropleth": [
           {
            "colorbar": {
             "outlinewidth": 0,
             "ticks": ""
            },
            "type": "choropleth"
           }
          ],
          "contour": [
           {
            "colorbar": {
             "outlinewidth": 0,
             "ticks": ""
            },
            "colorscale": [
             [
              0,
              "#0d0887"
             ],
             [
              0.1111111111111111,
              "#46039f"
             ],
             [
              0.2222222222222222,
              "#7201a8"
             ],
             [
              0.3333333333333333,
              "#9c179e"
             ],
             [
              0.4444444444444444,
              "#bd3786"
             ],
             [
              0.5555555555555556,
              "#d8576b"
             ],
             [
              0.6666666666666666,
              "#ed7953"
             ],
             [
              0.7777777777777778,
              "#fb9f3a"
             ],
             [
              0.8888888888888888,
              "#fdca26"
             ],
             [
              1,
              "#f0f921"
             ]
            ],
            "type": "contour"
           }
          ],
          "contourcarpet": [
           {
            "colorbar": {
             "outlinewidth": 0,
             "ticks": ""
            },
            "type": "contourcarpet"
           }
          ],
          "heatmap": [
           {
            "colorbar": {
             "outlinewidth": 0,
             "ticks": ""
            },
            "colorscale": [
             [
              0,
              "#0d0887"
             ],
             [
              0.1111111111111111,
              "#46039f"
             ],
             [
              0.2222222222222222,
              "#7201a8"
             ],
             [
              0.3333333333333333,
              "#9c179e"
             ],
             [
              0.4444444444444444,
              "#bd3786"
             ],
             [
              0.5555555555555556,
              "#d8576b"
             ],
             [
              0.6666666666666666,
              "#ed7953"
             ],
             [
              0.7777777777777778,
              "#fb9f3a"
             ],
             [
              0.8888888888888888,
              "#fdca26"
             ],
             [
              1,
              "#f0f921"
             ]
            ],
            "type": "heatmap"
           }
          ],
          "heatmapgl": [
           {
            "colorbar": {
             "outlinewidth": 0,
             "ticks": ""
            },
            "colorscale": [
             [
              0,
              "#0d0887"
             ],
             [
              0.1111111111111111,
              "#46039f"
             ],
             [
              0.2222222222222222,
              "#7201a8"
             ],
             [
              0.3333333333333333,
              "#9c179e"
             ],
             [
              0.4444444444444444,
              "#bd3786"
             ],
             [
              0.5555555555555556,
              "#d8576b"
             ],
             [
              0.6666666666666666,
              "#ed7953"
             ],
             [
              0.7777777777777778,
              "#fb9f3a"
             ],
             [
              0.8888888888888888,
              "#fdca26"
             ],
             [
              1,
              "#f0f921"
             ]
            ],
            "type": "heatmapgl"
           }
          ],
          "histogram": [
           {
            "marker": {
             "pattern": {
              "fillmode": "overlay",
              "size": 10,
              "solidity": 0.2
             }
            },
            "type": "histogram"
           }
          ],
          "histogram2d": [
           {
            "colorbar": {
             "outlinewidth": 0,
             "ticks": ""
            },
            "colorscale": [
             [
              0,
              "#0d0887"
             ],
             [
              0.1111111111111111,
              "#46039f"
             ],
             [
              0.2222222222222222,
              "#7201a8"
             ],
             [
              0.3333333333333333,
              "#9c179e"
             ],
             [
              0.4444444444444444,
              "#bd3786"
             ],
             [
              0.5555555555555556,
              "#d8576b"
             ],
             [
              0.6666666666666666,
              "#ed7953"
             ],
             [
              0.7777777777777778,
              "#fb9f3a"
             ],
             [
              0.8888888888888888,
              "#fdca26"
             ],
             [
              1,
              "#f0f921"
             ]
            ],
            "type": "histogram2d"
           }
          ],
          "histogram2dcontour": [
           {
            "colorbar": {
             "outlinewidth": 0,
             "ticks": ""
            },
            "colorscale": [
             [
              0,
              "#0d0887"
             ],
             [
              0.1111111111111111,
              "#46039f"
             ],
             [
              0.2222222222222222,
              "#7201a8"
             ],
             [
              0.3333333333333333,
              "#9c179e"
             ],
             [
              0.4444444444444444,
              "#bd3786"
             ],
             [
              0.5555555555555556,
              "#d8576b"
             ],
             [
              0.6666666666666666,
              "#ed7953"
             ],
             [
              0.7777777777777778,
              "#fb9f3a"
             ],
             [
              0.8888888888888888,
              "#fdca26"
             ],
             [
              1,
              "#f0f921"
             ]
            ],
            "type": "histogram2dcontour"
           }
          ],
          "mesh3d": [
           {
            "colorbar": {
             "outlinewidth": 0,
             "ticks": ""
            },
            "type": "mesh3d"
           }
          ],
          "parcoords": [
           {
            "line": {
             "colorbar": {
              "outlinewidth": 0,
              "ticks": ""
             }
            },
            "type": "parcoords"
           }
          ],
          "pie": [
           {
            "automargin": true,
            "type": "pie"
           }
          ],
          "scatter": [
           {
            "marker": {
             "colorbar": {
              "outlinewidth": 0,
              "ticks": ""
             }
            },
            "type": "scatter"
           }
          ],
          "scatter3d": [
           {
            "line": {
             "colorbar": {
              "outlinewidth": 0,
              "ticks": ""
             }
            },
            "marker": {
             "colorbar": {
              "outlinewidth": 0,
              "ticks": ""
             }
            },
            "type": "scatter3d"
           }
          ],
          "scattercarpet": [
           {
            "marker": {
             "colorbar": {
              "outlinewidth": 0,
              "ticks": ""
             }
            },
            "type": "scattercarpet"
           }
          ],
          "scattergeo": [
           {
            "marker": {
             "colorbar": {
              "outlinewidth": 0,
              "ticks": ""
             }
            },
            "type": "scattergeo"
           }
          ],
          "scattergl": [
           {
            "marker": {
             "colorbar": {
              "outlinewidth": 0,
              "ticks": ""
             }
            },
            "type": "scattergl"
           }
          ],
          "scattermapbox": [
           {
            "marker": {
             "colorbar": {
              "outlinewidth": 0,
              "ticks": ""
             }
            },
            "type": "scattermapbox"
           }
          ],
          "scatterpolar": [
           {
            "marker": {
             "colorbar": {
              "outlinewidth": 0,
              "ticks": ""
             }
            },
            "type": "scatterpolar"
           }
          ],
          "scatterpolargl": [
           {
            "marker": {
             "colorbar": {
              "outlinewidth": 0,
              "ticks": ""
             }
            },
            "type": "scatterpolargl"
           }
          ],
          "scatterternary": [
           {
            "marker": {
             "colorbar": {
              "outlinewidth": 0,
              "ticks": ""
             }
            },
            "type": "scatterternary"
           }
          ],
          "surface": [
           {
            "colorbar": {
             "outlinewidth": 0,
             "ticks": ""
            },
            "colorscale": [
             [
              0,
              "#0d0887"
             ],
             [
              0.1111111111111111,
              "#46039f"
             ],
             [
              0.2222222222222222,
              "#7201a8"
             ],
             [
              0.3333333333333333,
              "#9c179e"
             ],
             [
              0.4444444444444444,
              "#bd3786"
             ],
             [
              0.5555555555555556,
              "#d8576b"
             ],
             [
              0.6666666666666666,
              "#ed7953"
             ],
             [
              0.7777777777777778,
              "#fb9f3a"
             ],
             [
              0.8888888888888888,
              "#fdca26"
             ],
             [
              1,
              "#f0f921"
             ]
            ],
            "type": "surface"
           }
          ],
          "table": [
           {
            "cells": {
             "fill": {
              "color": "#EBF0F8"
             },
             "line": {
              "color": "white"
             }
            },
            "header": {
             "fill": {
              "color": "#C8D4E3"
             },
             "line": {
              "color": "white"
             }
            },
            "type": "table"
           }
          ]
         },
         "layout": {
          "annotationdefaults": {
           "arrowcolor": "#2a3f5f",
           "arrowhead": 0,
           "arrowwidth": 1
          },
          "autotypenumbers": "strict",
          "coloraxis": {
           "colorbar": {
            "outlinewidth": 0,
            "ticks": ""
           }
          },
          "colorscale": {
           "diverging": [
            [
             0,
             "#8e0152"
            ],
            [
             0.1,
             "#c51b7d"
            ],
            [
             0.2,
             "#de77ae"
            ],
            [
             0.3,
             "#f1b6da"
            ],
            [
             0.4,
             "#fde0ef"
            ],
            [
             0.5,
             "#f7f7f7"
            ],
            [
             0.6,
             "#e6f5d0"
            ],
            [
             0.7,
             "#b8e186"
            ],
            [
             0.8,
             "#7fbc41"
            ],
            [
             0.9,
             "#4d9221"
            ],
            [
             1,
             "#276419"
            ]
           ],
           "sequential": [
            [
             0,
             "#0d0887"
            ],
            [
             0.1111111111111111,
             "#46039f"
            ],
            [
             0.2222222222222222,
             "#7201a8"
            ],
            [
             0.3333333333333333,
             "#9c179e"
            ],
            [
             0.4444444444444444,
             "#bd3786"
            ],
            [
             0.5555555555555556,
             "#d8576b"
            ],
            [
             0.6666666666666666,
             "#ed7953"
            ],
            [
             0.7777777777777778,
             "#fb9f3a"
            ],
            [
             0.8888888888888888,
             "#fdca26"
            ],
            [
             1,
             "#f0f921"
            ]
           ],
           "sequentialminus": [
            [
             0,
             "#0d0887"
            ],
            [
             0.1111111111111111,
             "#46039f"
            ],
            [
             0.2222222222222222,
             "#7201a8"
            ],
            [
             0.3333333333333333,
             "#9c179e"
            ],
            [
             0.4444444444444444,
             "#bd3786"
            ],
            [
             0.5555555555555556,
             "#d8576b"
            ],
            [
             0.6666666666666666,
             "#ed7953"
            ],
            [
             0.7777777777777778,
             "#fb9f3a"
            ],
            [
             0.8888888888888888,
             "#fdca26"
            ],
            [
             1,
             "#f0f921"
            ]
           ]
          },
          "colorway": [
           "#636efa",
           "#EF553B",
           "#00cc96",
           "#ab63fa",
           "#FFA15A",
           "#19d3f3",
           "#FF6692",
           "#B6E880",
           "#FF97FF",
           "#FECB52"
          ],
          "font": {
           "color": "#2a3f5f"
          },
          "geo": {
           "bgcolor": "white",
           "lakecolor": "white",
           "landcolor": "#E5ECF6",
           "showlakes": true,
           "showland": true,
           "subunitcolor": "white"
          },
          "hoverlabel": {
           "align": "left"
          },
          "hovermode": "closest",
          "mapbox": {
           "style": "light"
          },
          "paper_bgcolor": "white",
          "plot_bgcolor": "#E5ECF6",
          "polar": {
           "angularaxis": {
            "gridcolor": "white",
            "linecolor": "white",
            "ticks": ""
           },
           "bgcolor": "#E5ECF6",
           "radialaxis": {
            "gridcolor": "white",
            "linecolor": "white",
            "ticks": ""
           }
          },
          "scene": {
           "xaxis": {
            "backgroundcolor": "#E5ECF6",
            "gridcolor": "white",
            "gridwidth": 2,
            "linecolor": "white",
            "showbackground": true,
            "ticks": "",
            "zerolinecolor": "white"
           },
           "yaxis": {
            "backgroundcolor": "#E5ECF6",
            "gridcolor": "white",
            "gridwidth": 2,
            "linecolor": "white",
            "showbackground": true,
            "ticks": "",
            "zerolinecolor": "white"
           },
           "zaxis": {
            "backgroundcolor": "#E5ECF6",
            "gridcolor": "white",
            "gridwidth": 2,
            "linecolor": "white",
            "showbackground": true,
            "ticks": "",
            "zerolinecolor": "white"
           }
          },
          "shapedefaults": {
           "line": {
            "color": "#2a3f5f"
           }
          },
          "ternary": {
           "aaxis": {
            "gridcolor": "white",
            "linecolor": "white",
            "ticks": ""
           },
           "baxis": {
            "gridcolor": "white",
            "linecolor": "white",
            "ticks": ""
           },
           "bgcolor": "#E5ECF6",
           "caxis": {
            "gridcolor": "white",
            "linecolor": "white",
            "ticks": ""
           }
          },
          "title": {
           "x": 0.05
          },
          "xaxis": {
           "automargin": true,
           "gridcolor": "white",
           "linecolor": "white",
           "ticks": "",
           "title": {
            "standoff": 15
           },
           "zerolinecolor": "white",
           "zerolinewidth": 2
          },
          "yaxis": {
           "automargin": true,
           "gridcolor": "white",
           "linecolor": "white",
           "ticks": "",
           "title": {
            "standoff": 15
           },
           "zerolinecolor": "white",
           "zerolinewidth": 2
          }
         }
        }
       }
      },
      "image/png": "[encoded data removed]",
      "text/html": [
       "<div>                            <div id=\"79c33354-1005-4c3e-9903-3ebf599d4d6b\" class=\"plotly-graph-div\" style=\"height:525px; width:100%;\"></div>            <script type=\"text/javascript\">                require([\"plotly\"], function(Plotly) {                    window.PLOTLYENV=window.PLOTLYENV || {};                                    if (document.getElementById(\"79c33354-1005-4c3e-9903-3ebf599d4d6b\")) {                    Plotly.newPlot(                        \"79c33354-1005-4c3e-9903-3ebf599d4d6b\",                        [{\"customdata\":[[237288.0]],\"hovertemplate\":\"<b>%{hovertext}</b><br><br>County=Alachua<br>Median Home Price Q1 2021=%{customdata[0]}<br>Lat=%{lat}<br>Long=%{lon}<extra></extra>\",\"hovertext\":[\"237288.0\"],\"lat\":[29.676436],\"legendgroup\":\"Alachua\",\"lon\":[-82.379953],\"marker\":{\"color\":\"#636efa\",\"size\":[237288.0],\"sizemode\":\"area\",\"sizeref\":1535.995},\"mode\":\"markers\",\"name\":\"Alachua\",\"showlegend\":true,\"subplot\":\"mapbox\",\"type\":\"scattermapbox\"},{\"customdata\":[[151241.0]],\"hovertemplate\":\"<b>%{hovertext}</b><br><br>County=Baker<br>Median Home Price Q1 2021=%{customdata[0]}<br>Lat=%{lat}<br>Long=%{lon}<extra></extra>\",\"hovertext\":[\"151241.0\"],\"lat\":[30.287517],\"legendgroup\":\"Baker\",\"lon\":[-82.236268],\"marker\":{\"color\":\"#EF553B\",\"size\":[151241.0],\"sizemode\":\"area\",\"sizeref\":1535.995},\"mode\":\"markers\",\"name\":\"Baker\",\"showlegend\":true,\"subplot\":\"mapbox\",\"type\":\"scattermapbox\"},{\"customdata\":[[220032.0]],\"hovertemplate\":\"<b>%{hovertext}</b><br><br>County=Bay<br>Median Home Price Q1 2021=%{customdata[0]}<br>Lat=%{lat}<br>Long=%{lon}<extra></extra>\",\"hovertext\":[\"220032.0\"],\"lat\":[30.21917],\"legendgroup\":\"Bay\",\"lon\":[-85.638788],\"marker\":{\"color\":\"#00cc96\",\"size\":[220032.0],\"sizemode\":\"area\",\"sizeref\":1535.995},\"mode\":\"markers\",\"name\":\"Bay\",\"showlegend\":true,\"subplot\":\"mapbox\",\"type\":\"scattermapbox\"},{\"customdata\":[[252790.0]],\"hovertemplate\":\"<b>%{hovertext}</b><br><br>County=Bevard<br>Median Home Price Q1 2021=%{customdata[0]}<br>Lat=%{lat}<br>Long=%{lon}<extra></extra>\",\"hovertext\":[\"252790.0\"],\"lat\":[28.0833333],\"legendgroup\":\"Bevard\",\"lon\":[-80.6083333],\"marker\":{\"color\":\"#ab63fa\",\"size\":[252790.0],\"sizemode\":\"area\",\"sizeref\":1535.995},\"mode\":\"markers\",\"name\":\"Bevard\",\"showlegend\":true,\"subplot\":\"mapbox\",\"type\":\"scattermapbox\"},{\"customdata\":[[120402.0]],\"hovertemplate\":\"<b>%{hovertext}</b><br><br>County=Bradford<br>Median Home Price Q1 2021=%{customdata[0]}<br>Lat=%{lat}<br>Long=%{lon}<extra></extra>\",\"hovertext\":[\"120402.0\"],\"lat\":[29.928876],\"legendgroup\":\"Bradford\",\"lon\":[-82.142368],\"marker\":{\"color\":\"#FFA15A\",\"size\":[120402.0],\"sizemode\":\"area\",\"sizeref\":1535.995},\"mode\":\"markers\",\"name\":\"Bradford\",\"showlegend\":true,\"subplot\":\"mapbox\",\"type\":\"scattermapbox\"},{\"customdata\":[[327349.0]],\"hovertemplate\":\"<b>%{hovertext}</b><br><br>County=Broward<br>Median Home Price Q1 2021=%{customdata[0]}<br>Lat=%{lat}<br>Long=%{lon}<extra></extra>\",\"hovertext\":[\"327349.0\"],\"lat\":[26.134788],\"legendgroup\":\"Broward\",\"lon\":[-80.206098],\"marker\":{\"color\":\"#19d3f3\",\"size\":[327349.0],\"sizemode\":\"area\",\"sizeref\":1535.995},\"mode\":\"markers\",\"name\":\"Broward\",\"showlegend\":true,\"subplot\":\"mapbox\",\"type\":\"scattermapbox\"},{\"customdata\":[[92366.0]],\"hovertemplate\":\"<b>%{hovertext}</b><br><br>County=Calhoun<br>Median Home Price Q1 2021=%{customdata[0]}<br>Lat=%{lat}<br>Long=%{lon}<extra></extra>\",\"hovertext\":[\"92366.0\"],\"lat\":[30.428611],\"legendgroup\":\"Calhoun\",\"lon\":[-85.186786],\"marker\":{\"color\":\"#FF6692\",\"size\":[92366.0],\"sizemode\":\"area\",\"sizeref\":1535.995},\"mode\":\"markers\",\"name\":\"Calhoun\",\"showlegend\":true,\"subplot\":\"mapbox\",\"type\":\"scattermapbox\"},{\"customdata\":[[250482.0]],\"hovertemplate\":\"<b>%{hovertext}</b><br><br>County=Charlotte<br>Median Home Price Q1 2021=%{customdata[0]}<br>Lat=%{lat}<br>Long=%{lon}<extra></extra>\",\"hovertext\":[\"250482.0\"],\"lat\":[26.952873],\"legendgroup\":\"Charlotte\",\"lon\":[-82.131242],\"marker\":{\"color\":\"#B6E880\",\"size\":[250482.0],\"sizemode\":\"area\",\"sizeref\":1535.995},\"mode\":\"markers\",\"name\":\"Charlotte\",\"showlegend\":true,\"subplot\":\"mapbox\",\"type\":\"scattermapbox\"},{\"customdata\":[[169954.0]],\"hovertemplate\":\"<b>%{hovertext}</b><br><br>County=Citrus<br>Median Home Price Q1 2021=%{customdata[0]}<br>Lat=%{lat}<br>Long=%{lon}<extra></extra>\",\"hovertext\":[\"169954.0\"],\"lat\":[28.894637],\"legendgroup\":\"Citrus\",\"lon\":[-82.469163],\"marker\":{\"color\":\"#FF97FF\",\"size\":[169954.0],\"sizemode\":\"area\",\"sizeref\":1535.995},\"mode\":\"markers\",\"name\":\"Citrus\",\"showlegend\":true,\"subplot\":\"mapbox\",\"type\":\"scattermapbox\"},{\"customdata\":[[233558.0]],\"hovertemplate\":\"<b>%{hovertext}</b><br><br>County=Clay<br>Median Home Price Q1 2021=%{customdata[0]}<br>Lat=%{lat}<br>Long=%{lon}<extra></extra>\",\"hovertext\":[\"233558.0\"],\"lat\":[30.000401],\"legendgroup\":\"Clay\",\"lon\":[-81.823736],\"marker\":{\"color\":\"#FECB52\",\"size\":[233558.0],\"sizemode\":\"area\",\"sizeref\":1535.995},\"mode\":\"markers\",\"name\":\"Clay\",\"showlegend\":true,\"subplot\":\"mapbox\",\"type\":\"scattermapbox\"},{\"customdata\":[[401446.0]],\"hovertemplate\":\"<b>%{hovertext}</b><br><br>County=Collier<br>Median Home Price Q1 2021=%{customdata[0]}<br>Lat=%{lat}<br>Long=%{lon}<extra></extra>\",\"hovertext\":[\"401446.0\"],\"lat\":[26.155113],\"legendgroup\":\"Collier\",\"lon\":[-81.671313],\"marker\":{\"color\":\"#636efa\",\"size\":[401446.0],\"sizemode\":\"area\",\"sizeref\":1535.995},\"mode\":\"markers\",\"name\":\"Collier\",\"showlegend\":true,\"subplot\":\"mapbox\",\"type\":\"scattermapbox\"},{\"customdata\":[[175713.0]],\"hovertemplate\":\"<b>%{hovertext}</b><br><br>County=Columbia<br>Median Home Price Q1 2021=%{customdata[0]}<br>Lat=%{lat}<br>Long=%{lon}<extra></extra>\",\"hovertext\":[\"175713.0\"],\"lat\":[30.1839],\"legendgroup\":\"Columbia\",\"lon\":[-82.638781],\"marker\":{\"color\":\"#EF553B\",\"size\":[175713.0],\"sizemode\":\"area\",\"sizeref\":1535.995},\"mode\":\"markers\",\"name\":\"Columbia\",\"showlegend\":true,\"subplot\":\"mapbox\",\"type\":\"scattermapbox\"},{\"customdata\":[[95300.0]],\"hovertemplate\":\"<b>%{hovertext}</b><br><br>County=DeSoto<br>Median Home Price Q1 2021=%{customdata[0]}<br>Lat=%{lat}<br>Long=%{lon}<extra></extra>\",\"hovertext\":[\"95300.0\"],\"lat\":[27.201006],\"legendgroup\":\"DeSoto\",\"lon\":[-81.871967],\"marker\":{\"color\":\"#00cc96\",\"size\":[95300.0],\"sizemode\":\"area\",\"sizeref\":1535.995},\"mode\":\"markers\",\"name\":\"DeSoto\",\"showlegend\":true,\"subplot\":\"mapbox\",\"type\":\"scattermapbox\"},{\"customdata\":[[85303.0]],\"hovertemplate\":\"<b>%{hovertext}</b><br><br>County=Dixie<br>Median Home Price Q1 2021=%{customdata[0]}<br>Lat=%{lat}<br>Long=%{lon}<extra></extra>\",\"hovertext\":[\"85303.0\"],\"lat\":[29.607261],\"legendgroup\":\"Dixie\",\"lon\":[-83.119978],\"marker\":{\"color\":\"#ab63fa\",\"size\":[85303.0],\"sizemode\":\"area\",\"sizeref\":1535.995},\"mode\":\"markers\",\"name\":\"Dixie\",\"showlegend\":true,\"subplot\":\"mapbox\",\"type\":\"scattermapbox\"},{\"customdata\":[[226045.0]],\"hovertemplate\":\"<b>%{hovertext}</b><br><br>County=Duval<br>Median Home Price Q1 2021=%{customdata[0]}<br>Lat=%{lat}<br>Long=%{lon}<extra></extra>\",\"hovertext\":[\"226045.0\"],\"lat\":[30.320873],\"legendgroup\":\"Duval\",\"lon\":[-81.638873],\"marker\":{\"color\":\"#FFA15A\",\"size\":[226045.0],\"sizemode\":\"area\",\"sizeref\":1535.995},\"mode\":\"markers\",\"name\":\"Duval\",\"showlegend\":true,\"subplot\":\"mapbox\",\"type\":\"scattermapbox\"},{\"customdata\":[[194925.0]],\"hovertemplate\":\"<b>%{hovertext}</b><br><br>County=Escambia<br>Median Home Price Q1 2021=%{customdata[0]}<br>Lat=%{lat}<br>Long=%{lon}<extra></extra>\",\"hovertext\":[\"194925.0\"],\"lat\":[30.502045],\"legendgroup\":\"Escambia\",\"lon\":[-87.277355],\"marker\":{\"color\":\"#19d3f3\",\"size\":[194925.0],\"sizemode\":\"area\",\"sizeref\":1535.995},\"mode\":\"markers\",\"name\":\"Escambia\",\"showlegend\":true,\"subplot\":\"mapbox\",\"type\":\"scattermapbox\"},{\"customdata\":[[180386.0]],\"hovertemplate\":\"<b>%{hovertext}</b><br><br>County=Franklin<br>Median Home Price Q1 2021=%{customdata[0]}<br>Lat=%{lat}<br>Long=%{lon}<extra></extra>\",\"hovertext\":[\"180386.0\"],\"lat\":[29.842944],\"legendgroup\":\"Franklin\",\"lon\":[-84.789354],\"marker\":{\"color\":\"#FF6692\",\"size\":[180386.0],\"sizemode\":\"area\",\"sizeref\":1535.995},\"mode\":\"markers\",\"name\":\"Franklin\",\"showlegend\":true,\"subplot\":\"mapbox\",\"type\":\"scattermapbox\"},{\"customdata\":[[103279.0]],\"hovertemplate\":\"<b>%{hovertext}</b><br><br>County=Gadsden<br>Median Home Price Q1 2021=%{customdata[0]}<br>Lat=%{lat}<br>Long=%{lon}<extra></extra>\",\"hovertext\":[\"103279.0\"],\"lat\":[30.603309],\"legendgroup\":\"Gadsden\",\"lon\":[-84.618328],\"marker\":{\"color\":\"#B6E880\",\"size\":[103279.0],\"sizemode\":\"area\",\"sizeref\":1535.995},\"mode\":\"markers\",\"name\":\"Gadsden\",\"showlegend\":true,\"subplot\":\"mapbox\",\"type\":\"scattermapbox\"},{\"customdata\":[[113344.0]],\"hovertemplate\":\"<b>%{hovertext}</b><br><br>County=Gilchrist<br>Median Home Price Q1 2021=%{customdata[0]}<br>Lat=%{lat}<br>Long=%{lon}<extra></extra>\",\"hovertext\":[\"113344.0\"],\"lat\":[29.709927],\"legendgroup\":\"Gilchrist\",\"lon\":[-82.832899],\"marker\":{\"color\":\"#FF97FF\",\"size\":[113344.0],\"sizemode\":\"area\",\"sizeref\":1535.995},\"mode\":\"markers\",\"name\":\"Gilchrist\",\"showlegend\":true,\"subplot\":\"mapbox\",\"type\":\"scattermapbox\"},{\"customdata\":[[83347.0]],\"hovertemplate\":\"<b>%{hovertext}</b><br><br>County=Glades<br>Median Home Price Q1 2021=%{customdata[0]}<br>Lat=%{lat}<br>Long=%{lon}<extra></extra>\",\"hovertext\":[\"83347.0\"],\"lat\":[26.891982],\"legendgroup\":\"Glades\",\"lon\":[-81.168365],\"marker\":{\"color\":\"#FECB52\",\"size\":[83347.0],\"sizemode\":\"area\",\"sizeref\":1535.995},\"mode\":\"markers\",\"name\":\"Glades\",\"showlegend\":true,\"subplot\":\"mapbox\",\"type\":\"scattermapbox\"},{\"customdata\":[[174626.0]],\"hovertemplate\":\"<b>%{hovertext}</b><br><br>County=Gulf<br>Median Home Price Q1 2021=%{customdata[0]}<br>Lat=%{lat}<br>Long=%{lon}<extra></extra>\",\"hovertext\":[\"174626.0\"],\"lat\":[29.940016],\"legendgroup\":\"Gulf\",\"lon\":[-85.267756],\"marker\":{\"color\":\"#636efa\",\"size\":[174626.0],\"sizemode\":\"area\",\"sizeref\":1535.995},\"mode\":\"markers\",\"name\":\"Gulf\",\"showlegend\":true,\"subplot\":\"mapbox\",\"type\":\"scattermapbox\"},{\"customdata\":[[87041.0]],\"hovertemplate\":\"<b>%{hovertext}</b><br><br>County=Hamilton<br>Median Home Price Q1 2021=%{customdata[0]}<br>Lat=%{lat}<br>Long=%{lon}<extra></extra>\",\"hovertext\":[\"87041.0\"],\"lat\":[30.491893],\"legendgroup\":\"Hamilton\",\"lon\":[-82.948765],\"marker\":{\"color\":\"#EF553B\",\"size\":[87041.0],\"sizemode\":\"area\",\"sizeref\":1535.995},\"mode\":\"markers\",\"name\":\"Hamilton\",\"showlegend\":true,\"subplot\":\"mapbox\",\"type\":\"scattermapbox\"},{\"customdata\":[[90627.0]],\"hovertemplate\":\"<b>%{hovertext}</b><br><br>County=Hardee<br>Median Home Price Q1 2021=%{customdata[0]}<br>Lat=%{lat}<br>Long=%{lon}<extra></extra>\",\"hovertext\":[\"90627.0\"],\"lat\":[27.538231],\"legendgroup\":\"Hardee\",\"lon\":[-81.809106],\"marker\":{\"color\":\"#00cc96\",\"size\":[90627.0],\"sizemode\":\"area\",\"sizeref\":1535.995},\"mode\":\"markers\",\"name\":\"Hardee\",\"showlegend\":true,\"subplot\":\"mapbox\",\"type\":\"scattermapbox\"},{\"customdata\":[[102689.0]],\"hovertemplate\":\"<b>%{hovertext}</b><br><br>County=Hendry<br>Median Home Price Q1 2021=%{customdata[0]}<br>Lat=%{lat}<br>Long=%{lon}<extra></extra>\",\"hovertext\":[\"102689.0\"],\"lat\":[26.696403],\"legendgroup\":\"Hendry\",\"lon\":[-81.191622],\"marker\":{\"color\":\"#ab63fa\",\"size\":[102689.0],\"sizemode\":\"area\",\"sizeref\":1535.995},\"mode\":\"markers\",\"name\":\"Hendry\",\"showlegend\":true,\"subplot\":\"mapbox\",\"type\":\"scattermapbox\"},{\"customdata\":[[192135.0]],\"hovertemplate\":\"<b>%{hovertext}</b><br><br>County=Hernando<br>Median Home Price Q1 2021=%{customdata[0]}<br>Lat=%{lat}<br>Long=%{lon}<extra></extra>\",\"hovertext\":[\"192135.0\"],\"lat\":[28.521291],\"legendgroup\":\"Hernando\",\"lon\":[-82.481399],\"marker\":{\"color\":\"#FFA15A\",\"size\":[192135.0],\"sizemode\":\"area\",\"sizeref\":1535.995},\"mode\":\"markers\",\"name\":\"Hernando\",\"showlegend\":true,\"subplot\":\"mapbox\",\"type\":\"scattermapbox\"},{\"customdata\":[[157457.0]],\"hovertemplate\":\"<b>%{hovertext}</b><br><br>County=Highlands<br>Median Home Price Q1 2021=%{customdata[0]}<br>Lat=%{lat}<br>Long=%{lon}<extra></extra>\",\"hovertext\":[\"157457.0\"],\"lat\":[27.439711],\"legendgroup\":\"Highlands\",\"lon\":[-81.428524],\"marker\":{\"color\":\"#19d3f3\",\"size\":[157457.0],\"sizemode\":\"area\",\"sizeref\":1535.995},\"mode\":\"markers\",\"name\":\"Highlands\",\"showlegend\":true,\"subplot\":\"mapbox\",\"type\":\"scattermapbox\"},{\"customdata\":[[272517.0]],\"hovertemplate\":\"<b>%{hovertext}</b><br><br>County=Hillsborough<br>Median Home Price Q1 2021=%{customdata[0]}<br>Lat=%{lat}<br>Long=%{lon}<extra></extra>\",\"hovertext\":[\"272517.0\"],\"lat\":[27.966349],\"legendgroup\":\"Hillsborough\",\"lon\":[-82.412079],\"marker\":{\"color\":\"#FF6692\",\"size\":[272517.0],\"sizemode\":\"area\",\"sizeref\":1535.995},\"mode\":\"markers\",\"name\":\"Hillsborough\",\"showlegend\":true,\"subplot\":\"mapbox\",\"type\":\"scattermapbox\"},{\"customdata\":[[100733.0]],\"hovertemplate\":\"<b>%{hovertext}</b><br><br>County=Holmes<br>Median Home Price Q1 2021=%{customdata[0]}<br>Lat=%{lat}<br>Long=%{lon}<extra></extra>\",\"hovertext\":[\"100733.0\"],\"lat\":[30.853637],\"legendgroup\":\"Holmes\",\"lon\":[-85.785748],\"marker\":{\"color\":\"#B6E880\",\"size\":[100733.0],\"sizemode\":\"area\",\"sizeref\":1535.995},\"mode\":\"markers\",\"name\":\"Holmes\",\"showlegend\":true,\"subplot\":\"mapbox\",\"type\":\"scattermapbox\"},{\"customdata\":[[262291.0]],\"hovertemplate\":\"<b>%{hovertext}</b><br><br>County=Indian River<br>Median Home Price Q1 2021=%{customdata[0]}<br>Lat=%{lat}<br>Long=%{lon}<extra></extra>\",\"hovertext\":[\"262291.0\"],\"lat\":[27.695124],\"legendgroup\":\"Indian River\",\"lon\":[-80.454056],\"marker\":{\"color\":\"#FF97FF\",\"size\":[262291.0],\"sizemode\":\"area\",\"sizeref\":1535.995},\"mode\":\"markers\",\"name\":\"Indian River\",\"showlegend\":true,\"subplot\":\"mapbox\",\"type\":\"scattermapbox\"},{\"customdata\":[[107579.0]],\"hovertemplate\":\"<b>%{hovertext}</b><br><br>County=Jackson<br>Median Home Price Q1 2021=%{customdata[0]}<br>Lat=%{lat}<br>Long=%{lon}<extra></extra>\",\"hovertext\":[\"107579.0\"],\"lat\":[30.769903],\"legendgroup\":\"Jackson\",\"lon\":[-85.241124],\"marker\":{\"color\":\"#FECB52\",\"size\":[107579.0],\"sizemode\":\"area\",\"sizeref\":1535.995},\"mode\":\"markers\",\"name\":\"Jackson\",\"showlegend\":true,\"subplot\":\"mapbox\",\"type\":\"scattermapbox\"},{\"customdata\":[[142436.0]],\"hovertemplate\":\"<b>%{hovertext}</b><br><br>County=Jefferson<br>Median Home Price Q1 2021=%{customdata[0]}<br>Lat=%{lat}<br>Long=%{lon}<extra></extra>\",\"hovertext\":[\"142436.0\"],\"lat\":[30.510187],\"legendgroup\":\"Jefferson\",\"lon\":[-83.884229],\"marker\":{\"color\":\"#636efa\",\"size\":[142436.0],\"sizemode\":\"area\",\"sizeref\":1535.995},\"mode\":\"markers\",\"name\":\"Jefferson\",\"showlegend\":true,\"subplot\":\"mapbox\",\"type\":\"scattermapbox\"},{\"customdata\":[[113773.0]],\"hovertemplate\":\"<b>%{hovertext}</b><br><br>County=Lafayette<br>Median Home Price Q1 2021=%{customdata[0]}<br>Lat=%{lat}<br>Long=%{lon}<extra></extra>\",\"hovertext\":[\"113773.0\"],\"lat\":[30.00143],\"legendgroup\":\"Lafayette\",\"lon\":[-83.183264],\"marker\":{\"color\":\"#EF553B\",\"size\":[113773.0],\"sizemode\":\"area\",\"sizeref\":1535.995},\"mode\":\"markers\",\"name\":\"Lafayette\",\"showlegend\":true,\"subplot\":\"mapbox\",\"type\":\"scattermapbox\"},{\"customdata\":[[242017.0]],\"hovertemplate\":\"<b>%{hovertext}</b><br><br>County=Lake<br>Median Home Price Q1 2021=%{customdata[0]}<br>Lat=%{lat}<br>Long=%{lon}<extra></extra>\",\"hovertext\":[\"242017.0\"],\"lat\":[28.795924],\"legendgroup\":\"Lake\",\"lon\":[-81.747696],\"marker\":{\"color\":\"#00cc96\",\"size\":[242017.0],\"sizemode\":\"area\",\"sizeref\":1535.995},\"mode\":\"markers\",\"name\":\"Lake\",\"showlegend\":true,\"subplot\":\"mapbox\",\"type\":\"scattermapbox\"},{\"customdata\":[[268314.0]],\"hovertemplate\":\"<b>%{hovertext}</b><br><br>County=Lee<br>Median Home Price Q1 2021=%{customdata[0]}<br>Lat=%{lat}<br>Long=%{lon}<extra></extra>\",\"hovertext\":[\"268314.0\"],\"lat\":[26.602541],\"legendgroup\":\"Lee\",\"lon\":[-81.846262],\"marker\":{\"color\":\"#ab63fa\",\"size\":[268314.0],\"sizemode\":\"area\",\"sizeref\":1535.995},\"mode\":\"markers\",\"name\":\"Lee\",\"showlegend\":true,\"subplot\":\"mapbox\",\"type\":\"scattermapbox\"},{\"customdata\":[[241021.0]],\"hovertemplate\":\"<b>%{hovertext}</b><br><br>County=Leon<br>Median Home Price Q1 2021=%{customdata[0]}<br>Lat=%{lat}<br>Long=%{lon}<extra></extra>\",\"hovertext\":[\"241021.0\"],\"lat\":[30.462933],\"legendgroup\":\"Leon\",\"lon\":[-84.260888],\"marker\":{\"color\":\"#FFA15A\",\"size\":[241021.0],\"sizemode\":\"area\",\"sizeref\":1535.995},\"mode\":\"markers\",\"name\":\"Leon\",\"showlegend\":true,\"subplot\":\"mapbox\",\"type\":\"scattermapbox\"},{\"customdata\":[[114860.0]],\"hovertemplate\":\"<b>%{hovertext}</b><br><br>County=Levy<br>Median Home Price Q1 2021=%{customdata[0]}<br>Lat=%{lat}<br>Long=%{lon}<extra></extra>\",\"hovertext\":[\"114860.0\"],\"lat\":[29.330144],\"legendgroup\":\"Levy\",\"lon\":[-82.70781],\"marker\":{\"color\":\"#19d3f3\",\"size\":[114860.0],\"sizemode\":\"area\",\"sizeref\":1535.995},\"mode\":\"markers\",\"name\":\"Levy\",\"showlegend\":true,\"subplot\":\"mapbox\",\"type\":\"scattermapbox\"},{\"customdata\":[[81608.0]],\"hovertemplate\":\"<b>%{hovertext}</b><br><br>County=Liberty<br>Median Home Price Q1 2021=%{customdata[0]}<br>Lat=%{lat}<br>Long=%{lon}<extra></extra>\",\"hovertext\":[\"81608.0\"],\"lat\":[30.285745],\"legendgroup\":\"Liberty\",\"lon\":[-84.883242],\"marker\":{\"color\":\"#FF6692\",\"size\":[81608.0],\"sizemode\":\"area\",\"sizeref\":1535.995},\"mode\":\"markers\",\"name\":\"Liberty\",\"showlegend\":true,\"subplot\":\"mapbox\",\"type\":\"scattermapbox\"},{\"customdata\":[[96821.0]],\"hovertemplate\":\"<b>%{hovertext}</b><br><br>County=Madison<br>Median Home Price Q1 2021=%{customdata[0]}<br>Lat=%{lat}<br>Long=%{lon}<extra></extra>\",\"hovertext\":[\"96821.0\"],\"lat\":[30.443902],\"legendgroup\":\"Madison\",\"lon\":[-83.4258],\"marker\":{\"color\":\"#B6E880\",\"size\":[96821.0],\"sizemode\":\"area\",\"sizeref\":1535.995},\"mode\":\"markers\",\"name\":\"Madison\",\"showlegend\":true,\"subplot\":\"mapbox\",\"type\":\"scattermapbox\"},{\"customdata\":[[300807.0]],\"hovertemplate\":\"<b>%{hovertext}</b><br><br>County=Manatee<br>Median Home Price Q1 2021=%{customdata[0]}<br>Lat=%{lat}<br>Long=%{lon}<extra></extra>\",\"hovertext\":[\"300807.0\"],\"lat\":[27.487817],\"legendgroup\":\"Manatee\",\"lon\":[-82.549069],\"marker\":{\"color\":\"#FF97FF\",\"size\":[300807.0],\"sizemode\":\"area\",\"sizeref\":1535.995},\"mode\":\"markers\",\"name\":\"Manatee\",\"showlegend\":true,\"subplot\":\"mapbox\",\"type\":\"scattermapbox\"},{\"customdata\":[[179292.0]],\"hovertemplate\":\"<b>%{hovertext}</b><br><br>County=Marion<br>Median Home Price Q1 2021=%{customdata[0]}<br>Lat=%{lat}<br>Long=%{lon}<extra></extra>\",\"hovertext\":[\"179292.0\"],\"lat\":[29.142855],\"legendgroup\":\"Marion\",\"lon\":[-82.114602],\"marker\":{\"color\":\"#FECB52\",\"size\":[179292.0],\"sizemode\":\"area\",\"sizeref\":1535.995},\"mode\":\"markers\",\"name\":\"Marion\",\"showlegend\":true,\"subplot\":\"mapbox\",\"type\":\"scattermapbox\"},{\"customdata\":[[340082.0]],\"hovertemplate\":\"<b>%{hovertext}</b><br><br>County=Martin<br>Median Home Price Q1 2021=%{customdata[0]}<br>Lat=%{lat}<br>Long=%{lon}<extra></extra>\",\"hovertext\":[\"340082.0\"],\"lat\":[27.132403],\"legendgroup\":\"Martin\",\"lon\":[-80.255862],\"marker\":{\"color\":\"#636efa\",\"size\":[340082.0],\"sizemode\":\"area\",\"sizeref\":1535.995},\"mode\":\"markers\",\"name\":\"Martin\",\"showlegend\":true,\"subplot\":\"mapbox\",\"type\":\"scattermapbox\"},{\"customdata\":[[360149.0]],\"hovertemplate\":\"<b>%{hovertext}</b><br><br>County=Miami-Dade<br>Median Home Price Q1 2021=%{customdata[0]}<br>Lat=%{lat}<br>Long=%{lon}<extra></extra>\",\"hovertext\":[\"360149.0\"],\"lat\":[25.756427],\"legendgroup\":\"Miami-Dade\",\"lon\":[-80.302264],\"marker\":{\"color\":\"#EF553B\",\"size\":[360149.0],\"sizemode\":\"area\",\"sizeref\":1535.995},\"mode\":\"markers\",\"name\":\"Miami-Dade\",\"showlegend\":true,\"subplot\":\"mapbox\",\"type\":\"scattermapbox\"},{\"customdata\":[[614398.0]],\"hovertemplate\":\"<b>%{hovertext}</b><br><br>County=Monroe<br>Median Home Price Q1 2021=%{customdata[0]}<br>Lat=%{lat}<br>Long=%{lon}<extra></extra>\",\"hovertext\":[\"614398.0\"],\"lat\":[24.777558],\"legendgroup\":\"Monroe\",\"lon\":[-81.228495],\"marker\":{\"color\":\"#00cc96\",\"size\":[614398.0],\"sizemode\":\"area\",\"sizeref\":1535.995},\"mode\":\"markers\",\"name\":\"Monroe\",\"showlegend\":true,\"subplot\":\"mapbox\",\"type\":\"scattermapbox\"},{\"customdata\":[[266550.0]],\"hovertemplate\":\"<b>%{hovertext}</b><br><br>County=Nassau<br>Median Home Price Q1 2021=%{customdata[0]}<br>Lat=%{lat}<br>Long=%{lon}<extra></extra>\",\"hovertext\":[\"266550.0\"],\"lat\":[30.623401],\"legendgroup\":\"Nassau\",\"lon\":[-81.704762],\"marker\":{\"color\":\"#ab63fa\",\"size\":[266550.0],\"sizemode\":\"area\",\"sizeref\":1535.995},\"mode\":\"markers\",\"name\":\"Nassau\",\"showlegend\":true,\"subplot\":\"mapbox\",\"type\":\"scattermapbox\"},{\"customdata\":[[270401.0]],\"hovertemplate\":\"<b>%{hovertext}</b><br><br>County=Okaloosa<br>Median Home Price Q1 2021=%{customdata[0]}<br>Lat=%{lat}<br>Long=%{lon}<extra></extra>\",\"hovertext\":[\"270401.0\"],\"lat\":[30.642029],\"legendgroup\":\"Okaloosa\",\"lon\":[-86.562467],\"marker\":{\"color\":\"#FFA15A\",\"size\":[270401.0],\"sizemode\":\"area\",\"sizeref\":1535.995},\"mode\":\"markers\",\"name\":\"Okaloosa\",\"showlegend\":true,\"subplot\":\"mapbox\",\"type\":\"scattermapbox\"},{\"customdata\":[[115186.0]],\"hovertemplate\":\"<b>%{hovertext}</b><br><br>County=Okeechobee<br>Median Home Price Q1 2021=%{customdata[0]}<br>Lat=%{lat}<br>Long=%{lon}<extra></extra>\",\"hovertext\":[\"115186.0\"],\"lat\":[27.32525],\"legendgroup\":\"Okeechobee\",\"lon\":[-80.870875],\"marker\":{\"color\":\"#19d3f3\",\"size\":[115186.0],\"sizemode\":\"area\",\"sizeref\":1535.995},\"mode\":\"markers\",\"name\":\"Okeechobee\",\"showlegend\":true,\"subplot\":\"mapbox\",\"type\":\"scattermapbox\"},{\"customdata\":[[288408.0]],\"hovertemplate\":\"<b>%{hovertext}</b><br><br>County=Orange<br>Median Home Price Q1 2021=%{customdata[0]}<br>Lat=%{lat}<br>Long=%{lon}<extra></extra>\",\"hovertext\":[\"288408.0\"],\"lat\":[28.547129],\"legendgroup\":\"Orange\",\"lon\":[-81.404159],\"marker\":{\"color\":\"#FF6692\",\"size\":[288408.0],\"sizemode\":\"area\",\"sizeref\":1535.995},\"mode\":\"markers\",\"name\":\"Orange\",\"showlegend\":true,\"subplot\":\"mapbox\",\"type\":\"scattermapbox\"},{\"customdata\":[[250343.0]],\"hovertemplate\":\"<b>%{hovertext}</b><br><br>County=Osceola<br>Median Home Price Q1 2021=%{customdata[0]}<br>Lat=%{lat}<br>Long=%{lon}<extra></extra>\",\"hovertext\":[\"250343.0\"],\"lat\":[28.231941],\"legendgroup\":\"Osceola\",\"lon\":[-81.31971],\"marker\":{\"color\":\"#B6E880\",\"size\":[250343.0],\"sizemode\":\"area\",\"sizeref\":1535.995},\"mode\":\"markers\",\"name\":\"Osceola\",\"showlegend\":true,\"subplot\":\"mapbox\",\"type\":\"scattermapbox\"},{\"customdata\":[[339226.0]],\"hovertemplate\":\"<b>%{hovertext}</b><br><br>County=Palm Beach<br>Median Home Price Q1 2021=%{customdata[0]}<br>Lat=%{lat}<br>Long=%{lon}<extra></extra>\",\"hovertext\":[\"339226.0\"],\"lat\":[26.637745],\"legendgroup\":\"Palm Beach\",\"lon\":[-80.176395],\"marker\":{\"color\":\"#FF97FF\",\"size\":[339226.0],\"sizemode\":\"area\",\"sizeref\":1535.995},\"mode\":\"markers\",\"name\":\"Palm Beach\",\"showlegend\":true,\"subplot\":\"mapbox\",\"type\":\"scattermapbox\"},{\"customdata\":[[214575.0]],\"hovertemplate\":\"<b>%{hovertext}</b><br><br>County=Pasco<br>Median Home Price Q1 2021=%{customdata[0]}<br>Lat=%{lat}<br>Long=%{lon}<extra></extra>\",\"hovertext\":[\"214575.0\"],\"lat\":[28.276153],\"legendgroup\":\"Pasco\",\"lon\":[-82.496887],\"marker\":{\"color\":\"#FECB52\",\"size\":[214575.0],\"sizemode\":\"area\",\"sizeref\":1535.995},\"mode\":\"markers\",\"name\":\"Pasco\",\"showlegend\":true,\"subplot\":\"mapbox\",\"type\":\"scattermapbox\"},{\"customdata\":[[258339.0]],\"hovertemplate\":\"<b>%{hovertext}</b><br><br>County=Pinellas<br>Median Home Price Q1 2021=%{customdata[0]}<br>Lat=%{lat}<br>Long=%{lon}<extra></extra>\",\"hovertext\":[\"258339.0\"],\"lat\":[27.889647],\"legendgroup\":\"Pinellas\",\"lon\":[-82.727766],\"marker\":{\"color\":\"#636efa\",\"size\":[258339.0],\"sizemode\":\"area\",\"sizeref\":1535.995},\"mode\":\"markers\",\"name\":\"Pinellas\",\"showlegend\":true,\"subplot\":\"mapbox\",\"type\":\"scattermapbox\"},{\"customdata\":[[196031.0]],\"hovertemplate\":\"<b>%{hovertext}</b><br><br>County=Polk<br>Median Home Price Q1 2021=%{customdata[0]}<br>Lat=%{lat}<br>Long=%{lon}<extra></extra>\",\"hovertext\":[\"196031.0\"],\"lat\":[27.992436],\"legendgroup\":\"Polk\",\"lon\":[-81.758303],\"marker\":{\"color\":\"#EF553B\",\"size\":[196031.0],\"sizemode\":\"area\",\"sizeref\":1535.995},\"mode\":\"markers\",\"name\":\"Polk\",\"showlegend\":true,\"subplot\":\"mapbox\",\"type\":\"scattermapbox\"},{\"customdata\":[[109101.0]],\"hovertemplate\":\"<b>%{hovertext}</b><br><br>County=Putnam<br>Median Home Price Q1 2021=%{customdata[0]}<br>Lat=%{lat}<br>Long=%{lon}<extra></extra>\",\"hovertext\":[\"109101.0\"],\"lat\":[29.597982],\"legendgroup\":\"Putnam\",\"lon\":[-81.758508],\"marker\":{\"color\":\"#00cc96\",\"size\":[109101.0],\"sizemode\":\"area\",\"sizeref\":1535.995},\"mode\":\"markers\",\"name\":\"Putnam\",\"showlegend\":true,\"subplot\":\"mapbox\",\"type\":\"scattermapbox\"},{\"customdata\":[[248977.0]],\"hovertemplate\":\"<b>%{hovertext}</b><br><br>County=Santa Rosa<br>Median Home Price Q1 2021=%{customdata[0]}<br>Lat=%{lat}<br>Long=%{lon}<extra></extra>\",\"hovertext\":[\"248977.0\"],\"lat\":[30.614138],\"legendgroup\":\"Santa Rosa\",\"lon\":[-87.021807],\"marker\":{\"color\":\"#ab63fa\",\"size\":[248977.0],\"sizemode\":\"area\",\"sizeref\":1535.995},\"mode\":\"markers\",\"name\":\"Santa Rosa\",\"showlegend\":true,\"subplot\":\"mapbox\",\"type\":\"scattermapbox\"},{\"customdata\":[[304351.0]],\"hovertemplate\":\"<b>%{hovertext}</b><br><br>County=Sarasota<br>Median Home Price Q1 2021=%{customdata[0]}<br>Lat=%{lat}<br>Long=%{lon}<extra></extra>\",\"hovertext\":[\"304351.0\"],\"lat\":[27.16493],\"legendgroup\":\"Sarasota\",\"lon\":[-82.398881],\"marker\":{\"color\":\"#FFA15A\",\"size\":[304351.0],\"sizemode\":\"area\",\"sizeref\":1535.995},\"mode\":\"markers\",\"name\":\"Sarasota\",\"showlegend\":true,\"subplot\":\"mapbox\",\"type\":\"scattermapbox\"},{\"customdata\":[[299331.0]],\"hovertemplate\":\"<b>%{hovertext}</b><br><br>County=Seminole<br>Median Home Price Q1 2021=%{customdata[0]}<br>Lat=%{lat}<br>Long=%{lon}<extra></extra>\",\"hovertext\":[\"299331.0\"],\"lat\":[28.709909],\"legendgroup\":\"Seminole\",\"lon\":[-81.310831],\"marker\":{\"color\":\"#19d3f3\",\"size\":[299331.0],\"sizemode\":\"area\",\"sizeref\":1535.995},\"mode\":\"markers\",\"name\":\"Seminole\",\"showlegend\":true,\"subplot\":\"mapbox\",\"type\":\"scattermapbox\"},{\"customdata\":[[368792.0]],\"hovertemplate\":\"<b>%{hovertext}</b><br><br>County=St. Johns<br>Median Home Price Q1 2021=%{customdata[0]}<br>Lat=%{lat}<br>Long=%{lon}<extra></extra>\",\"hovertext\":[\"368792.0\"],\"lat\":[29.881862],\"legendgroup\":\"St. Johns\",\"lon\":[-81.358139],\"marker\":{\"color\":\"#FF6692\",\"size\":[368792.0],\"sizemode\":\"area\",\"sizeref\":1535.995},\"mode\":\"markers\",\"name\":\"St. Johns\",\"showlegend\":true,\"subplot\":\"mapbox\",\"type\":\"scattermapbox\"},{\"customdata\":[[249703.0]],\"hovertemplate\":\"<b>%{hovertext}</b><br><br>County=St. Lucie<br>Median Home Price Q1 2021=%{customdata[0]}<br>Lat=%{lat}<br>Long=%{lon}<extra></extra>\",\"hovertext\":[\"249703.0\"],\"lat\":[27.348246],\"legendgroup\":\"St. Lucie\",\"lon\":[-80.360875],\"marker\":{\"color\":\"#B6E880\",\"size\":[249703.0],\"sizemode\":\"area\",\"sizeref\":1535.995},\"mode\":\"markers\",\"name\":\"St. Lucie\",\"showlegend\":true,\"subplot\":\"mapbox\",\"type\":\"scattermapbox\"},{\"customdata\":[[306438.0]],\"hovertemplate\":\"<b>%{hovertext}</b><br><br>County=Sumter<br>Median Home Price Q1 2021=%{customdata[0]}<br>Lat=%{lat}<br>Long=%{lon}<extra></extra>\",\"hovertext\":[\"306438.0\"],\"lat\":[28.770086],\"legendgroup\":\"Sumter\",\"lon\":[-82.075542],\"marker\":{\"color\":\"#FF97FF\",\"size\":[306438.0],\"sizemode\":\"area\",\"sizeref\":1535.995},\"mode\":\"markers\",\"name\":\"Sumter\",\"showlegend\":true,\"subplot\":\"mapbox\",\"type\":\"scattermapbox\"},{\"customdata\":[[110079.0]],\"hovertemplate\":\"<b>%{hovertext}</b><br><br>County=Suwannee<br>Median Home Price Q1 2021=%{customdata[0]}<br>Lat=%{lat}<br>Long=%{lon}<extra></extra>\",\"hovertext\":[\"110079.0\"],\"lat\":[30.191684],\"legendgroup\":\"Suwannee\",\"lon\":[-82.985391],\"marker\":{\"color\":\"#FECB52\",\"size\":[110079.0],\"sizemode\":\"area\",\"sizeref\":1535.995},\"mode\":\"markers\",\"name\":\"Suwannee\",\"showlegend\":true,\"subplot\":\"mapbox\",\"type\":\"scattermapbox\"},{\"customdata\":[[92475.0]],\"hovertemplate\":\"<b>%{hovertext}</b><br><br>County=Taylor<br>Median Home Price Q1 2021=%{customdata[0]}<br>Lat=%{lat}<br>Long=%{lon}<extra></extra>\",\"hovertext\":[\"92475.0\"],\"lat\":[30.053738],\"legendgroup\":\"Taylor\",\"lon\":[-83.585228],\"marker\":{\"color\":\"#636efa\",\"size\":[92475.0],\"sizemode\":\"area\",\"sizeref\":1535.995},\"mode\":\"markers\",\"name\":\"Taylor\",\"showlegend\":true,\"subplot\":\"mapbox\",\"type\":\"scattermapbox\"},{\"customdata\":[[128661.0]],\"hovertemplate\":\"<b>%{hovertext}</b><br><br>County=Union<br>Median Home Price Q1 2021=%{customdata[0]}<br>Lat=%{lat}<br>Long=%{lon}<extra></extra>\",\"hovertext\":[\"128661.0\"],\"lat\":[30.02805],\"legendgroup\":\"Union\",\"lon\":[-82.367222],\"marker\":{\"color\":\"#EF553B\",\"size\":[128661.0],\"sizemode\":\"area\",\"sizeref\":1535.995},\"mode\":\"markers\",\"name\":\"Union\",\"showlegend\":true,\"subplot\":\"mapbox\",\"type\":\"scattermapbox\"},{\"customdata\":[[228766.0]],\"hovertemplate\":\"<b>%{hovertext}</b><br><br>County=Volusia<br>Median Home Price Q1 2021=%{customdata[0]}<br>Lat=%{lat}<br>Long=%{lon}<extra></extra>\",\"hovertext\":[\"228766.0\"],\"lat\":[29.049037],\"legendgroup\":\"Volusia\",\"lon\":[-81.138947],\"marker\":{\"color\":\"#00cc96\",\"size\":[228766.0],\"sizemode\":\"area\",\"sizeref\":1535.995},\"mode\":\"markers\",\"name\":\"Volusia\",\"showlegend\":true,\"subplot\":\"mapbox\",\"type\":\"scattermapbox\"},{\"customdata\":[[153639.0]],\"hovertemplate\":\"<b>%{hovertext}</b><br><br>County=Wakulla<br>Median Home Price Q1 2021=%{customdata[0]}<br>Lat=%{lat}<br>Long=%{lon}<extra></extra>\",\"hovertext\":[\"153639.0\"],\"lat\":[30.14462],\"legendgroup\":\"Wakulla\",\"lon\":[-84.366174],\"marker\":{\"color\":\"#ab63fa\",\"size\":[153639.0],\"sizemode\":\"area\",\"sizeref\":1535.995},\"mode\":\"markers\",\"name\":\"Wakulla\",\"showlegend\":true,\"subplot\":\"mapbox\",\"type\":\"scattermapbox\"},{\"customdata\":[[265362.0]],\"hovertemplate\":\"<b>%{hovertext}</b><br><br>County=Walton<br>Median Home Price Q1 2021=%{customdata[0]}<br>Lat=%{lat}<br>Long=%{lon}<extra></extra>\",\"hovertext\":[\"265362.0\"],\"lat\":[30.637995],\"legendgroup\":\"Walton\",\"lon\":[-86.155962],\"marker\":{\"color\":\"#FFA15A\",\"size\":[265362.0],\"sizemode\":\"area\",\"sizeref\":1535.995},\"mode\":\"markers\",\"name\":\"Walton\",\"showlegend\":true,\"subplot\":\"mapbox\",\"type\":\"scattermapbox\"},{\"customdata\":[[123010.0]],\"hovertemplate\":\"<b>%{hovertext}</b><br><br>County=Washington<br>Median Home Price Q1 2021=%{customdata[0]}<br>Lat=%{lat}<br>Long=%{lon}<extra></extra>\",\"hovertext\":[\"123010.0\"],\"lat\":[30.630591],\"legendgroup\":\"Washington\",\"lon\":[-85.638396],\"marker\":{\"color\":\"#19d3f3\",\"size\":[123010.0],\"sizemode\":\"area\",\"sizeref\":1535.995},\"mode\":\"markers\",\"name\":\"Washington\",\"showlegend\":true,\"subplot\":\"mapbox\",\"type\":\"scattermapbox\"}],                        {\"legend\":{\"itemsizing\":\"constant\",\"title\":{\"text\":\"County\"},\"tracegroupgap\":0},\"mapbox\":{\"accesstoken\":\"pk.eyJ1Ijoid2VpZXJtZWRpYSIsImEiOiJja3F4djAwMjUxMjhrMnVsMzh5aThlcW9yIn0.0EA9aojTBfUEoSEdsqpQUw\",\"center\":{\"lat\":28.92812159545455,\"lon\":-82.71822480757575},\"domain\":{\"x\":[0.0,1.0],\"y\":[0.0,1.0]},\"style\":\"light\",\"zoom\":5},\"margin\":{\"t\":60},\"template\":{\"data\":{\"bar\":[{\"error_x\":{\"color\":\"#2a3f5f\"},\"error_y\":{\"color\":\"#2a3f5f\"},\"marker\":{\"line\":{\"color\":\"#E5ECF6\",\"width\":0.5},\"pattern\":{\"fillmode\":\"overlay\",\"size\":10,\"solidity\":0.2}},\"type\":\"bar\"}],\"barpolar\":[{\"marker\":{\"line\":{\"color\":\"#E5ECF6\",\"width\":0.5},\"pattern\":{\"fillmode\":\"overlay\",\"size\":10,\"solidity\":0.2}},\"type\":\"barpolar\"}],\"carpet\":[{\"aaxis\":{\"endlinecolor\":\"#2a3f5f\",\"gridcolor\":\"white\",\"linecolor\":\"white\",\"minorgridcolor\":\"white\",\"startlinecolor\":\"#2a3f5f\"},\"baxis\":{\"endlinecolor\":\"#2a3f5f\",\"gridcolor\":\"white\",\"linecolor\":\"white\",\"minorgridcolor\":\"white\",\"startlinecolor\":\"#2a3f5f\"},\"type\":\"carpet\"}],\"choropleth\":[{\"colorbar\":{\"outlinewidth\":0,\"ticks\":\"\"},\"type\":\"choropleth\"}],\"contour\":[{\"colorbar\":{\"outlinewidth\":0,\"ticks\":\"\"},\"colorscale\":[[0.0,\"#0d0887\"],[0.1111111111111111,\"#46039f\"],[0.2222222222222222,\"#7201a8\"],[0.3333333333333333,\"#9c179e\"],[0.4444444444444444,\"#bd3786\"],[0.5555555555555556,\"#d8576b\"],[0.6666666666666666,\"#ed7953\"],[0.7777777777777778,\"#fb9f3a\"],[0.8888888888888888,\"#fdca26\"],[1.0,\"#f0f921\"]],\"type\":\"contour\"}],\"contourcarpet\":[{\"colorbar\":{\"outlinewidth\":0,\"ticks\":\"\"},\"type\":\"contourcarpet\"}],\"heatmap\":[{\"colorbar\":{\"outlinewidth\":0,\"ticks\":\"\"},\"colorscale\":[[0.0,\"#0d0887\"],[0.1111111111111111,\"#46039f\"],[0.2222222222222222,\"#7201a8\"],[0.3333333333333333,\"#9c179e\"],[0.4444444444444444,\"#bd3786\"],[0.5555555555555556,\"#d8576b\"],[0.6666666666666666,\"#ed7953\"],[0.7777777777777778,\"#fb9f3a\"],[0.8888888888888888,\"#fdca26\"],[1.0,\"#f0f921\"]],\"type\":\"heatmap\"}],\"heatmapgl\":[{\"colorbar\":{\"outlinewidth\":0,\"ticks\":\"\"},\"colorscale\":[[0.0,\"#0d0887\"],[0.1111111111111111,\"#46039f\"],[0.2222222222222222,\"#7201a8\"],[0.3333333333333333,\"#9c179e\"],[0.4444444444444444,\"#bd3786\"],[0.5555555555555556,\"#d8576b\"],[0.6666666666666666,\"#ed7953\"],[0.7777777777777778,\"#fb9f3a\"],[0.8888888888888888,\"#fdca26\"],[1.0,\"#f0f921\"]],\"type\":\"heatmapgl\"}],\"histogram\":[{\"marker\":{\"pattern\":{\"fillmode\":\"overlay\",\"size\":10,\"solidity\":0.2}},\"type\":\"histogram\"}],\"histogram2d\":[{\"colorbar\":{\"outlinewidth\":0,\"ticks\":\"\"},\"colorscale\":[[0.0,\"#0d0887\"],[0.1111111111111111,\"#46039f\"],[0.2222222222222222,\"#7201a8\"],[0.3333333333333333,\"#9c179e\"],[0.4444444444444444,\"#bd3786\"],[0.5555555555555556,\"#d8576b\"],[0.6666666666666666,\"#ed7953\"],[0.7777777777777778,\"#fb9f3a\"],[0.8888888888888888,\"#fdca26\"],[1.0,\"#f0f921\"]],\"type\":\"histogram2d\"}],\"histogram2dcontour\":[{\"colorbar\":{\"outlinewidth\":0,\"ticks\":\"\"},\"colorscale\":[[0.0,\"#0d0887\"],[0.1111111111111111,\"#46039f\"],[0.2222222222222222,\"#7201a8\"],[0.3333333333333333,\"#9c179e\"],[0.4444444444444444,\"#bd3786\"],[0.5555555555555556,\"#d8576b\"],[0.6666666666666666,\"#ed7953\"],[0.7777777777777778,\"#fb9f3a\"],[0.8888888888888888,\"#fdca26\"],[1.0,\"#f0f921\"]],\"type\":\"histogram2dcontour\"}],\"mesh3d\":[{\"colorbar\":{\"outlinewidth\":0,\"ticks\":\"\"},\"type\":\"mesh3d\"}],\"parcoords\":[{\"line\":{\"colorbar\":{\"outlinewidth\":0,\"ticks\":\"\"}},\"type\":\"parcoords\"}],\"pie\":[{\"automargin\":true,\"type\":\"pie\"}],\"scatter\":[{\"marker\":{\"colorbar\":{\"outlinewidth\":0,\"ticks\":\"\"}},\"type\":\"scatter\"}],\"scatter3d\":[{\"line\":{\"colorbar\":{\"outlinewidth\":0,\"ticks\":\"\"}},\"marker\":{\"colorbar\":{\"outlinewidth\":0,\"ticks\":\"\"}},\"type\":\"scatter3d\"}],\"scattercarpet\":[{\"marker\":{\"colorbar\":{\"outlinewidth\":0,\"ticks\":\"\"}},\"type\":\"scattercarpet\"}],\"scattergeo\":[{\"marker\":{\"colorbar\":{\"outlinewidth\":0,\"ticks\":\"\"}},\"type\":\"scattergeo\"}],\"scattergl\":[{\"marker\":{\"colorbar\":{\"outlinewidth\":0,\"ticks\":\"\"}},\"type\":\"scattergl\"}],\"scattermapbox\":[{\"marker\":{\"colorbar\":{\"outlinewidth\":0,\"ticks\":\"\"}},\"type\":\"scattermapbox\"}],\"scatterpolar\":[{\"marker\":{\"colorbar\":{\"outlinewidth\":0,\"ticks\":\"\"}},\"type\":\"scatterpolar\"}],\"scatterpolargl\":[{\"marker\":{\"colorbar\":{\"outlinewidth\":0,\"ticks\":\"\"}},\"type\":\"scatterpolargl\"}],\"scatterternary\":[{\"marker\":{\"colorbar\":{\"outlinewidth\":0,\"ticks\":\"\"}},\"type\":\"scatterternary\"}],\"surface\":[{\"colorbar\":{\"outlinewidth\":0,\"ticks\":\"\"},\"colorscale\":[[0.0,\"#0d0887\"],[0.1111111111111111,\"#46039f\"],[0.2222222222222222,\"#7201a8\"],[0.3333333333333333,\"#9c179e\"],[0.4444444444444444,\"#bd3786\"],[0.5555555555555556,\"#d8576b\"],[0.6666666666666666,\"#ed7953\"],[0.7777777777777778,\"#fb9f3a\"],[0.8888888888888888,\"#fdca26\"],[1.0,\"#f0f921\"]],\"type\":\"surface\"}],\"table\":[{\"cells\":{\"fill\":{\"color\":\"#EBF0F8\"},\"line\":{\"color\":\"white\"}},\"header\":{\"fill\":{\"color\":\"#C8D4E3\"},\"line\":{\"color\":\"white\"}},\"type\":\"table\"}]},\"layout\":{\"annotationdefaults\":{\"arrowcolor\":\"#2a3f5f\",\"arrowhead\":0,\"arrowwidth\":1},\"autotypenumbers\":\"strict\",\"coloraxis\":{\"colorbar\":{\"outlinewidth\":0,\"ticks\":\"\"}},\"colorscale\":{\"diverging\":[[0,\"#8e0152\"],[0.1,\"#c51b7d\"],[0.2,\"#de77ae\"],[0.3,\"#f1b6da\"],[0.4,\"#fde0ef\"],[0.5,\"#f7f7f7\"],[0.6,\"#e6f5d0\"],[0.7,\"#b8e186\"],[0.8,\"#7fbc41\"],[0.9,\"#4d9221\"],[1,\"#276419\"]],\"sequential\":[[0.0,\"#0d0887\"],[0.1111111111111111,\"#46039f\"],[0.2222222222222222,\"#7201a8\"],[0.3333333333333333,\"#9c179e\"],[0.4444444444444444,\"#bd3786\"],[0.5555555555555556,\"#d8576b\"],[0.6666666666666666,\"#ed7953\"],[0.7777777777777778,\"#fb9f3a\"],[0.8888888888888888,\"#fdca26\"],[1.0,\"#f0f921\"]],\"sequentialminus\":[[0.0,\"#0d0887\"],[0.1111111111111111,\"#46039f\"],[0.2222222222222222,\"#7201a8\"],[0.3333333333333333,\"#9c179e\"],[0.4444444444444444,\"#bd3786\"],[0.5555555555555556,\"#d8576b\"],[0.6666666666666666,\"#ed7953\"],[0.7777777777777778,\"#fb9f3a\"],[0.8888888888888888,\"#fdca26\"],[1.0,\"#f0f921\"]]},\"colorway\":[\"#636efa\",\"#EF553B\",\"#00cc96\",\"#ab63fa\",\"#FFA15A\",\"#19d3f3\",\"#FF6692\",\"#B6E880\",\"#FF97FF\",\"#FECB52\"],\"font\":{\"color\":\"#2a3f5f\"},\"geo\":{\"bgcolor\":\"white\",\"lakecolor\":\"white\",\"landcolor\":\"#E5ECF6\",\"showlakes\":true,\"showland\":true,\"subunitcolor\":\"white\"},\"hoverlabel\":{\"align\":\"left\"},\"hovermode\":\"closest\",\"mapbox\":{\"style\":\"light\"},\"paper_bgcolor\":\"white\",\"plot_bgcolor\":\"#E5ECF6\",\"polar\":{\"angularaxis\":{\"gridcolor\":\"white\",\"linecolor\":\"white\",\"ticks\":\"\"},\"bgcolor\":\"#E5ECF6\",\"radialaxis\":{\"gridcolor\":\"white\",\"linecolor\":\"white\",\"ticks\":\"\"}},\"scene\":{\"xaxis\":{\"backgroundcolor\":\"#E5ECF6\",\"gridcolor\":\"white\",\"gridwidth\":2,\"linecolor\":\"white\",\"showbackground\":true,\"ticks\":\"\",\"zerolinecolor\":\"white\"},\"yaxis\":{\"backgroundcolor\":\"#E5ECF6\",\"gridcolor\":\"white\",\"gridwidth\":2,\"linecolor\":\"white\",\"showbackground\":true,\"ticks\":\"\",\"zerolinecolor\":\"white\"},\"zaxis\":{\"backgroundcolor\":\"#E5ECF6\",\"gridcolor\":\"white\",\"gridwidth\":2,\"linecolor\":\"white\",\"showbackground\":true,\"ticks\":\"\",\"zerolinecolor\":\"white\"}},\"shapedefaults\":{\"line\":{\"color\":\"#2a3f5f\"}},\"ternary\":{\"aaxis\":{\"gridcolor\":\"white\",\"linecolor\":\"white\",\"ticks\":\"\"},\"baxis\":{\"gridcolor\":\"white\",\"linecolor\":\"white\",\"ticks\":\"\"},\"bgcolor\":\"#E5ECF6\",\"caxis\":{\"gridcolor\":\"white\",\"linecolor\":\"white\",\"ticks\":\"\"}},\"title\":{\"x\":0.05},\"xaxis\":{\"automargin\":true,\"gridcolor\":\"white\",\"linecolor\":\"white\",\"ticks\":\"\",\"title\":{\"standoff\":15},\"zerolinecolor\":\"white\",\"zerolinewidth\":2},\"yaxis\":{\"automargin\":true,\"gridcolor\":\"white\",\"linecolor\":\"white\",\"ticks\":\"\",\"title\":{\"standoff\":15},\"zerolinecolor\":\"white\",\"zerolinewidth\":2}}}},                        {\"responsive\": true}                    ).then(function(){\n",
       "                            \n",
       "var gd = document.getElementById('79c33354-1005-4c3e-9903-3ebf599d4d6b');\n",
       "var x = new MutationObserver(function (mutations, observer) {{\n",
       "        var display = window.getComputedStyle(gd).display;\n",
       "        if (!display || display === 'none') {{\n",
       "            console.log([gd, 'removed!']);\n",
       "            Plotly.purge(gd);\n",
       "            observer.disconnect();\n",
       "        }}\n",
       "}});\n",
       "\n",
       "// Listen for the removal of the full notebook cells\n",
       "var notebookContainer = gd.closest('#notebook-container');\n",
       "if (notebookContainer) {{\n",
       "    x.observe(notebookContainer, {childList: true});\n",
       "}}\n",
       "\n",
       "// Listen for the clearing of the current output cell\n",
       "var outputEl = gd.closest('.output');\n",
       "if (outputEl) {{\n",
       "    x.observe(outputEl, {childList: true});\n",
       "}}\n",
       "\n",
       "                        })                };                });            </script>        </div>"
      ]
     },
     "metadata": {},
     "output_type": "display_data"
    }
   ],
   "source": [
    "fig = px.scatter_mapbox(combined_df, lat=\"Lat\", lon=\"Long\", color=\"County\", size=\"Median Home Price Q1 2021\", hover_name='Median Home Price Q1 2021', hover_data=['Median Home Price Q1 2021'], zoom=5)\n",
    "fig.update_layout(mapbox_style=\"light\")\n",
    "fig.show()"
   ]
  },
  {
   "cell_type": "code",
   "execution_count": null,
   "id": "7748676e-04e9-4aab-98a6-59341f2ab20a",
   "metadata": {},
   "outputs": [],
   "source": [
    "\n"
   ]
  }
 ],
 "metadata": {
  "kernelspec": {
   "display_name": "Python 3",
   "language": "python",
   "name": "python3"
  },
  "language_info": {
   "codemirror_mode": {
    "name": "ipython",
    "version": 3
   },
   "file_extension": ".py",
   "mimetype": "text/x-python",
   "name": "python",
   "nbconvert_exporter": "python",
   "pygments_lexer": "ipython3",
   "version": "3.8.8"
  }
 },
 "nbformat": 4,
 "nbformat_minor": 5
}
