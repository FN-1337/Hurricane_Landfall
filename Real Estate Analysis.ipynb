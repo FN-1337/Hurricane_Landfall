{
 "cells": [
  {
   "cell_type": "code",
   "execution_count": 11,
   "id": "5db0666b-8631-4364-94dc-7a1c6cd7f80b",
   "metadata": {},
   "outputs": [],
   "source": [
    "# import libraries\n",
    "import pandas as pd\n",
    "import panel as pn\n",
    "pn.extension('plotly')\n",
    "import plotly.express as px\n",
    "import hvplot.pandas\n",
    "import matplotlib.pyplot as plt\n",
    "import os\n",
    "from pathlib import Path\n",
    "from dotenv import load_dotenv"
   ]
  },
  {
   "cell_type": "code",
   "execution_count": 12,
   "id": "3fddf65a-e1b3-4f05-bb67-39f9461369a9",
   "metadata": {},
   "outputs": [],
   "source": [
    "# Read Mapbox API Key\n",
    "load_dotenv()\n",
    "mapbox_api = os.getenv(\"mapbox\")\n",
    "px.set_mapbox_access_token(mapbox_api)"
   ]
  },
  {
   "cell_type": "code",
   "execution_count": 13,
   "id": "669c66c0-36e2-4d24-897c-97cff707d843",
   "metadata": {},
   "outputs": [],
   "source": [
    "# Import Florida Median Home Prices CSV to Panda Dataframes\n",
    "file_path = Path(\"Florida-Median-Home-Prices-By-County-Q1-2021.csv\")\n",
    "re_data = pd.read_csv(file_path)"
   ]
  },
  {
   "cell_type": "code",
   "execution_count": 14,
   "id": "0464b746-388e-4d33-bb9f-ac5e7fa97f34",
   "metadata": {},
   "outputs": [
    {
     "data": {
      "text/html": [
       "<div>\n",
       "<style scoped>\n",
       "    .dataframe tbody tr th:only-of-type {\n",
       "        vertical-align: middle;\n",
       "    }\n",
       "\n",
       "    .dataframe tbody tr th {\n",
       "        vertical-align: top;\n",
       "    }\n",
       "\n",
       "    .dataframe thead th {\n",
       "        text-align: right;\n",
       "    }\n",
       "</style>\n",
       "<table border=\"1\" class=\"dataframe\">\n",
       "  <thead>\n",
       "    <tr style=\"text-align: right;\">\n",
       "      <th></th>\n",
       "      <th>County</th>\n",
       "      <th>Median Home Price Q1 2021</th>\n",
       "    </tr>\n",
       "  </thead>\n",
       "  <tbody>\n",
       "    <tr>\n",
       "      <th>0</th>\n",
       "      <td>Alachua County</td>\n",
       "      <td>$237,288</td>\n",
       "    </tr>\n",
       "    <tr>\n",
       "      <th>1</th>\n",
       "      <td>Baker County</td>\n",
       "      <td>$151,241</td>\n",
       "    </tr>\n",
       "    <tr>\n",
       "      <th>2</th>\n",
       "      <td>Bay County</td>\n",
       "      <td>$220,032</td>\n",
       "    </tr>\n",
       "    <tr>\n",
       "      <th>3</th>\n",
       "      <td>Bradford County</td>\n",
       "      <td>$120,402</td>\n",
       "    </tr>\n",
       "    <tr>\n",
       "      <th>4</th>\n",
       "      <td>Bevard County</td>\n",
       "      <td>$252,790</td>\n",
       "    </tr>\n",
       "  </tbody>\n",
       "</table>\n",
       "</div>"
      ],
      "text/plain": [
       "            County Median Home Price Q1 2021\n",
       "0   Alachua County                 $237,288 \n",
       "1     Baker County                 $151,241 \n",
       "2       Bay County                 $220,032 \n",
       "3  Bradford County                 $120,402 \n",
       "4    Bevard County                 $252,790 "
      ]
     },
     "execution_count": 14,
     "metadata": {},
     "output_type": "execute_result"
    }
   ],
   "source": [
    "# Preview Data\n",
    "re_data.head()"
   ]
  },
  {
   "cell_type": "code",
   "execution_count": 15,
   "id": "fe5d2506-c328-4f10-995b-bf6247601a1e",
   "metadata": {},
   "outputs": [],
   "source": [
    "# Change values from string to float, remove $\n",
    "re_data[re_data.columns[1:]] = re_data[re_data.columns[1:]].replace('[\\$,]', '', regex=True).astype(float)"
   ]
  },
  {
   "cell_type": "code",
   "execution_count": 16,
   "id": "8fffba29-ced1-432a-b000-9501c30e7ae0",
   "metadata": {},
   "outputs": [
    {
     "data": {
      "text/html": [
       "<div>\n",
       "<style scoped>\n",
       "    .dataframe tbody tr th:only-of-type {\n",
       "        vertical-align: middle;\n",
       "    }\n",
       "\n",
       "    .dataframe tbody tr th {\n",
       "        vertical-align: top;\n",
       "    }\n",
       "\n",
       "    .dataframe thead th {\n",
       "        text-align: right;\n",
       "    }\n",
       "</style>\n",
       "<table border=\"1\" class=\"dataframe\">\n",
       "  <thead>\n",
       "    <tr style=\"text-align: right;\">\n",
       "      <th></th>\n",
       "      <th>County</th>\n",
       "      <th>Median Home Price Q1 2021</th>\n",
       "    </tr>\n",
       "  </thead>\n",
       "  <tbody>\n",
       "    <tr>\n",
       "      <th>36</th>\n",
       "      <td>Liberty County</td>\n",
       "      <td>81608.0</td>\n",
       "    </tr>\n",
       "    <tr>\n",
       "      <th>19</th>\n",
       "      <td>Glades County</td>\n",
       "      <td>83347.0</td>\n",
       "    </tr>\n",
       "    <tr>\n",
       "      <th>13</th>\n",
       "      <td>Dixie County</td>\n",
       "      <td>85303.0</td>\n",
       "    </tr>\n",
       "    <tr>\n",
       "      <th>21</th>\n",
       "      <td>Hamilton County</td>\n",
       "      <td>87041.0</td>\n",
       "    </tr>\n",
       "    <tr>\n",
       "      <th>22</th>\n",
       "      <td>Hardee County</td>\n",
       "      <td>90627.0</td>\n",
       "    </tr>\n",
       "    <tr>\n",
       "      <th>...</th>\n",
       "      <td>...</td>\n",
       "      <td>...</td>\n",
       "    </tr>\n",
       "    <tr>\n",
       "      <th>40</th>\n",
       "      <td>Martin County</td>\n",
       "      <td>340082.0</td>\n",
       "    </tr>\n",
       "    <tr>\n",
       "      <th>41</th>\n",
       "      <td>Miami-Dade County</td>\n",
       "      <td>360149.0</td>\n",
       "    </tr>\n",
       "    <tr>\n",
       "      <th>53</th>\n",
       "      <td>St. Johns County</td>\n",
       "      <td>368792.0</td>\n",
       "    </tr>\n",
       "    <tr>\n",
       "      <th>10</th>\n",
       "      <td>Collier County</td>\n",
       "      <td>401446.0</td>\n",
       "    </tr>\n",
       "    <tr>\n",
       "      <th>42</th>\n",
       "      <td>Monroe County</td>\n",
       "      <td>614398.0</td>\n",
       "    </tr>\n",
       "  </tbody>\n",
       "</table>\n",
       "<p>66 rows × 2 columns</p>\n",
       "</div>"
      ],
      "text/plain": [
       "               County  Median Home Price Q1 2021\n",
       "36     Liberty County                    81608.0\n",
       "19      Glades County                    83347.0\n",
       "13       Dixie County                    85303.0\n",
       "21    Hamilton County                    87041.0\n",
       "22      Hardee County                    90627.0\n",
       "..                ...                        ...\n",
       "40      Martin County                   340082.0\n",
       "41  Miami-Dade County                   360149.0\n",
       "53   St. Johns County                   368792.0\n",
       "10     Collier County                   401446.0\n",
       "42      Monroe County                   614398.0\n",
       "\n",
       "[66 rows x 2 columns]"
      ]
     },
     "execution_count": 16,
     "metadata": {},
     "output_type": "execute_result"
    }
   ],
   "source": [
    "# Sort data by Median Home Price\n",
    "re_data.sort_values(\"Median Home Price Q1 2021\")"
   ]
  },
  {
   "cell_type": "code",
   "execution_count": 17,
   "id": "64fdb619-a91c-429c-bdc7-cea0d88e4cf7",
   "metadata": {},
   "outputs": [],
   "source": [
    "# Save sorted data as a new DF\n",
    "re_data_sorted_by_median_home_price = re_data.sort_values(\"Median Home Price Q1 2021\")"
   ]
  },
  {
   "cell_type": "code",
   "execution_count": 18,
   "id": "5b41c9c5-b18f-4530-96ca-3f0272bedcfc",
   "metadata": {},
   "outputs": [
    {
     "data": {
      "application/vnd.plotly.v1+json": {
       "config": {
        "plotlyServerURL": "https://plot.ly"
       },
       "data": [
        {
         "hovertemplate": "County=%{x}<br>Median Home Price Q1 2021=%{y}<extra></extra>",
         "legendgroup": "",
         "marker": {
          "color": "#636efa",
          "symbol": "circle"
         },
         "mode": "markers",
         "name": "",
         "orientation": "v",
         "showlegend": false,
         "type": "scatter",
         "x": [
          "Liberty County",
          "Glades County",
          "Dixie County",
          "Hamilton County",
          "Hardee County",
          "Calhoun County",
          "Taylor County",
          "DeSoto County",
          "Madison County",
          "Holmes County",
          "Hendry County",
          "Gadsden County",
          "Jackson County",
          "Putnam County",
          "Suwannee County",
          "Gilchrist County",
          "Lafayette County",
          "Levy County",
          "Okeechobee County",
          "Bradford County",
          "Washington County",
          "Union County",
          "Jefferson County",
          "Baker County",
          "Wakulla County",
          "Highlands County",
          "Citrus County",
          "Gulf County",
          "Columbia County",
          "Marion County",
          "Franklin County",
          "Hernando County",
          "Escambia County",
          "Polk County",
          "Pasco County",
          "Bay County",
          "Duval County",
          "Volusia County",
          "Clay County",
          "Alachua County",
          "Leon County",
          "Lake County",
          "Santa Rosa County",
          "St. Lucie County",
          "Osceola County",
          "Charlotte County",
          "Bevard County",
          "Pinellas County",
          "Indian River County",
          "Walton County",
          "Nassau County",
          "Lee County",
          "Okaloosa County",
          "Hillsborough County",
          "Orange County",
          "Seminole County",
          "Manatee County",
          "Sarasota County",
          "Sumter County",
          "Broward County",
          "Palm Beach County",
          "Martin County",
          "Miami-Dade County",
          "St. Johns County",
          "Collier County",
          "Monroe County"
         ],
         "xaxis": "x",
         "y": [
          81608,
          83347,
          85303,
          87041,
          90627,
          92366,
          92475,
          95300,
          96821,
          100733,
          102689,
          103279,
          107579,
          109101,
          110079,
          113344,
          113773,
          114860,
          115186,
          120402,
          123010,
          128661,
          142436,
          151241,
          153639,
          157457,
          169954,
          174626,
          175713,
          179292,
          180386,
          192135,
          194925,
          196031,
          214575,
          220032,
          226045,
          228766,
          233558,
          237288,
          241021,
          242017,
          248977,
          249703,
          250343,
          250482,
          252790,
          258339,
          262291,
          265362,
          266550,
          268314,
          270401,
          272517,
          288408,
          299331,
          300807,
          304351,
          306438,
          327349,
          339226,
          340082,
          360149,
          368792,
          401446,
          614398
         ],
         "yaxis": "y"
        }
       ],
       "layout": {
        "autosize": true,
        "legend": {
         "tracegroupgap": 0
        },
        "margin": {
         "t": 60
        },
        "template": {
         "data": {
          "bar": [
           {
            "error_x": {
             "color": "#2a3f5f"
            },
            "error_y": {
             "color": "#2a3f5f"
            },
            "marker": {
             "line": {
              "color": "#E5ECF6",
              "width": 0.5
             },
             "pattern": {
              "fillmode": "overlay",
              "size": 10,
              "solidity": 0.2
             }
            },
            "type": "bar"
           }
          ],
          "barpolar": [
           {
            "marker": {
             "line": {
              "color": "#E5ECF6",
              "width": 0.5
             },
             "pattern": {
              "fillmode": "overlay",
              "size": 10,
              "solidity": 0.2
             }
            },
            "type": "barpolar"
           }
          ],
          "carpet": [
           {
            "aaxis": {
             "endlinecolor": "#2a3f5f",
             "gridcolor": "white",
             "linecolor": "white",
             "minorgridcolor": "white",
             "startlinecolor": "#2a3f5f"
            },
            "baxis": {
             "endlinecolor": "#2a3f5f",
             "gridcolor": "white",
             "linecolor": "white",
             "minorgridcolor": "white",
             "startlinecolor": "#2a3f5f"
            },
            "type": "carpet"
           }
          ],
          "choropleth": [
           {
            "colorbar": {
             "outlinewidth": 0,
             "ticks": ""
            },
            "type": "choropleth"
           }
          ],
          "contour": [
           {
            "colorbar": {
             "outlinewidth": 0,
             "ticks": ""
            },
            "colorscale": [
             [
              0,
              "#0d0887"
             ],
             [
              0.1111111111111111,
              "#46039f"
             ],
             [
              0.2222222222222222,
              "#7201a8"
             ],
             [
              0.3333333333333333,
              "#9c179e"
             ],
             [
              0.4444444444444444,
              "#bd3786"
             ],
             [
              0.5555555555555556,
              "#d8576b"
             ],
             [
              0.6666666666666666,
              "#ed7953"
             ],
             [
              0.7777777777777778,
              "#fb9f3a"
             ],
             [
              0.8888888888888888,
              "#fdca26"
             ],
             [
              1,
              "#f0f921"
             ]
            ],
            "type": "contour"
           }
          ],
          "contourcarpet": [
           {
            "colorbar": {
             "outlinewidth": 0,
             "ticks": ""
            },
            "type": "contourcarpet"
           }
          ],
          "heatmap": [
           {
            "colorbar": {
             "outlinewidth": 0,
             "ticks": ""
            },
            "colorscale": [
             [
              0,
              "#0d0887"
             ],
             [
              0.1111111111111111,
              "#46039f"
             ],
             [
              0.2222222222222222,
              "#7201a8"
             ],
             [
              0.3333333333333333,
              "#9c179e"
             ],
             [
              0.4444444444444444,
              "#bd3786"
             ],
             [
              0.5555555555555556,
              "#d8576b"
             ],
             [
              0.6666666666666666,
              "#ed7953"
             ],
             [
              0.7777777777777778,
              "#fb9f3a"
             ],
             [
              0.8888888888888888,
              "#fdca26"
             ],
             [
              1,
              "#f0f921"
             ]
            ],
            "type": "heatmap"
           }
          ],
          "heatmapgl": [
           {
            "colorbar": {
             "outlinewidth": 0,
             "ticks": ""
            },
            "colorscale": [
             [
              0,
              "#0d0887"
             ],
             [
              0.1111111111111111,
              "#46039f"
             ],
             [
              0.2222222222222222,
              "#7201a8"
             ],
             [
              0.3333333333333333,
              "#9c179e"
             ],
             [
              0.4444444444444444,
              "#bd3786"
             ],
             [
              0.5555555555555556,
              "#d8576b"
             ],
             [
              0.6666666666666666,
              "#ed7953"
             ],
             [
              0.7777777777777778,
              "#fb9f3a"
             ],
             [
              0.8888888888888888,
              "#fdca26"
             ],
             [
              1,
              "#f0f921"
             ]
            ],
            "type": "heatmapgl"
           }
          ],
          "histogram": [
           {
            "marker": {
             "pattern": {
              "fillmode": "overlay",
              "size": 10,
              "solidity": 0.2
             }
            },
            "type": "histogram"
           }
          ],
          "histogram2d": [
           {
            "colorbar": {
             "outlinewidth": 0,
             "ticks": ""
            },
            "colorscale": [
             [
              0,
              "#0d0887"
             ],
             [
              0.1111111111111111,
              "#46039f"
             ],
             [
              0.2222222222222222,
              "#7201a8"
             ],
             [
              0.3333333333333333,
              "#9c179e"
             ],
             [
              0.4444444444444444,
              "#bd3786"
             ],
             [
              0.5555555555555556,
              "#d8576b"
             ],
             [
              0.6666666666666666,
              "#ed7953"
             ],
             [
              0.7777777777777778,
              "#fb9f3a"
             ],
             [
              0.8888888888888888,
              "#fdca26"
             ],
             [
              1,
              "#f0f921"
             ]
            ],
            "type": "histogram2d"
           }
          ],
          "histogram2dcontour": [
           {
            "colorbar": {
             "outlinewidth": 0,
             "ticks": ""
            },
            "colorscale": [
             [
              0,
              "#0d0887"
             ],
             [
              0.1111111111111111,
              "#46039f"
             ],
             [
              0.2222222222222222,
              "#7201a8"
             ],
             [
              0.3333333333333333,
              "#9c179e"
             ],
             [
              0.4444444444444444,
              "#bd3786"
             ],
             [
              0.5555555555555556,
              "#d8576b"
             ],
             [
              0.6666666666666666,
              "#ed7953"
             ],
             [
              0.7777777777777778,
              "#fb9f3a"
             ],
             [
              0.8888888888888888,
              "#fdca26"
             ],
             [
              1,
              "#f0f921"
             ]
            ],
            "type": "histogram2dcontour"
           }
          ],
          "mesh3d": [
           {
            "colorbar": {
             "outlinewidth": 0,
             "ticks": ""
            },
            "type": "mesh3d"
           }
          ],
          "parcoords": [
           {
            "line": {
             "colorbar": {
              "outlinewidth": 0,
              "ticks": ""
             }
            },
            "type": "parcoords"
           }
          ],
          "pie": [
           {
            "automargin": true,
            "type": "pie"
           }
          ],
          "scatter": [
           {
            "marker": {
             "colorbar": {
              "outlinewidth": 0,
              "ticks": ""
             }
            },
            "type": "scatter"
           }
          ],
          "scatter3d": [
           {
            "line": {
             "colorbar": {
              "outlinewidth": 0,
              "ticks": ""
             }
            },
            "marker": {
             "colorbar": {
              "outlinewidth": 0,
              "ticks": ""
             }
            },
            "type": "scatter3d"
           }
          ],
          "scattercarpet": [
           {
            "marker": {
             "colorbar": {
              "outlinewidth": 0,
              "ticks": ""
             }
            },
            "type": "scattercarpet"
           }
          ],
          "scattergeo": [
           {
            "marker": {
             "colorbar": {
              "outlinewidth": 0,
              "ticks": ""
             }
            },
            "type": "scattergeo"
           }
          ],
          "scattergl": [
           {
            "marker": {
             "colorbar": {
              "outlinewidth": 0,
              "ticks": ""
             }
            },
            "type": "scattergl"
           }
          ],
          "scattermapbox": [
           {
            "marker": {
             "colorbar": {
              "outlinewidth": 0,
              "ticks": ""
             }
            },
            "type": "scattermapbox"
           }
          ],
          "scatterpolar": [
           {
            "marker": {
             "colorbar": {
              "outlinewidth": 0,
              "ticks": ""
             }
            },
            "type": "scatterpolar"
           }
          ],
          "scatterpolargl": [
           {
            "marker": {
             "colorbar": {
              "outlinewidth": 0,
              "ticks": ""
             }
            },
            "type": "scatterpolargl"
           }
          ],
          "scatterternary": [
           {
            "marker": {
             "colorbar": {
              "outlinewidth": 0,
              "ticks": ""
             }
            },
            "type": "scatterternary"
           }
          ],
          "surface": [
           {
            "colorbar": {
             "outlinewidth": 0,
             "ticks": ""
            },
            "colorscale": [
             [
              0,
              "#0d0887"
             ],
             [
              0.1111111111111111,
              "#46039f"
             ],
             [
              0.2222222222222222,
              "#7201a8"
             ],
             [
              0.3333333333333333,
              "#9c179e"
             ],
             [
              0.4444444444444444,
              "#bd3786"
             ],
             [
              0.5555555555555556,
              "#d8576b"
             ],
             [
              0.6666666666666666,
              "#ed7953"
             ],
             [
              0.7777777777777778,
              "#fb9f3a"
             ],
             [
              0.8888888888888888,
              "#fdca26"
             ],
             [
              1,
              "#f0f921"
             ]
            ],
            "type": "surface"
           }
          ],
          "table": [
           {
            "cells": {
             "fill": {
              "color": "#EBF0F8"
             },
             "line": {
              "color": "white"
             }
            },
            "header": {
             "fill": {
              "color": "#C8D4E3"
             },
             "line": {
              "color": "white"
             }
            },
            "type": "table"
           }
          ]
         },
         "layout": {
          "annotationdefaults": {
           "arrowcolor": "#2a3f5f",
           "arrowhead": 0,
           "arrowwidth": 1
          },
          "autotypenumbers": "strict",
          "coloraxis": {
           "colorbar": {
            "outlinewidth": 0,
            "ticks": ""
           }
          },
          "colorscale": {
           "diverging": [
            [
             0,
             "#8e0152"
            ],
            [
             0.1,
             "#c51b7d"
            ],
            [
             0.2,
             "#de77ae"
            ],
            [
             0.3,
             "#f1b6da"
            ],
            [
             0.4,
             "#fde0ef"
            ],
            [
             0.5,
             "#f7f7f7"
            ],
            [
             0.6,
             "#e6f5d0"
            ],
            [
             0.7,
             "#b8e186"
            ],
            [
             0.8,
             "#7fbc41"
            ],
            [
             0.9,
             "#4d9221"
            ],
            [
             1,
             "#276419"
            ]
           ],
           "sequential": [
            [
             0,
             "#0d0887"
            ],
            [
             0.1111111111111111,
             "#46039f"
            ],
            [
             0.2222222222222222,
             "#7201a8"
            ],
            [
             0.3333333333333333,
             "#9c179e"
            ],
            [
             0.4444444444444444,
             "#bd3786"
            ],
            [
             0.5555555555555556,
             "#d8576b"
            ],
            [
             0.6666666666666666,
             "#ed7953"
            ],
            [
             0.7777777777777778,
             "#fb9f3a"
            ],
            [
             0.8888888888888888,
             "#fdca26"
            ],
            [
             1,
             "#f0f921"
            ]
           ],
           "sequentialminus": [
            [
             0,
             "#0d0887"
            ],
            [
             0.1111111111111111,
             "#46039f"
            ],
            [
             0.2222222222222222,
             "#7201a8"
            ],
            [
             0.3333333333333333,
             "#9c179e"
            ],
            [
             0.4444444444444444,
             "#bd3786"
            ],
            [
             0.5555555555555556,
             "#d8576b"
            ],
            [
             0.6666666666666666,
             "#ed7953"
            ],
            [
             0.7777777777777778,
             "#fb9f3a"
            ],
            [
             0.8888888888888888,
             "#fdca26"
            ],
            [
             1,
             "#f0f921"
            ]
           ]
          },
          "colorway": [
           "#636efa",
           "#EF553B",
           "#00cc96",
           "#ab63fa",
           "#FFA15A",
           "#19d3f3",
           "#FF6692",
           "#B6E880",
           "#FF97FF",
           "#FECB52"
          ],
          "font": {
           "color": "#2a3f5f"
          },
          "geo": {
           "bgcolor": "white",
           "lakecolor": "white",
           "landcolor": "#E5ECF6",
           "showlakes": true,
           "showland": true,
           "subunitcolor": "white"
          },
          "hoverlabel": {
           "align": "left"
          },
          "hovermode": "closest",
          "mapbox": {
           "style": "light"
          },
          "paper_bgcolor": "white",
          "plot_bgcolor": "#E5ECF6",
          "polar": {
           "angularaxis": {
            "gridcolor": "white",
            "linecolor": "white",
            "ticks": ""
           },
           "bgcolor": "#E5ECF6",
           "radialaxis": {
            "gridcolor": "white",
            "linecolor": "white",
            "ticks": ""
           }
          },
          "scene": {
           "xaxis": {
            "backgroundcolor": "#E5ECF6",
            "gridcolor": "white",
            "gridwidth": 2,
            "linecolor": "white",
            "showbackground": true,
            "ticks": "",
            "zerolinecolor": "white"
           },
           "yaxis": {
            "backgroundcolor": "#E5ECF6",
            "gridcolor": "white",
            "gridwidth": 2,
            "linecolor": "white",
            "showbackground": true,
            "ticks": "",
            "zerolinecolor": "white"
           },
           "zaxis": {
            "backgroundcolor": "#E5ECF6",
            "gridcolor": "white",
            "gridwidth": 2,
            "linecolor": "white",
            "showbackground": true,
            "ticks": "",
            "zerolinecolor": "white"
           }
          },
          "shapedefaults": {
           "line": {
            "color": "#2a3f5f"
           }
          },
          "ternary": {
           "aaxis": {
            "gridcolor": "white",
            "linecolor": "white",
            "ticks": ""
           },
           "baxis": {
            "gridcolor": "white",
            "linecolor": "white",
            "ticks": ""
           },
           "bgcolor": "#E5ECF6",
           "caxis": {
            "gridcolor": "white",
            "linecolor": "white",
            "ticks": ""
           }
          },
          "title": {
           "x": 0.05
          },
          "xaxis": {
           "automargin": true,
           "gridcolor": "white",
           "linecolor": "white",
           "ticks": "",
           "title": {
            "standoff": 15
           },
           "zerolinecolor": "white",
           "zerolinewidth": 2
          },
          "yaxis": {
           "automargin": true,
           "gridcolor": "white",
           "linecolor": "white",
           "ticks": "",
           "title": {
            "standoff": 15
           },
           "zerolinecolor": "white",
           "zerolinewidth": 2
          }
         }
        },
        "xaxis": {
         "anchor": "y",
         "autorange": true,
         "domain": [
          0,
          1
         ],
         "range": [
          -4.129353233830846,
          69.12935323383084
         ],
         "title": {
          "text": "County"
         },
         "type": "category"
        },
        "yaxis": {
         "anchor": "x",
         "autorange": true,
         "domain": [
          0,
          1
         ],
         "range": [
          32535.23684210526,
          663470.7631578947
         ],
         "title": {
          "text": "Median Home Price Q1 2021"
         },
         "type": "linear"
        }
       }
      },
      "image/png": "[encoded data removed]",
      "text/html": [
       "<div>                            <div id=\"c5d961a8-d22b-459f-9076-05f7864a4c44\" class=\"plotly-graph-div\" style=\"height:525px; width:100%;\"></div>            <script type=\"text/javascript\">                require([\"plotly\"], function(Plotly) {                    window.PLOTLYENV=window.PLOTLYENV || {};                                    if (document.getElementById(\"c5d961a8-d22b-459f-9076-05f7864a4c44\")) {                    Plotly.newPlot(                        \"c5d961a8-d22b-459f-9076-05f7864a4c44\",                        [{\"hovertemplate\":\"County=%{x}<br>Median Home Price Q1 2021=%{y}<extra></extra>\",\"legendgroup\":\"\",\"marker\":{\"color\":\"#636efa\",\"symbol\":\"circle\"},\"mode\":\"markers\",\"name\":\"\",\"orientation\":\"v\",\"showlegend\":false,\"type\":\"scatter\",\"x\":[\"Liberty County\",\"Glades County\",\"Dixie County\",\"Hamilton County\",\"Hardee County\",\"Calhoun County\",\"Taylor County\",\"DeSoto County\",\"Madison County\",\"Holmes County\",\"Hendry County\",\"Gadsden County\",\"Jackson County\",\"Putnam County\",\"Suwannee County\",\"Gilchrist County\",\"Lafayette County\",\"Levy County\",\"Okeechobee County\",\"Bradford County\",\"Washington County\",\"Union County\",\"Jefferson County\",\"Baker County\",\"Wakulla County\",\"Highlands County\",\"Citrus County\",\"Gulf County\",\"Columbia County\",\"Marion County\",\"Franklin County\",\"Hernando County\",\"Escambia County\",\"Polk County\",\"Pasco County\",\"Bay County\",\"Duval County\",\"Volusia County\",\"Clay County\",\"Alachua County\",\"Leon County\",\"Lake County\",\"Santa Rosa County\",\"St. Lucie County\",\"Osceola County\",\"Charlotte County\",\"Bevard County\",\"Pinellas County\",\"Indian River County\",\"Walton County\",\"Nassau County\",\"Lee County\",\"Okaloosa County\",\"Hillsborough County\",\"Orange County\",\"Seminole County\",\"Manatee County\",\"Sarasota County\",\"Sumter County\",\"Broward County\",\"Palm Beach County\",\"Martin County\",\"Miami-Dade County\",\"St. Johns County\",\"Collier County\",\"Monroe County\"],\"xaxis\":\"x\",\"y\":[81608.0,83347.0,85303.0,87041.0,90627.0,92366.0,92475.0,95300.0,96821.0,100733.0,102689.0,103279.0,107579.0,109101.0,110079.0,113344.0,113773.0,114860.0,115186.0,120402.0,123010.0,128661.0,142436.0,151241.0,153639.0,157457.0,169954.0,174626.0,175713.0,179292.0,180386.0,192135.0,194925.0,196031.0,214575.0,220032.0,226045.0,228766.0,233558.0,237288.0,241021.0,242017.0,248977.0,249703.0,250343.0,250482.0,252790.0,258339.0,262291.0,265362.0,266550.0,268314.0,270401.0,272517.0,288408.0,299331.0,300807.0,304351.0,306438.0,327349.0,339226.0,340082.0,360149.0,368792.0,401446.0,614398.0],\"yaxis\":\"y\"}],                        {\"legend\":{\"tracegroupgap\":0},\"margin\":{\"t\":60},\"template\":{\"data\":{\"bar\":[{\"error_x\":{\"color\":\"#2a3f5f\"},\"error_y\":{\"color\":\"#2a3f5f\"},\"marker\":{\"line\":{\"color\":\"#E5ECF6\",\"width\":0.5},\"pattern\":{\"fillmode\":\"overlay\",\"size\":10,\"solidity\":0.2}},\"type\":\"bar\"}],\"barpolar\":[{\"marker\":{\"line\":{\"color\":\"#E5ECF6\",\"width\":0.5},\"pattern\":{\"fillmode\":\"overlay\",\"size\":10,\"solidity\":0.2}},\"type\":\"barpolar\"}],\"carpet\":[{\"aaxis\":{\"endlinecolor\":\"#2a3f5f\",\"gridcolor\":\"white\",\"linecolor\":\"white\",\"minorgridcolor\":\"white\",\"startlinecolor\":\"#2a3f5f\"},\"baxis\":{\"endlinecolor\":\"#2a3f5f\",\"gridcolor\":\"white\",\"linecolor\":\"white\",\"minorgridcolor\":\"white\",\"startlinecolor\":\"#2a3f5f\"},\"type\":\"carpet\"}],\"choropleth\":[{\"colorbar\":{\"outlinewidth\":0,\"ticks\":\"\"},\"type\":\"choropleth\"}],\"contour\":[{\"colorbar\":{\"outlinewidth\":0,\"ticks\":\"\"},\"colorscale\":[[0.0,\"#0d0887\"],[0.1111111111111111,\"#46039f\"],[0.2222222222222222,\"#7201a8\"],[0.3333333333333333,\"#9c179e\"],[0.4444444444444444,\"#bd3786\"],[0.5555555555555556,\"#d8576b\"],[0.6666666666666666,\"#ed7953\"],[0.7777777777777778,\"#fb9f3a\"],[0.8888888888888888,\"#fdca26\"],[1.0,\"#f0f921\"]],\"type\":\"contour\"}],\"contourcarpet\":[{\"colorbar\":{\"outlinewidth\":0,\"ticks\":\"\"},\"type\":\"contourcarpet\"}],\"heatmap\":[{\"colorbar\":{\"outlinewidth\":0,\"ticks\":\"\"},\"colorscale\":[[0.0,\"#0d0887\"],[0.1111111111111111,\"#46039f\"],[0.2222222222222222,\"#7201a8\"],[0.3333333333333333,\"#9c179e\"],[0.4444444444444444,\"#bd3786\"],[0.5555555555555556,\"#d8576b\"],[0.6666666666666666,\"#ed7953\"],[0.7777777777777778,\"#fb9f3a\"],[0.8888888888888888,\"#fdca26\"],[1.0,\"#f0f921\"]],\"type\":\"heatmap\"}],\"heatmapgl\":[{\"colorbar\":{\"outlinewidth\":0,\"ticks\":\"\"},\"colorscale\":[[0.0,\"#0d0887\"],[0.1111111111111111,\"#46039f\"],[0.2222222222222222,\"#7201a8\"],[0.3333333333333333,\"#9c179e\"],[0.4444444444444444,\"#bd3786\"],[0.5555555555555556,\"#d8576b\"],[0.6666666666666666,\"#ed7953\"],[0.7777777777777778,\"#fb9f3a\"],[0.8888888888888888,\"#fdca26\"],[1.0,\"#f0f921\"]],\"type\":\"heatmapgl\"}],\"histogram\":[{\"marker\":{\"pattern\":{\"fillmode\":\"overlay\",\"size\":10,\"solidity\":0.2}},\"type\":\"histogram\"}],\"histogram2d\":[{\"colorbar\":{\"outlinewidth\":0,\"ticks\":\"\"},\"colorscale\":[[0.0,\"#0d0887\"],[0.1111111111111111,\"#46039f\"],[0.2222222222222222,\"#7201a8\"],[0.3333333333333333,\"#9c179e\"],[0.4444444444444444,\"#bd3786\"],[0.5555555555555556,\"#d8576b\"],[0.6666666666666666,\"#ed7953\"],[0.7777777777777778,\"#fb9f3a\"],[0.8888888888888888,\"#fdca26\"],[1.0,\"#f0f921\"]],\"type\":\"histogram2d\"}],\"histogram2dcontour\":[{\"colorbar\":{\"outlinewidth\":0,\"ticks\":\"\"},\"colorscale\":[[0.0,\"#0d0887\"],[0.1111111111111111,\"#46039f\"],[0.2222222222222222,\"#7201a8\"],[0.3333333333333333,\"#9c179e\"],[0.4444444444444444,\"#bd3786\"],[0.5555555555555556,\"#d8576b\"],[0.6666666666666666,\"#ed7953\"],[0.7777777777777778,\"#fb9f3a\"],[0.8888888888888888,\"#fdca26\"],[1.0,\"#f0f921\"]],\"type\":\"histogram2dcontour\"}],\"mesh3d\":[{\"colorbar\":{\"outlinewidth\":0,\"ticks\":\"\"},\"type\":\"mesh3d\"}],\"parcoords\":[{\"line\":{\"colorbar\":{\"outlinewidth\":0,\"ticks\":\"\"}},\"type\":\"parcoords\"}],\"pie\":[{\"automargin\":true,\"type\":\"pie\"}],\"scatter\":[{\"marker\":{\"colorbar\":{\"outlinewidth\":0,\"ticks\":\"\"}},\"type\":\"scatter\"}],\"scatter3d\":[{\"line\":{\"colorbar\":{\"outlinewidth\":0,\"ticks\":\"\"}},\"marker\":{\"colorbar\":{\"outlinewidth\":0,\"ticks\":\"\"}},\"type\":\"scatter3d\"}],\"scattercarpet\":[{\"marker\":{\"colorbar\":{\"outlinewidth\":0,\"ticks\":\"\"}},\"type\":\"scattercarpet\"}],\"scattergeo\":[{\"marker\":{\"colorbar\":{\"outlinewidth\":0,\"ticks\":\"\"}},\"type\":\"scattergeo\"}],\"scattergl\":[{\"marker\":{\"colorbar\":{\"outlinewidth\":0,\"ticks\":\"\"}},\"type\":\"scattergl\"}],\"scattermapbox\":[{\"marker\":{\"colorbar\":{\"outlinewidth\":0,\"ticks\":\"\"}},\"type\":\"scattermapbox\"}],\"scatterpolar\":[{\"marker\":{\"colorbar\":{\"outlinewidth\":0,\"ticks\":\"\"}},\"type\":\"scatterpolar\"}],\"scatterpolargl\":[{\"marker\":{\"colorbar\":{\"outlinewidth\":0,\"ticks\":\"\"}},\"type\":\"scatterpolargl\"}],\"scatterternary\":[{\"marker\":{\"colorbar\":{\"outlinewidth\":0,\"ticks\":\"\"}},\"type\":\"scatterternary\"}],\"surface\":[{\"colorbar\":{\"outlinewidth\":0,\"ticks\":\"\"},\"colorscale\":[[0.0,\"#0d0887\"],[0.1111111111111111,\"#46039f\"],[0.2222222222222222,\"#7201a8\"],[0.3333333333333333,\"#9c179e\"],[0.4444444444444444,\"#bd3786\"],[0.5555555555555556,\"#d8576b\"],[0.6666666666666666,\"#ed7953\"],[0.7777777777777778,\"#fb9f3a\"],[0.8888888888888888,\"#fdca26\"],[1.0,\"#f0f921\"]],\"type\":\"surface\"}],\"table\":[{\"cells\":{\"fill\":{\"color\":\"#EBF0F8\"},\"line\":{\"color\":\"white\"}},\"header\":{\"fill\":{\"color\":\"#C8D4E3\"},\"line\":{\"color\":\"white\"}},\"type\":\"table\"}]},\"layout\":{\"annotationdefaults\":{\"arrowcolor\":\"#2a3f5f\",\"arrowhead\":0,\"arrowwidth\":1},\"autotypenumbers\":\"strict\",\"coloraxis\":{\"colorbar\":{\"outlinewidth\":0,\"ticks\":\"\"}},\"colorscale\":{\"diverging\":[[0,\"#8e0152\"],[0.1,\"#c51b7d\"],[0.2,\"#de77ae\"],[0.3,\"#f1b6da\"],[0.4,\"#fde0ef\"],[0.5,\"#f7f7f7\"],[0.6,\"#e6f5d0\"],[0.7,\"#b8e186\"],[0.8,\"#7fbc41\"],[0.9,\"#4d9221\"],[1,\"#276419\"]],\"sequential\":[[0.0,\"#0d0887\"],[0.1111111111111111,\"#46039f\"],[0.2222222222222222,\"#7201a8\"],[0.3333333333333333,\"#9c179e\"],[0.4444444444444444,\"#bd3786\"],[0.5555555555555556,\"#d8576b\"],[0.6666666666666666,\"#ed7953\"],[0.7777777777777778,\"#fb9f3a\"],[0.8888888888888888,\"#fdca26\"],[1.0,\"#f0f921\"]],\"sequentialminus\":[[0.0,\"#0d0887\"],[0.1111111111111111,\"#46039f\"],[0.2222222222222222,\"#7201a8\"],[0.3333333333333333,\"#9c179e\"],[0.4444444444444444,\"#bd3786\"],[0.5555555555555556,\"#d8576b\"],[0.6666666666666666,\"#ed7953\"],[0.7777777777777778,\"#fb9f3a\"],[0.8888888888888888,\"#fdca26\"],[1.0,\"#f0f921\"]]},\"colorway\":[\"#636efa\",\"#EF553B\",\"#00cc96\",\"#ab63fa\",\"#FFA15A\",\"#19d3f3\",\"#FF6692\",\"#B6E880\",\"#FF97FF\",\"#FECB52\"],\"font\":{\"color\":\"#2a3f5f\"},\"geo\":{\"bgcolor\":\"white\",\"lakecolor\":\"white\",\"landcolor\":\"#E5ECF6\",\"showlakes\":true,\"showland\":true,\"subunitcolor\":\"white\"},\"hoverlabel\":{\"align\":\"left\"},\"hovermode\":\"closest\",\"mapbox\":{\"style\":\"light\"},\"paper_bgcolor\":\"white\",\"plot_bgcolor\":\"#E5ECF6\",\"polar\":{\"angularaxis\":{\"gridcolor\":\"white\",\"linecolor\":\"white\",\"ticks\":\"\"},\"bgcolor\":\"#E5ECF6\",\"radialaxis\":{\"gridcolor\":\"white\",\"linecolor\":\"white\",\"ticks\":\"\"}},\"scene\":{\"xaxis\":{\"backgroundcolor\":\"#E5ECF6\",\"gridcolor\":\"white\",\"gridwidth\":2,\"linecolor\":\"white\",\"showbackground\":true,\"ticks\":\"\",\"zerolinecolor\":\"white\"},\"yaxis\":{\"backgroundcolor\":\"#E5ECF6\",\"gridcolor\":\"white\",\"gridwidth\":2,\"linecolor\":\"white\",\"showbackground\":true,\"ticks\":\"\",\"zerolinecolor\":\"white\"},\"zaxis\":{\"backgroundcolor\":\"#E5ECF6\",\"gridcolor\":\"white\",\"gridwidth\":2,\"linecolor\":\"white\",\"showbackground\":true,\"ticks\":\"\",\"zerolinecolor\":\"white\"}},\"shapedefaults\":{\"line\":{\"color\":\"#2a3f5f\"}},\"ternary\":{\"aaxis\":{\"gridcolor\":\"white\",\"linecolor\":\"white\",\"ticks\":\"\"},\"baxis\":{\"gridcolor\":\"white\",\"linecolor\":\"white\",\"ticks\":\"\"},\"bgcolor\":\"#E5ECF6\",\"caxis\":{\"gridcolor\":\"white\",\"linecolor\":\"white\",\"ticks\":\"\"}},\"title\":{\"x\":0.05},\"xaxis\":{\"automargin\":true,\"gridcolor\":\"white\",\"linecolor\":\"white\",\"ticks\":\"\",\"title\":{\"standoff\":15},\"zerolinecolor\":\"white\",\"zerolinewidth\":2},\"yaxis\":{\"automargin\":true,\"gridcolor\":\"white\",\"linecolor\":\"white\",\"ticks\":\"\",\"title\":{\"standoff\":15},\"zerolinecolor\":\"white\",\"zerolinewidth\":2}}},\"xaxis\":{\"anchor\":\"y\",\"domain\":[0.0,1.0],\"title\":{\"text\":\"County\"}},\"yaxis\":{\"anchor\":\"x\",\"domain\":[0.0,1.0],\"title\":{\"text\":\"Median Home Price Q1 2021\"}}},                        {\"responsive\": true}                    ).then(function(){\n",
       "                            \n",
       "var gd = document.getElementById('c5d961a8-d22b-459f-9076-05f7864a4c44');\n",
       "var x = new MutationObserver(function (mutations, observer) {{\n",
       "        var display = window.getComputedStyle(gd).display;\n",
       "        if (!display || display === 'none') {{\n",
       "            console.log([gd, 'removed!']);\n",
       "            Plotly.purge(gd);\n",
       "            observer.disconnect();\n",
       "        }}\n",
       "}});\n",
       "\n",
       "// Listen for the removal of the full notebook cells\n",
       "var notebookContainer = gd.closest('#notebook-container');\n",
       "if (notebookContainer) {{\n",
       "    x.observe(notebookContainer, {childList: true});\n",
       "}}\n",
       "\n",
       "// Listen for the clearing of the current output cell\n",
       "var outputEl = gd.closest('.output');\n",
       "if (outputEl) {{\n",
       "    x.observe(outputEl, {childList: true});\n",
       "}}\n",
       "\n",
       "                        })                };                });            </script>        </div>"
      ]
     },
     "metadata": {},
     "output_type": "display_data"
    }
   ],
   "source": [
    "# Scatter plot showing Florida median home prices per county in ascending order\n",
    "px.scatter(re_data_sorted_by_median_home_price, x=\"County\", y=\"Median Home Price Q1 2021\")"
   ]
  },
  {
   "cell_type": "code",
   "execution_count": 19,
   "id": "8916e6c5-7efd-4b4b-8aaa-8c8d90050e2e",
   "metadata": {},
   "outputs": [],
   "source": [
    "# Import Lat Long CSV to Panda Dataframes for MapBox\n",
    "file_path = Path(\"lat_long.csv\")\n",
    "lat_long_data = pd.read_csv(file_path)"
   ]
  },
  {
   "cell_type": "code",
   "execution_count": 22,
   "id": "5423cadc-a62b-4ec7-b2d1-22408c964084",
   "metadata": {},
   "outputs": [
    {
     "data": {
      "application/vnd.plotly.v1+json": {
       "config": {
        "plotlyServerURL": "https://plot.ly"
       },
       "data": [
        {
         "hovertemplate": "County=Alachua<br>Lat=%{lat}<br>Long=%{lon}<extra></extra>",
         "lat": [
          29.676436
         ],
         "legendgroup": "Alachua",
         "lon": [
          -82.379953
         ],
         "marker": {
          "color": "#636efa"
         },
         "mode": "markers",
         "name": "Alachua",
         "showlegend": true,
         "subplot": "mapbox",
         "type": "scattermapbox"
        },
        {
         "hovertemplate": "County=Baker<br>Lat=%{lat}<br>Long=%{lon}<extra></extra>",
         "lat": [
          30.287516999999998
         ],
         "legendgroup": "Baker",
         "lon": [
          -82.23626800000001
         ],
         "marker": {
          "color": "#EF553B"
         },
         "mode": "markers",
         "name": "Baker",
         "showlegend": true,
         "subplot": "mapbox",
         "type": "scattermapbox"
        },
        {
         "hovertemplate": "County=Bay<br>Lat=%{lat}<br>Long=%{lon}<extra></extra>",
         "lat": [
          30.219170000000002
         ],
         "legendgroup": "Bay",
         "lon": [
          -85.638788
         ],
         "marker": {
          "color": "#00cc96"
         },
         "mode": "markers",
         "name": "Bay",
         "showlegend": true,
         "subplot": "mapbox",
         "type": "scattermapbox"
        },
        {
         "hovertemplate": "County=Bradford<br>Lat=%{lat}<br>Long=%{lon}<extra></extra>",
         "lat": [
          29.928876000000002
         ],
         "legendgroup": "Bradford",
         "lon": [
          -82.142368
         ],
         "marker": {
          "color": "#ab63fa"
         },
         "mode": "markers",
         "name": "Bradford",
         "showlegend": true,
         "subplot": "mapbox",
         "type": "scattermapbox"
        },
        {
         "hovertemplate": "County=Bevard<br>Lat=%{lat}<br>Long=%{lon}<extra></extra>",
         "lat": [
          28.0833333
         ],
         "legendgroup": "Bevard",
         "lon": [
          -80.6083333
         ],
         "marker": {
          "color": "#FFA15A"
         },
         "mode": "markers",
         "name": "Bevard",
         "showlegend": true,
         "subplot": "mapbox",
         "type": "scattermapbox"
        },
        {
         "hovertemplate": "County=Broward<br>Lat=%{lat}<br>Long=%{lon}<extra></extra>",
         "lat": [
          26.134788
         ],
         "legendgroup": "Broward",
         "lon": [
          -80.206098
         ],
         "marker": {
          "color": "#19d3f3"
         },
         "mode": "markers",
         "name": "Broward",
         "showlegend": true,
         "subplot": "mapbox",
         "type": "scattermapbox"
        },
        {
         "hovertemplate": "County=Calhoun<br>Lat=%{lat}<br>Long=%{lon}<extra></extra>",
         "lat": [
          30.428611
         ],
         "legendgroup": "Calhoun",
         "lon": [
          -85.186786
         ],
         "marker": {
          "color": "#FF6692"
         },
         "mode": "markers",
         "name": "Calhoun",
         "showlegend": true,
         "subplot": "mapbox",
         "type": "scattermapbox"
        },
        {
         "hovertemplate": "County=Charlotte<br>Lat=%{lat}<br>Long=%{lon}<extra></extra>",
         "lat": [
          26.952872999999997
         ],
         "legendgroup": "Charlotte",
         "lon": [
          -82.131242
         ],
         "marker": {
          "color": "#B6E880"
         },
         "mode": "markers",
         "name": "Charlotte",
         "showlegend": true,
         "subplot": "mapbox",
         "type": "scattermapbox"
        },
        {
         "hovertemplate": "County=Citrus<br>Lat=%{lat}<br>Long=%{lon}<extra></extra>",
         "lat": [
          28.894637
         ],
         "legendgroup": "Citrus",
         "lon": [
          -82.469163
         ],
         "marker": {
          "color": "#FF97FF"
         },
         "mode": "markers",
         "name": "Citrus",
         "showlegend": true,
         "subplot": "mapbox",
         "type": "scattermapbox"
        },
        {
         "hovertemplate": "County=Clay<br>Lat=%{lat}<br>Long=%{lon}<extra></extra>",
         "lat": [
          30.000401
         ],
         "legendgroup": "Clay",
         "lon": [
          -81.823736
         ],
         "marker": {
          "color": "#FECB52"
         },
         "mode": "markers",
         "name": "Clay",
         "showlegend": true,
         "subplot": "mapbox",
         "type": "scattermapbox"
        },
        {
         "hovertemplate": "County=Collier<br>Lat=%{lat}<br>Long=%{lon}<extra></extra>",
         "lat": [
          26.155113
         ],
         "legendgroup": "Collier",
         "lon": [
          -81.671313
         ],
         "marker": {
          "color": "#636efa"
         },
         "mode": "markers",
         "name": "Collier",
         "showlegend": true,
         "subplot": "mapbox",
         "type": "scattermapbox"
        },
        {
         "hovertemplate": "County=Columbia<br>Lat=%{lat}<br>Long=%{lon}<extra></extra>",
         "lat": [
          30.1839
         ],
         "legendgroup": "Columbia",
         "lon": [
          -82.63878100000001
         ],
         "marker": {
          "color": "#EF553B"
         },
         "mode": "markers",
         "name": "Columbia",
         "showlegend": true,
         "subplot": "mapbox",
         "type": "scattermapbox"
        },
        {
         "hovertemplate": "County=DeSoto<br>Lat=%{lat}<br>Long=%{lon}<extra></extra>",
         "lat": [
          27.201006
         ],
         "legendgroup": "DeSoto",
         "lon": [
          -81.871967
         ],
         "marker": {
          "color": "#00cc96"
         },
         "mode": "markers",
         "name": "DeSoto",
         "showlegend": true,
         "subplot": "mapbox",
         "type": "scattermapbox"
        },
        {
         "hovertemplate": "County=Dixie<br>Lat=%{lat}<br>Long=%{lon}<extra></extra>",
         "lat": [
          29.607260999999998
         ],
         "legendgroup": "Dixie",
         "lon": [
          -83.119978
         ],
         "marker": {
          "color": "#ab63fa"
         },
         "mode": "markers",
         "name": "Dixie",
         "showlegend": true,
         "subplot": "mapbox",
         "type": "scattermapbox"
        },
        {
         "hovertemplate": "County=Duval<br>Lat=%{lat}<br>Long=%{lon}<extra></extra>",
         "lat": [
          30.320873
         ],
         "legendgroup": "Duval",
         "lon": [
          -81.638873
         ],
         "marker": {
          "color": "#FFA15A"
         },
         "mode": "markers",
         "name": "Duval",
         "showlegend": true,
         "subplot": "mapbox",
         "type": "scattermapbox"
        },
        {
         "hovertemplate": "County=Escambia<br>Lat=%{lat}<br>Long=%{lon}<extra></extra>",
         "lat": [
          30.502045000000003
         ],
         "legendgroup": "Escambia",
         "lon": [
          -87.277355
         ],
         "marker": {
          "color": "#19d3f3"
         },
         "mode": "markers",
         "name": "Escambia",
         "showlegend": true,
         "subplot": "mapbox",
         "type": "scattermapbox"
        },
        {
         "hovertemplate": "County=Franklin<br>Lat=%{lat}<br>Long=%{lon}<extra></extra>",
         "lat": [
          29.842944
         ],
         "legendgroup": "Franklin",
         "lon": [
          -84.789354
         ],
         "marker": {
          "color": "#FF6692"
         },
         "mode": "markers",
         "name": "Franklin",
         "showlegend": true,
         "subplot": "mapbox",
         "type": "scattermapbox"
        },
        {
         "hovertemplate": "County=Gadsden<br>Lat=%{lat}<br>Long=%{lon}<extra></extra>",
         "lat": [
          30.603309000000003
         ],
         "legendgroup": "Gadsden",
         "lon": [
          -84.618328
         ],
         "marker": {
          "color": "#B6E880"
         },
         "mode": "markers",
         "name": "Gadsden",
         "showlegend": true,
         "subplot": "mapbox",
         "type": "scattermapbox"
        },
        {
         "hovertemplate": "County=Gilchrist<br>Lat=%{lat}<br>Long=%{lon}<extra></extra>",
         "lat": [
          29.709927
         ],
         "legendgroup": "Gilchrist",
         "lon": [
          -82.832899
         ],
         "marker": {
          "color": "#FF97FF"
         },
         "mode": "markers",
         "name": "Gilchrist",
         "showlegend": true,
         "subplot": "mapbox",
         "type": "scattermapbox"
        },
        {
         "hovertemplate": "County=Glades<br>Lat=%{lat}<br>Long=%{lon}<extra></extra>",
         "lat": [
          26.891982000000002
         ],
         "legendgroup": "Glades",
         "lon": [
          -81.16836500000001
         ],
         "marker": {
          "color": "#FECB52"
         },
         "mode": "markers",
         "name": "Glades",
         "showlegend": true,
         "subplot": "mapbox",
         "type": "scattermapbox"
        },
        {
         "hovertemplate": "County=Gulf<br>Lat=%{lat}<br>Long=%{lon}<extra></extra>",
         "lat": [
          29.940015999999996
         ],
         "legendgroup": "Gulf",
         "lon": [
          -85.267756
         ],
         "marker": {
          "color": "#636efa"
         },
         "mode": "markers",
         "name": "Gulf",
         "showlegend": true,
         "subplot": "mapbox",
         "type": "scattermapbox"
        },
        {
         "hovertemplate": "County=Hamilton<br>Lat=%{lat}<br>Long=%{lon}<extra></extra>",
         "lat": [
          30.491893
         ],
         "legendgroup": "Hamilton",
         "lon": [
          -82.94876500000001
         ],
         "marker": {
          "color": "#EF553B"
         },
         "mode": "markers",
         "name": "Hamilton",
         "showlegend": true,
         "subplot": "mapbox",
         "type": "scattermapbox"
        },
        {
         "hovertemplate": "County=Hardee<br>Lat=%{lat}<br>Long=%{lon}<extra></extra>",
         "lat": [
          27.538231
         ],
         "legendgroup": "Hardee",
         "lon": [
          -81.809106
         ],
         "marker": {
          "color": "#00cc96"
         },
         "mode": "markers",
         "name": "Hardee",
         "showlegend": true,
         "subplot": "mapbox",
         "type": "scattermapbox"
        },
        {
         "hovertemplate": "County=Hendry<br>Lat=%{lat}<br>Long=%{lon}<extra></extra>",
         "lat": [
          26.696403000000004
         ],
         "legendgroup": "Hendry",
         "lon": [
          -81.191622
         ],
         "marker": {
          "color": "#ab63fa"
         },
         "mode": "markers",
         "name": "Hendry",
         "showlegend": true,
         "subplot": "mapbox",
         "type": "scattermapbox"
        },
        {
         "hovertemplate": "County=Hernando<br>Lat=%{lat}<br>Long=%{lon}<extra></extra>",
         "lat": [
          28.521290999999998
         ],
         "legendgroup": "Hernando",
         "lon": [
          -82.481399
         ],
         "marker": {
          "color": "#FFA15A"
         },
         "mode": "markers",
         "name": "Hernando",
         "showlegend": true,
         "subplot": "mapbox",
         "type": "scattermapbox"
        },
        {
         "hovertemplate": "County=Highlands<br>Lat=%{lat}<br>Long=%{lon}<extra></extra>",
         "lat": [
          27.439711
         ],
         "legendgroup": "Highlands",
         "lon": [
          -81.428524
         ],
         "marker": {
          "color": "#19d3f3"
         },
         "mode": "markers",
         "name": "Highlands",
         "showlegend": true,
         "subplot": "mapbox",
         "type": "scattermapbox"
        },
        {
         "hovertemplate": "County=Hillsborough<br>Lat=%{lat}<br>Long=%{lon}<extra></extra>",
         "lat": [
          27.966348999999997
         ],
         "legendgroup": "Hillsborough",
         "lon": [
          -82.412079
         ],
         "marker": {
          "color": "#FF6692"
         },
         "mode": "markers",
         "name": "Hillsborough",
         "showlegend": true,
         "subplot": "mapbox",
         "type": "scattermapbox"
        },
        {
         "hovertemplate": "County=Holmes<br>Lat=%{lat}<br>Long=%{lon}<extra></extra>",
         "lat": [
          30.853637
         ],
         "legendgroup": "Holmes",
         "lon": [
          -85.785748
         ],
         "marker": {
          "color": "#B6E880"
         },
         "mode": "markers",
         "name": "Holmes",
         "showlegend": true,
         "subplot": "mapbox",
         "type": "scattermapbox"
        },
        {
         "hovertemplate": "County=Indian River<br>Lat=%{lat}<br>Long=%{lon}<extra></extra>",
         "lat": [
          27.695124
         ],
         "legendgroup": "Indian River",
         "lon": [
          -80.45405600000001
         ],
         "marker": {
          "color": "#FF97FF"
         },
         "mode": "markers",
         "name": "Indian River",
         "showlegend": true,
         "subplot": "mapbox",
         "type": "scattermapbox"
        },
        {
         "hovertemplate": "County=Jackson<br>Lat=%{lat}<br>Long=%{lon}<extra></extra>",
         "lat": [
          30.769903000000003
         ],
         "legendgroup": "Jackson",
         "lon": [
          -85.241124
         ],
         "marker": {
          "color": "#FECB52"
         },
         "mode": "markers",
         "name": "Jackson",
         "showlegend": true,
         "subplot": "mapbox",
         "type": "scattermapbox"
        },
        {
         "hovertemplate": "County=Jefferson<br>Lat=%{lat}<br>Long=%{lon}<extra></extra>",
         "lat": [
          30.510187
         ],
         "legendgroup": "Jefferson",
         "lon": [
          -83.884229
         ],
         "marker": {
          "color": "#636efa"
         },
         "mode": "markers",
         "name": "Jefferson",
         "showlegend": true,
         "subplot": "mapbox",
         "type": "scattermapbox"
        },
        {
         "hovertemplate": "County=Lafayette<br>Lat=%{lat}<br>Long=%{lon}<extra></extra>",
         "lat": [
          30.00143
         ],
         "legendgroup": "Lafayette",
         "lon": [
          -83.18326400000001
         ],
         "marker": {
          "color": "#EF553B"
         },
         "mode": "markers",
         "name": "Lafayette",
         "showlegend": true,
         "subplot": "mapbox",
         "type": "scattermapbox"
        },
        {
         "hovertemplate": "County=Lake<br>Lat=%{lat}<br>Long=%{lon}<extra></extra>",
         "lat": [
          28.795924
         ],
         "legendgroup": "Lake",
         "lon": [
          -81.74769599999999
         ],
         "marker": {
          "color": "#00cc96"
         },
         "mode": "markers",
         "name": "Lake",
         "showlegend": true,
         "subplot": "mapbox",
         "type": "scattermapbox"
        },
        {
         "hovertemplate": "County=Lee<br>Lat=%{lat}<br>Long=%{lon}<extra></extra>",
         "lat": [
          26.602541
         ],
         "legendgroup": "Lee",
         "lon": [
          -81.846262
         ],
         "marker": {
          "color": "#ab63fa"
         },
         "mode": "markers",
         "name": "Lee",
         "showlegend": true,
         "subplot": "mapbox",
         "type": "scattermapbox"
        },
        {
         "hovertemplate": "County=Leon<br>Lat=%{lat}<br>Long=%{lon}<extra></extra>",
         "lat": [
          30.462933000000003
         ],
         "legendgroup": "Leon",
         "lon": [
          -84.260888
         ],
         "marker": {
          "color": "#FFA15A"
         },
         "mode": "markers",
         "name": "Leon",
         "showlegend": true,
         "subplot": "mapbox",
         "type": "scattermapbox"
        },
        {
         "hovertemplate": "County=Levy<br>Lat=%{lat}<br>Long=%{lon}<extra></extra>",
         "lat": [
          29.330144
         ],
         "legendgroup": "Levy",
         "lon": [
          -82.70781
         ],
         "marker": {
          "color": "#19d3f3"
         },
         "mode": "markers",
         "name": "Levy",
         "showlegend": true,
         "subplot": "mapbox",
         "type": "scattermapbox"
        },
        {
         "hovertemplate": "County=Liberty<br>Lat=%{lat}<br>Long=%{lon}<extra></extra>",
         "lat": [
          30.285745000000002
         ],
         "legendgroup": "Liberty",
         "lon": [
          -84.88324200000001
         ],
         "marker": {
          "color": "#FF6692"
         },
         "mode": "markers",
         "name": "Liberty",
         "showlegend": true,
         "subplot": "mapbox",
         "type": "scattermapbox"
        },
        {
         "hovertemplate": "County=Madison<br>Lat=%{lat}<br>Long=%{lon}<extra></extra>",
         "lat": [
          30.443902
         ],
         "legendgroup": "Madison",
         "lon": [
          -83.4258
         ],
         "marker": {
          "color": "#B6E880"
         },
         "mode": "markers",
         "name": "Madison",
         "showlegend": true,
         "subplot": "mapbox",
         "type": "scattermapbox"
        },
        {
         "hovertemplate": "County=Manatee<br>Lat=%{lat}<br>Long=%{lon}<extra></extra>",
         "lat": [
          27.487817
         ],
         "legendgroup": "Manatee",
         "lon": [
          -82.54906899999999
         ],
         "marker": {
          "color": "#FF97FF"
         },
         "mode": "markers",
         "name": "Manatee",
         "showlegend": true,
         "subplot": "mapbox",
         "type": "scattermapbox"
        },
        {
         "hovertemplate": "County=Marion<br>Lat=%{lat}<br>Long=%{lon}<extra></extra>",
         "lat": [
          29.142854999999997
         ],
         "legendgroup": "Marion",
         "lon": [
          -82.114602
         ],
         "marker": {
          "color": "#FECB52"
         },
         "mode": "markers",
         "name": "Marion",
         "showlegend": true,
         "subplot": "mapbox",
         "type": "scattermapbox"
        },
        {
         "hovertemplate": "County=Martin<br>Lat=%{lat}<br>Long=%{lon}<extra></extra>",
         "lat": [
          27.132403000000004
         ],
         "legendgroup": "Martin",
         "lon": [
          -80.255862
         ],
         "marker": {
          "color": "#636efa"
         },
         "mode": "markers",
         "name": "Martin",
         "showlegend": true,
         "subplot": "mapbox",
         "type": "scattermapbox"
        },
        {
         "hovertemplate": "County=Miami-Dade<br>Lat=%{lat}<br>Long=%{lon}<extra></extra>",
         "lat": [
          25.756427
         ],
         "legendgroup": "Miami-Dade",
         "lon": [
          -80.30226400000001
         ],
         "marker": {
          "color": "#EF553B"
         },
         "mode": "markers",
         "name": "Miami-Dade",
         "showlegend": true,
         "subplot": "mapbox",
         "type": "scattermapbox"
        },
        {
         "hovertemplate": "County=Monroe<br>Lat=%{lat}<br>Long=%{lon}<extra></extra>",
         "lat": [
          24.777558
         ],
         "legendgroup": "Monroe",
         "lon": [
          -81.228495
         ],
         "marker": {
          "color": "#00cc96"
         },
         "mode": "markers",
         "name": "Monroe",
         "showlegend": true,
         "subplot": "mapbox",
         "type": "scattermapbox"
        },
        {
         "hovertemplate": "County=Nassau<br>Lat=%{lat}<br>Long=%{lon}<extra></extra>",
         "lat": [
          30.623401
         ],
         "legendgroup": "Nassau",
         "lon": [
          -81.704762
         ],
         "marker": {
          "color": "#ab63fa"
         },
         "mode": "markers",
         "name": "Nassau",
         "showlegend": true,
         "subplot": "mapbox",
         "type": "scattermapbox"
        },
        {
         "hovertemplate": "County=Okaloosa<br>Lat=%{lat}<br>Long=%{lon}<extra></extra>",
         "lat": [
          30.642028999999997
         ],
         "legendgroup": "Okaloosa",
         "lon": [
          -86.562467
         ],
         "marker": {
          "color": "#FFA15A"
         },
         "mode": "markers",
         "name": "Okaloosa",
         "showlegend": true,
         "subplot": "mapbox",
         "type": "scattermapbox"
        },
        {
         "hovertemplate": "County=Okeechobee<br>Lat=%{lat}<br>Long=%{lon}<extra></extra>",
         "lat": [
          27.32525
         ],
         "legendgroup": "Okeechobee",
         "lon": [
          -80.870875
         ],
         "marker": {
          "color": "#19d3f3"
         },
         "mode": "markers",
         "name": "Okeechobee",
         "showlegend": true,
         "subplot": "mapbox",
         "type": "scattermapbox"
        },
        {
         "hovertemplate": "County=Orange<br>Lat=%{lat}<br>Long=%{lon}<extra></extra>",
         "lat": [
          28.547128999999998
         ],
         "legendgroup": "Orange",
         "lon": [
          -81.40415899999999
         ],
         "marker": {
          "color": "#FF6692"
         },
         "mode": "markers",
         "name": "Orange",
         "showlegend": true,
         "subplot": "mapbox",
         "type": "scattermapbox"
        },
        {
         "hovertemplate": "County=Osceola<br>Lat=%{lat}<br>Long=%{lon}<extra></extra>",
         "lat": [
          28.231941
         ],
         "legendgroup": "Osceola",
         "lon": [
          -81.31971
         ],
         "marker": {
          "color": "#B6E880"
         },
         "mode": "markers",
         "name": "Osceola",
         "showlegend": true,
         "subplot": "mapbox",
         "type": "scattermapbox"
        },
        {
         "hovertemplate": "County=Palm Beach<br>Lat=%{lat}<br>Long=%{lon}<extra></extra>",
         "lat": [
          26.637745000000002
         ],
         "legendgroup": "Palm Beach",
         "lon": [
          -80.176395
         ],
         "marker": {
          "color": "#FF97FF"
         },
         "mode": "markers",
         "name": "Palm Beach",
         "showlegend": true,
         "subplot": "mapbox",
         "type": "scattermapbox"
        },
        {
         "hovertemplate": "County=Pasco<br>Lat=%{lat}<br>Long=%{lon}<extra></extra>",
         "lat": [
          28.276153000000004
         ],
         "legendgroup": "Pasco",
         "lon": [
          -82.496887
         ],
         "marker": {
          "color": "#FECB52"
         },
         "mode": "markers",
         "name": "Pasco",
         "showlegend": true,
         "subplot": "mapbox",
         "type": "scattermapbox"
        },
        {
         "hovertemplate": "County=Pinellas<br>Lat=%{lat}<br>Long=%{lon}<extra></extra>",
         "lat": [
          27.889646999999997
         ],
         "legendgroup": "Pinellas",
         "lon": [
          -82.727766
         ],
         "marker": {
          "color": "#636efa"
         },
         "mode": "markers",
         "name": "Pinellas",
         "showlegend": true,
         "subplot": "mapbox",
         "type": "scattermapbox"
        },
        {
         "hovertemplate": "County=Polk<br>Lat=%{lat}<br>Long=%{lon}<extra></extra>",
         "lat": [
          27.992435999999998
         ],
         "legendgroup": "Polk",
         "lon": [
          -81.758303
         ],
         "marker": {
          "color": "#EF553B"
         },
         "mode": "markers",
         "name": "Polk",
         "showlegend": true,
         "subplot": "mapbox",
         "type": "scattermapbox"
        },
        {
         "hovertemplate": "County=Putnam<br>Lat=%{lat}<br>Long=%{lon}<extra></extra>",
         "lat": [
          29.597982000000002
         ],
         "legendgroup": "Putnam",
         "lon": [
          -81.75850799999999
         ],
         "marker": {
          "color": "#00cc96"
         },
         "mode": "markers",
         "name": "Putnam",
         "showlegend": true,
         "subplot": "mapbox",
         "type": "scattermapbox"
        },
        {
         "hovertemplate": "County=St. Johns<br>Lat=%{lat}<br>Long=%{lon}<extra></extra>",
         "lat": [
          29.881861999999998
         ],
         "legendgroup": "St. Johns",
         "lon": [
          -81.35813900000001
         ],
         "marker": {
          "color": "#ab63fa"
         },
         "mode": "markers",
         "name": "St. Johns",
         "showlegend": true,
         "subplot": "mapbox",
         "type": "scattermapbox"
        },
        {
         "hovertemplate": "County=St. Lucie<br>Lat=%{lat}<br>Long=%{lon}<extra></extra>",
         "lat": [
          27.348246000000003
         ],
         "legendgroup": "St. Lucie",
         "lon": [
          -80.360875
         ],
         "marker": {
          "color": "#FFA15A"
         },
         "mode": "markers",
         "name": "St. Lucie",
         "showlegend": true,
         "subplot": "mapbox",
         "type": "scattermapbox"
        },
        {
         "hovertemplate": "County=Santa Rosa<br>Lat=%{lat}<br>Long=%{lon}<extra></extra>",
         "lat": [
          30.614138
         ],
         "legendgroup": "Santa Rosa",
         "lon": [
          -87.021807
         ],
         "marker": {
          "color": "#19d3f3"
         },
         "mode": "markers",
         "name": "Santa Rosa",
         "showlegend": true,
         "subplot": "mapbox",
         "type": "scattermapbox"
        },
        {
         "hovertemplate": "County=Sarasota<br>Lat=%{lat}<br>Long=%{lon}<extra></extra>",
         "lat": [
          27.16493
         ],
         "legendgroup": "Sarasota",
         "lon": [
          -82.398881
         ],
         "marker": {
          "color": "#FF6692"
         },
         "mode": "markers",
         "name": "Sarasota",
         "showlegend": true,
         "subplot": "mapbox",
         "type": "scattermapbox"
        },
        {
         "hovertemplate": "County=Seminole<br>Lat=%{lat}<br>Long=%{lon}<extra></extra>",
         "lat": [
          28.709909000000003
         ],
         "legendgroup": "Seminole",
         "lon": [
          -81.31083100000001
         ],
         "marker": {
          "color": "#B6E880"
         },
         "mode": "markers",
         "name": "Seminole",
         "showlegend": true,
         "subplot": "mapbox",
         "type": "scattermapbox"
        },
        {
         "hovertemplate": "County=Sumter<br>Lat=%{lat}<br>Long=%{lon}<extra></extra>",
         "lat": [
          28.770086
         ],
         "legendgroup": "Sumter",
         "lon": [
          -82.075542
         ],
         "marker": {
          "color": "#FF97FF"
         },
         "mode": "markers",
         "name": "Sumter",
         "showlegend": true,
         "subplot": "mapbox",
         "type": "scattermapbox"
        },
        {
         "hovertemplate": "County=Suwannee<br>Lat=%{lat}<br>Long=%{lon}<extra></extra>",
         "lat": [
          30.191684000000002
         ],
         "legendgroup": "Suwannee",
         "lon": [
          -82.985391
         ],
         "marker": {
          "color": "#FECB52"
         },
         "mode": "markers",
         "name": "Suwannee",
         "showlegend": true,
         "subplot": "mapbox",
         "type": "scattermapbox"
        },
        {
         "hovertemplate": "County=Taylor<br>Lat=%{lat}<br>Long=%{lon}<extra></extra>",
         "lat": [
          30.053738
         ],
         "legendgroup": "Taylor",
         "lon": [
          -83.585228
         ],
         "marker": {
          "color": "#636efa"
         },
         "mode": "markers",
         "name": "Taylor",
         "showlegend": true,
         "subplot": "mapbox",
         "type": "scattermapbox"
        },
        {
         "hovertemplate": "County=Union<br>Lat=%{lat}<br>Long=%{lon}<extra></extra>",
         "lat": [
          30.02805
         ],
         "legendgroup": "Union",
         "lon": [
          -82.367222
         ],
         "marker": {
          "color": "#EF553B"
         },
         "mode": "markers",
         "name": "Union",
         "showlegend": true,
         "subplot": "mapbox",
         "type": "scattermapbox"
        },
        {
         "hovertemplate": "County=Volusia<br>Lat=%{lat}<br>Long=%{lon}<extra></extra>",
         "lat": [
          29.049037
         ],
         "legendgroup": "Volusia",
         "lon": [
          -81.138947
         ],
         "marker": {
          "color": "#00cc96"
         },
         "mode": "markers",
         "name": "Volusia",
         "showlegend": true,
         "subplot": "mapbox",
         "type": "scattermapbox"
        },
        {
         "hovertemplate": "County=Wakulla<br>Lat=%{lat}<br>Long=%{lon}<extra></extra>",
         "lat": [
          30.14462
         ],
         "legendgroup": "Wakulla",
         "lon": [
          -84.366174
         ],
         "marker": {
          "color": "#ab63fa"
         },
         "mode": "markers",
         "name": "Wakulla",
         "showlegend": true,
         "subplot": "mapbox",
         "type": "scattermapbox"
        },
        {
         "hovertemplate": "County=Walton<br>Lat=%{lat}<br>Long=%{lon}<extra></extra>",
         "lat": [
          30.637995
         ],
         "legendgroup": "Walton",
         "lon": [
          -86.155962
         ],
         "marker": {
          "color": "#FFA15A"
         },
         "mode": "markers",
         "name": "Walton",
         "showlegend": true,
         "subplot": "mapbox",
         "type": "scattermapbox"
        },
        {
         "hovertemplate": "County=Washington<br>Lat=%{lat}<br>Long=%{lon}<extra></extra>",
         "lat": [
          30.630591
         ],
         "legendgroup": "Washington",
         "lon": [
          -85.638396
         ],
         "marker": {
          "color": "#19d3f3"
         },
         "mode": "markers",
         "name": "Washington",
         "showlegend": true,
         "subplot": "mapbox",
         "type": "scattermapbox"
        }
       ],
       "layout": {
        "autosize": true,
        "legend": {
         "title": {
          "text": "County"
         },
         "tracegroupgap": 0
        },
        "mapbox": {
         "accesstoken": "pk.eyJ1Ijoid2VpZXJtZWRpYSIsImEiOiJja3F4djAwMjUxMjhrMnVsMzh5aThlcW9yIn0.0EA9aojTBfUEoSEdsqpQUw",
         "bearing": 0,
         "center": {
          "lat": 27.855942160344213,
          "lon": -87.88643620771546
         },
         "domain": {
          "x": [
           0,
           1
          ],
          "y": [
           0,
           1
          ]
         },
         "pitch": 0,
         "style": "open-street-map",
         "zoom": 4.662900489025535
        },
        "margin": {
         "t": 60
        },
        "template": {
         "data": {
          "bar": [
           {
            "error_x": {
             "color": "#2a3f5f"
            },
            "error_y": {
             "color": "#2a3f5f"
            },
            "marker": {
             "line": {
              "color": "#E5ECF6",
              "width": 0.5
             },
             "pattern": {
              "fillmode": "overlay",
              "size": 10,
              "solidity": 0.2
             }
            },
            "type": "bar"
           }
          ],
          "barpolar": [
           {
            "marker": {
             "line": {
              "color": "#E5ECF6",
              "width": 0.5
             },
             "pattern": {
              "fillmode": "overlay",
              "size": 10,
              "solidity": 0.2
             }
            },
            "type": "barpolar"
           }
          ],
          "carpet": [
           {
            "aaxis": {
             "endlinecolor": "#2a3f5f",
             "gridcolor": "white",
             "linecolor": "white",
             "minorgridcolor": "white",
             "startlinecolor": "#2a3f5f"
            },
            "baxis": {
             "endlinecolor": "#2a3f5f",
             "gridcolor": "white",
             "linecolor": "white",
             "minorgridcolor": "white",
             "startlinecolor": "#2a3f5f"
            },
            "type": "carpet"
           }
          ],
          "choropleth": [
           {
            "colorbar": {
             "outlinewidth": 0,
             "ticks": ""
            },
            "type": "choropleth"
           }
          ],
          "contour": [
           {
            "colorbar": {
             "outlinewidth": 0,
             "ticks": ""
            },
            "colorscale": [
             [
              0,
              "#0d0887"
             ],
             [
              0.1111111111111111,
              "#46039f"
             ],
             [
              0.2222222222222222,
              "#7201a8"
             ],
             [
              0.3333333333333333,
              "#9c179e"
             ],
             [
              0.4444444444444444,
              "#bd3786"
             ],
             [
              0.5555555555555556,
              "#d8576b"
             ],
             [
              0.6666666666666666,
              "#ed7953"
             ],
             [
              0.7777777777777778,
              "#fb9f3a"
             ],
             [
              0.8888888888888888,
              "#fdca26"
             ],
             [
              1,
              "#f0f921"
             ]
            ],
            "type": "contour"
           }
          ],
          "contourcarpet": [
           {
            "colorbar": {
             "outlinewidth": 0,
             "ticks": ""
            },
            "type": "contourcarpet"
           }
          ],
          "heatmap": [
           {
            "colorbar": {
             "outlinewidth": 0,
             "ticks": ""
            },
            "colorscale": [
             [
              0,
              "#0d0887"
             ],
             [
              0.1111111111111111,
              "#46039f"
             ],
             [
              0.2222222222222222,
              "#7201a8"
             ],
             [
              0.3333333333333333,
              "#9c179e"
             ],
             [
              0.4444444444444444,
              "#bd3786"
             ],
             [
              0.5555555555555556,
              "#d8576b"
             ],
             [
              0.6666666666666666,
              "#ed7953"
             ],
             [
              0.7777777777777778,
              "#fb9f3a"
             ],
             [
              0.8888888888888888,
              "#fdca26"
             ],
             [
              1,
              "#f0f921"
             ]
            ],
            "type": "heatmap"
           }
          ],
          "heatmapgl": [
           {
            "colorbar": {
             "outlinewidth": 0,
             "ticks": ""
            },
            "colorscale": [
             [
              0,
              "#0d0887"
             ],
             [
              0.1111111111111111,
              "#46039f"
             ],
             [
              0.2222222222222222,
              "#7201a8"
             ],
             [
              0.3333333333333333,
              "#9c179e"
             ],
             [
              0.4444444444444444,
              "#bd3786"
             ],
             [
              0.5555555555555556,
              "#d8576b"
             ],
             [
              0.6666666666666666,
              "#ed7953"
             ],
             [
              0.7777777777777778,
              "#fb9f3a"
             ],
             [
              0.8888888888888888,
              "#fdca26"
             ],
             [
              1,
              "#f0f921"
             ]
            ],
            "type": "heatmapgl"
           }
          ],
          "histogram": [
           {
            "marker": {
             "pattern": {
              "fillmode": "overlay",
              "size": 10,
              "solidity": 0.2
             }
            },
            "type": "histogram"
           }
          ],
          "histogram2d": [
           {
            "colorbar": {
             "outlinewidth": 0,
             "ticks": ""
            },
            "colorscale": [
             [
              0,
              "#0d0887"
             ],
             [
              0.1111111111111111,
              "#46039f"
             ],
             [
              0.2222222222222222,
              "#7201a8"
             ],
             [
              0.3333333333333333,
              "#9c179e"
             ],
             [
              0.4444444444444444,
              "#bd3786"
             ],
             [
              0.5555555555555556,
              "#d8576b"
             ],
             [
              0.6666666666666666,
              "#ed7953"
             ],
             [
              0.7777777777777778,
              "#fb9f3a"
             ],
             [
              0.8888888888888888,
              "#fdca26"
             ],
             [
              1,
              "#f0f921"
             ]
            ],
            "type": "histogram2d"
           }
          ],
          "histogram2dcontour": [
           {
            "colorbar": {
             "outlinewidth": 0,
             "ticks": ""
            },
            "colorscale": [
             [
              0,
              "#0d0887"
             ],
             [
              0.1111111111111111,
              "#46039f"
             ],
             [
              0.2222222222222222,
              "#7201a8"
             ],
             [
              0.3333333333333333,
              "#9c179e"
             ],
             [
              0.4444444444444444,
              "#bd3786"
             ],
             [
              0.5555555555555556,
              "#d8576b"
             ],
             [
              0.6666666666666666,
              "#ed7953"
             ],
             [
              0.7777777777777778,
              "#fb9f3a"
             ],
             [
              0.8888888888888888,
              "#fdca26"
             ],
             [
              1,
              "#f0f921"
             ]
            ],
            "type": "histogram2dcontour"
           }
          ],
          "mesh3d": [
           {
            "colorbar": {
             "outlinewidth": 0,
             "ticks": ""
            },
            "type": "mesh3d"
           }
          ],
          "parcoords": [
           {
            "line": {
             "colorbar": {
              "outlinewidth": 0,
              "ticks": ""
             }
            },
            "type": "parcoords"
           }
          ],
          "pie": [
           {
            "automargin": true,
            "type": "pie"
           }
          ],
          "scatter": [
           {
            "marker": {
             "colorbar": {
              "outlinewidth": 0,
              "ticks": ""
             }
            },
            "type": "scatter"
           }
          ],
          "scatter3d": [
           {
            "line": {
             "colorbar": {
              "outlinewidth": 0,
              "ticks": ""
             }
            },
            "marker": {
             "colorbar": {
              "outlinewidth": 0,
              "ticks": ""
             }
            },
            "type": "scatter3d"
           }
          ],
          "scattercarpet": [
           {
            "marker": {
             "colorbar": {
              "outlinewidth": 0,
              "ticks": ""
             }
            },
            "type": "scattercarpet"
           }
          ],
          "scattergeo": [
           {
            "marker": {
             "colorbar": {
              "outlinewidth": 0,
              "ticks": ""
             }
            },
            "type": "scattergeo"
           }
          ],
          "scattergl": [
           {
            "marker": {
             "colorbar": {
              "outlinewidth": 0,
              "ticks": ""
             }
            },
            "type": "scattergl"
           }
          ],
          "scattermapbox": [
           {
            "marker": {
             "colorbar": {
              "outlinewidth": 0,
              "ticks": ""
             }
            },
            "type": "scattermapbox"
           }
          ],
          "scatterpolar": [
           {
            "marker": {
             "colorbar": {
              "outlinewidth": 0,
              "ticks": ""
             }
            },
            "type": "scatterpolar"
           }
          ],
          "scatterpolargl": [
           {
            "marker": {
             "colorbar": {
              "outlinewidth": 0,
              "ticks": ""
             }
            },
            "type": "scatterpolargl"
           }
          ],
          "scatterternary": [
           {
            "marker": {
             "colorbar": {
              "outlinewidth": 0,
              "ticks": ""
             }
            },
            "type": "scatterternary"
           }
          ],
          "surface": [
           {
            "colorbar": {
             "outlinewidth": 0,
             "ticks": ""
            },
            "colorscale": [
             [
              0,
              "#0d0887"
             ],
             [
              0.1111111111111111,
              "#46039f"
             ],
             [
              0.2222222222222222,
              "#7201a8"
             ],
             [
              0.3333333333333333,
              "#9c179e"
             ],
             [
              0.4444444444444444,
              "#bd3786"
             ],
             [
              0.5555555555555556,
              "#d8576b"
             ],
             [
              0.6666666666666666,
              "#ed7953"
             ],
             [
              0.7777777777777778,
              "#fb9f3a"
             ],
             [
              0.8888888888888888,
              "#fdca26"
             ],
             [
              1,
              "#f0f921"
             ]
            ],
            "type": "surface"
           }
          ],
          "table": [
           {
            "cells": {
             "fill": {
              "color": "#EBF0F8"
             },
             "line": {
              "color": "white"
             }
            },
            "header": {
             "fill": {
              "color": "#C8D4E3"
             },
             "line": {
              "color": "white"
             }
            },
            "type": "table"
           }
          ]
         },
         "layout": {
          "annotationdefaults": {
           "arrowcolor": "#2a3f5f",
           "arrowhead": 0,
           "arrowwidth": 1
          },
          "autotypenumbers": "strict",
          "coloraxis": {
           "colorbar": {
            "outlinewidth": 0,
            "ticks": ""
           }
          },
          "colorscale": {
           "diverging": [
            [
             0,
             "#8e0152"
            ],
            [
             0.1,
             "#c51b7d"
            ],
            [
             0.2,
             "#de77ae"
            ],
            [
             0.3,
             "#f1b6da"
            ],
            [
             0.4,
             "#fde0ef"
            ],
            [
             0.5,
             "#f7f7f7"
            ],
            [
             0.6,
             "#e6f5d0"
            ],
            [
             0.7,
             "#b8e186"
            ],
            [
             0.8,
             "#7fbc41"
            ],
            [
             0.9,
             "#4d9221"
            ],
            [
             1,
             "#276419"
            ]
           ],
           "sequential": [
            [
             0,
             "#0d0887"
            ],
            [
             0.1111111111111111,
             "#46039f"
            ],
            [
             0.2222222222222222,
             "#7201a8"
            ],
            [
             0.3333333333333333,
             "#9c179e"
            ],
            [
             0.4444444444444444,
             "#bd3786"
            ],
            [
             0.5555555555555556,
             "#d8576b"
            ],
            [
             0.6666666666666666,
             "#ed7953"
            ],
            [
             0.7777777777777778,
             "#fb9f3a"
            ],
            [
             0.8888888888888888,
             "#fdca26"
            ],
            [
             1,
             "#f0f921"
            ]
           ],
           "sequentialminus": [
            [
             0,
             "#0d0887"
            ],
            [
             0.1111111111111111,
             "#46039f"
            ],
            [
             0.2222222222222222,
             "#7201a8"
            ],
            [
             0.3333333333333333,
             "#9c179e"
            ],
            [
             0.4444444444444444,
             "#bd3786"
            ],
            [
             0.5555555555555556,
             "#d8576b"
            ],
            [
             0.6666666666666666,
             "#ed7953"
            ],
            [
             0.7777777777777778,
             "#fb9f3a"
            ],
            [
             0.8888888888888888,
             "#fdca26"
            ],
            [
             1,
             "#f0f921"
            ]
           ]
          },
          "colorway": [
           "#636efa",
           "#EF553B",
           "#00cc96",
           "#ab63fa",
           "#FFA15A",
           "#19d3f3",
           "#FF6692",
           "#B6E880",
           "#FF97FF",
           "#FECB52"
          ],
          "font": {
           "color": "#2a3f5f"
          },
          "geo": {
           "bgcolor": "white",
           "lakecolor": "white",
           "landcolor": "#E5ECF6",
           "showlakes": true,
           "showland": true,
           "subunitcolor": "white"
          },
          "hoverlabel": {
           "align": "left"
          },
          "hovermode": "closest",
          "mapbox": {
           "style": "light"
          },
          "paper_bgcolor": "white",
          "plot_bgcolor": "#E5ECF6",
          "polar": {
           "angularaxis": {
            "gridcolor": "white",
            "linecolor": "white",
            "ticks": ""
           },
           "bgcolor": "#E5ECF6",
           "radialaxis": {
            "gridcolor": "white",
            "linecolor": "white",
            "ticks": ""
           }
          },
          "scene": {
           "xaxis": {
            "backgroundcolor": "#E5ECF6",
            "gridcolor": "white",
            "gridwidth": 2,
            "linecolor": "white",
            "showbackground": true,
            "ticks": "",
            "zerolinecolor": "white"
           },
           "yaxis": {
            "backgroundcolor": "#E5ECF6",
            "gridcolor": "white",
            "gridwidth": 2,
            "linecolor": "white",
            "showbackground": true,
            "ticks": "",
            "zerolinecolor": "white"
           },
           "zaxis": {
            "backgroundcolor": "#E5ECF6",
            "gridcolor": "white",
            "gridwidth": 2,
            "linecolor": "white",
            "showbackground": true,
            "ticks": "",
            "zerolinecolor": "white"
           }
          },
          "shapedefaults": {
           "line": {
            "color": "#2a3f5f"
           }
          },
          "ternary": {
           "aaxis": {
            "gridcolor": "white",
            "linecolor": "white",
            "ticks": ""
           },
           "baxis": {
            "gridcolor": "white",
            "linecolor": "white",
            "ticks": ""
           },
           "bgcolor": "#E5ECF6",
           "caxis": {
            "gridcolor": "white",
            "linecolor": "white",
            "ticks": ""
           }
          },
          "title": {
           "x": 0.05
          },
          "xaxis": {
           "automargin": true,
           "gridcolor": "white",
           "linecolor": "white",
           "ticks": "",
           "title": {
            "standoff": 15
           },
           "zerolinecolor": "white",
           "zerolinewidth": 2
          },
          "yaxis": {
           "automargin": true,
           "gridcolor": "white",
           "linecolor": "white",
           "ticks": "",
           "title": {
            "standoff": 15
           },
           "zerolinecolor": "white",
           "zerolinewidth": 2
          }
         }
        }
       }
      },
      "image/png": "[encoded data removed]",
      "text/html": [
       "<div>                            <div id=\"adeb215a-b258-4433-973e-08d3c1a51480\" class=\"plotly-graph-div\" style=\"height:525px; width:100%;\"></div>            <script type=\"text/javascript\">                require([\"plotly\"], function(Plotly) {                    window.PLOTLYENV=window.PLOTLYENV || {};                                    if (document.getElementById(\"adeb215a-b258-4433-973e-08d3c1a51480\")) {                    Plotly.newPlot(                        \"adeb215a-b258-4433-973e-08d3c1a51480\",                        [{\"hovertemplate\":\"County=Alachua<br>Lat=%{lat}<br>Long=%{lon}<extra></extra>\",\"lat\":[29.676436],\"legendgroup\":\"Alachua\",\"lon\":[-82.379953],\"marker\":{\"color\":\"#636efa\"},\"mode\":\"markers\",\"name\":\"Alachua\",\"showlegend\":true,\"subplot\":\"mapbox\",\"type\":\"scattermapbox\"},{\"hovertemplate\":\"County=Baker<br>Lat=%{lat}<br>Long=%{lon}<extra></extra>\",\"lat\":[30.287516999999998],\"legendgroup\":\"Baker\",\"lon\":[-82.23626800000001],\"marker\":{\"color\":\"#EF553B\"},\"mode\":\"markers\",\"name\":\"Baker\",\"showlegend\":true,\"subplot\":\"mapbox\",\"type\":\"scattermapbox\"},{\"hovertemplate\":\"County=Bay<br>Lat=%{lat}<br>Long=%{lon}<extra></extra>\",\"lat\":[30.219170000000002],\"legendgroup\":\"Bay\",\"lon\":[-85.638788],\"marker\":{\"color\":\"#00cc96\"},\"mode\":\"markers\",\"name\":\"Bay\",\"showlegend\":true,\"subplot\":\"mapbox\",\"type\":\"scattermapbox\"},{\"hovertemplate\":\"County=Bradford<br>Lat=%{lat}<br>Long=%{lon}<extra></extra>\",\"lat\":[29.928876000000002],\"legendgroup\":\"Bradford\",\"lon\":[-82.142368],\"marker\":{\"color\":\"#ab63fa\"},\"mode\":\"markers\",\"name\":\"Bradford\",\"showlegend\":true,\"subplot\":\"mapbox\",\"type\":\"scattermapbox\"},{\"hovertemplate\":\"County=Bevard<br>Lat=%{lat}<br>Long=%{lon}<extra></extra>\",\"lat\":[28.0833333],\"legendgroup\":\"Bevard\",\"lon\":[-80.6083333],\"marker\":{\"color\":\"#FFA15A\"},\"mode\":\"markers\",\"name\":\"Bevard\",\"showlegend\":true,\"subplot\":\"mapbox\",\"type\":\"scattermapbox\"},{\"hovertemplate\":\"County=Broward<br>Lat=%{lat}<br>Long=%{lon}<extra></extra>\",\"lat\":[26.134788],\"legendgroup\":\"Broward\",\"lon\":[-80.206098],\"marker\":{\"color\":\"#19d3f3\"},\"mode\":\"markers\",\"name\":\"Broward\",\"showlegend\":true,\"subplot\":\"mapbox\",\"type\":\"scattermapbox\"},{\"hovertemplate\":\"County=Calhoun<br>Lat=%{lat}<br>Long=%{lon}<extra></extra>\",\"lat\":[30.428611],\"legendgroup\":\"Calhoun\",\"lon\":[-85.186786],\"marker\":{\"color\":\"#FF6692\"},\"mode\":\"markers\",\"name\":\"Calhoun\",\"showlegend\":true,\"subplot\":\"mapbox\",\"type\":\"scattermapbox\"},{\"hovertemplate\":\"County=Charlotte<br>Lat=%{lat}<br>Long=%{lon}<extra></extra>\",\"lat\":[26.952872999999997],\"legendgroup\":\"Charlotte\",\"lon\":[-82.131242],\"marker\":{\"color\":\"#B6E880\"},\"mode\":\"markers\",\"name\":\"Charlotte\",\"showlegend\":true,\"subplot\":\"mapbox\",\"type\":\"scattermapbox\"},{\"hovertemplate\":\"County=Citrus<br>Lat=%{lat}<br>Long=%{lon}<extra></extra>\",\"lat\":[28.894637],\"legendgroup\":\"Citrus\",\"lon\":[-82.469163],\"marker\":{\"color\":\"#FF97FF\"},\"mode\":\"markers\",\"name\":\"Citrus\",\"showlegend\":true,\"subplot\":\"mapbox\",\"type\":\"scattermapbox\"},{\"hovertemplate\":\"County=Clay<br>Lat=%{lat}<br>Long=%{lon}<extra></extra>\",\"lat\":[30.000401],\"legendgroup\":\"Clay\",\"lon\":[-81.823736],\"marker\":{\"color\":\"#FECB52\"},\"mode\":\"markers\",\"name\":\"Clay\",\"showlegend\":true,\"subplot\":\"mapbox\",\"type\":\"scattermapbox\"},{\"hovertemplate\":\"County=Collier<br>Lat=%{lat}<br>Long=%{lon}<extra></extra>\",\"lat\":[26.155113],\"legendgroup\":\"Collier\",\"lon\":[-81.671313],\"marker\":{\"color\":\"#636efa\"},\"mode\":\"markers\",\"name\":\"Collier\",\"showlegend\":true,\"subplot\":\"mapbox\",\"type\":\"scattermapbox\"},{\"hovertemplate\":\"County=Columbia<br>Lat=%{lat}<br>Long=%{lon}<extra></extra>\",\"lat\":[30.1839],\"legendgroup\":\"Columbia\",\"lon\":[-82.63878100000001],\"marker\":{\"color\":\"#EF553B\"},\"mode\":\"markers\",\"name\":\"Columbia\",\"showlegend\":true,\"subplot\":\"mapbox\",\"type\":\"scattermapbox\"},{\"hovertemplate\":\"County=DeSoto<br>Lat=%{lat}<br>Long=%{lon}<extra></extra>\",\"lat\":[27.201006],\"legendgroup\":\"DeSoto\",\"lon\":[-81.871967],\"marker\":{\"color\":\"#00cc96\"},\"mode\":\"markers\",\"name\":\"DeSoto\",\"showlegend\":true,\"subplot\":\"mapbox\",\"type\":\"scattermapbox\"},{\"hovertemplate\":\"County=Dixie<br>Lat=%{lat}<br>Long=%{lon}<extra></extra>\",\"lat\":[29.607260999999998],\"legendgroup\":\"Dixie\",\"lon\":[-83.119978],\"marker\":{\"color\":\"#ab63fa\"},\"mode\":\"markers\",\"name\":\"Dixie\",\"showlegend\":true,\"subplot\":\"mapbox\",\"type\":\"scattermapbox\"},{\"hovertemplate\":\"County=Duval<br>Lat=%{lat}<br>Long=%{lon}<extra></extra>\",\"lat\":[30.320873],\"legendgroup\":\"Duval\",\"lon\":[-81.638873],\"marker\":{\"color\":\"#FFA15A\"},\"mode\":\"markers\",\"name\":\"Duval\",\"showlegend\":true,\"subplot\":\"mapbox\",\"type\":\"scattermapbox\"},{\"hovertemplate\":\"County=Escambia<br>Lat=%{lat}<br>Long=%{lon}<extra></extra>\",\"lat\":[30.502045000000003],\"legendgroup\":\"Escambia\",\"lon\":[-87.277355],\"marker\":{\"color\":\"#19d3f3\"},\"mode\":\"markers\",\"name\":\"Escambia\",\"showlegend\":true,\"subplot\":\"mapbox\",\"type\":\"scattermapbox\"},{\"hovertemplate\":\"County=Franklin<br>Lat=%{lat}<br>Long=%{lon}<extra></extra>\",\"lat\":[29.842944],\"legendgroup\":\"Franklin\",\"lon\":[-84.789354],\"marker\":{\"color\":\"#FF6692\"},\"mode\":\"markers\",\"name\":\"Franklin\",\"showlegend\":true,\"subplot\":\"mapbox\",\"type\":\"scattermapbox\"},{\"hovertemplate\":\"County=Gadsden<br>Lat=%{lat}<br>Long=%{lon}<extra></extra>\",\"lat\":[30.603309000000003],\"legendgroup\":\"Gadsden\",\"lon\":[-84.618328],\"marker\":{\"color\":\"#B6E880\"},\"mode\":\"markers\",\"name\":\"Gadsden\",\"showlegend\":true,\"subplot\":\"mapbox\",\"type\":\"scattermapbox\"},{\"hovertemplate\":\"County=Gilchrist<br>Lat=%{lat}<br>Long=%{lon}<extra></extra>\",\"lat\":[29.709927],\"legendgroup\":\"Gilchrist\",\"lon\":[-82.832899],\"marker\":{\"color\":\"#FF97FF\"},\"mode\":\"markers\",\"name\":\"Gilchrist\",\"showlegend\":true,\"subplot\":\"mapbox\",\"type\":\"scattermapbox\"},{\"hovertemplate\":\"County=Glades<br>Lat=%{lat}<br>Long=%{lon}<extra></extra>\",\"lat\":[26.891982000000002],\"legendgroup\":\"Glades\",\"lon\":[-81.16836500000001],\"marker\":{\"color\":\"#FECB52\"},\"mode\":\"markers\",\"name\":\"Glades\",\"showlegend\":true,\"subplot\":\"mapbox\",\"type\":\"scattermapbox\"},{\"hovertemplate\":\"County=Gulf<br>Lat=%{lat}<br>Long=%{lon}<extra></extra>\",\"lat\":[29.940015999999996],\"legendgroup\":\"Gulf\",\"lon\":[-85.267756],\"marker\":{\"color\":\"#636efa\"},\"mode\":\"markers\",\"name\":\"Gulf\",\"showlegend\":true,\"subplot\":\"mapbox\",\"type\":\"scattermapbox\"},{\"hovertemplate\":\"County=Hamilton<br>Lat=%{lat}<br>Long=%{lon}<extra></extra>\",\"lat\":[30.491893],\"legendgroup\":\"Hamilton\",\"lon\":[-82.94876500000001],\"marker\":{\"color\":\"#EF553B\"},\"mode\":\"markers\",\"name\":\"Hamilton\",\"showlegend\":true,\"subplot\":\"mapbox\",\"type\":\"scattermapbox\"},{\"hovertemplate\":\"County=Hardee<br>Lat=%{lat}<br>Long=%{lon}<extra></extra>\",\"lat\":[27.538231],\"legendgroup\":\"Hardee\",\"lon\":[-81.809106],\"marker\":{\"color\":\"#00cc96\"},\"mode\":\"markers\",\"name\":\"Hardee\",\"showlegend\":true,\"subplot\":\"mapbox\",\"type\":\"scattermapbox\"},{\"hovertemplate\":\"County=Hendry<br>Lat=%{lat}<br>Long=%{lon}<extra></extra>\",\"lat\":[26.696403000000004],\"legendgroup\":\"Hendry\",\"lon\":[-81.191622],\"marker\":{\"color\":\"#ab63fa\"},\"mode\":\"markers\",\"name\":\"Hendry\",\"showlegend\":true,\"subplot\":\"mapbox\",\"type\":\"scattermapbox\"},{\"hovertemplate\":\"County=Hernando<br>Lat=%{lat}<br>Long=%{lon}<extra></extra>\",\"lat\":[28.521290999999998],\"legendgroup\":\"Hernando\",\"lon\":[-82.481399],\"marker\":{\"color\":\"#FFA15A\"},\"mode\":\"markers\",\"name\":\"Hernando\",\"showlegend\":true,\"subplot\":\"mapbox\",\"type\":\"scattermapbox\"},{\"hovertemplate\":\"County=Highlands<br>Lat=%{lat}<br>Long=%{lon}<extra></extra>\",\"lat\":[27.439711],\"legendgroup\":\"Highlands\",\"lon\":[-81.428524],\"marker\":{\"color\":\"#19d3f3\"},\"mode\":\"markers\",\"name\":\"Highlands\",\"showlegend\":true,\"subplot\":\"mapbox\",\"type\":\"scattermapbox\"},{\"hovertemplate\":\"County=Hillsborough<br>Lat=%{lat}<br>Long=%{lon}<extra></extra>\",\"lat\":[27.966348999999997],\"legendgroup\":\"Hillsborough\",\"lon\":[-82.412079],\"marker\":{\"color\":\"#FF6692\"},\"mode\":\"markers\",\"name\":\"Hillsborough\",\"showlegend\":true,\"subplot\":\"mapbox\",\"type\":\"scattermapbox\"},{\"hovertemplate\":\"County=Holmes<br>Lat=%{lat}<br>Long=%{lon}<extra></extra>\",\"lat\":[30.853637],\"legendgroup\":\"Holmes\",\"lon\":[-85.785748],\"marker\":{\"color\":\"#B6E880\"},\"mode\":\"markers\",\"name\":\"Holmes\",\"showlegend\":true,\"subplot\":\"mapbox\",\"type\":\"scattermapbox\"},{\"hovertemplate\":\"County=Indian River<br>Lat=%{lat}<br>Long=%{lon}<extra></extra>\",\"lat\":[27.695124],\"legendgroup\":\"Indian River\",\"lon\":[-80.45405600000001],\"marker\":{\"color\":\"#FF97FF\"},\"mode\":\"markers\",\"name\":\"Indian River\",\"showlegend\":true,\"subplot\":\"mapbox\",\"type\":\"scattermapbox\"},{\"hovertemplate\":\"County=Jackson<br>Lat=%{lat}<br>Long=%{lon}<extra></extra>\",\"lat\":[30.769903000000003],\"legendgroup\":\"Jackson\",\"lon\":[-85.241124],\"marker\":{\"color\":\"#FECB52\"},\"mode\":\"markers\",\"name\":\"Jackson\",\"showlegend\":true,\"subplot\":\"mapbox\",\"type\":\"scattermapbox\"},{\"hovertemplate\":\"County=Jefferson<br>Lat=%{lat}<br>Long=%{lon}<extra></extra>\",\"lat\":[30.510187],\"legendgroup\":\"Jefferson\",\"lon\":[-83.884229],\"marker\":{\"color\":\"#636efa\"},\"mode\":\"markers\",\"name\":\"Jefferson\",\"showlegend\":true,\"subplot\":\"mapbox\",\"type\":\"scattermapbox\"},{\"hovertemplate\":\"County=Lafayette<br>Lat=%{lat}<br>Long=%{lon}<extra></extra>\",\"lat\":[30.00143],\"legendgroup\":\"Lafayette\",\"lon\":[-83.18326400000001],\"marker\":{\"color\":\"#EF553B\"},\"mode\":\"markers\",\"name\":\"Lafayette\",\"showlegend\":true,\"subplot\":\"mapbox\",\"type\":\"scattermapbox\"},{\"hovertemplate\":\"County=Lake<br>Lat=%{lat}<br>Long=%{lon}<extra></extra>\",\"lat\":[28.795924],\"legendgroup\":\"Lake\",\"lon\":[-81.74769599999999],\"marker\":{\"color\":\"#00cc96\"},\"mode\":\"markers\",\"name\":\"Lake\",\"showlegend\":true,\"subplot\":\"mapbox\",\"type\":\"scattermapbox\"},{\"hovertemplate\":\"County=Lee<br>Lat=%{lat}<br>Long=%{lon}<extra></extra>\",\"lat\":[26.602541],\"legendgroup\":\"Lee\",\"lon\":[-81.846262],\"marker\":{\"color\":\"#ab63fa\"},\"mode\":\"markers\",\"name\":\"Lee\",\"showlegend\":true,\"subplot\":\"mapbox\",\"type\":\"scattermapbox\"},{\"hovertemplate\":\"County=Leon<br>Lat=%{lat}<br>Long=%{lon}<extra></extra>\",\"lat\":[30.462933000000003],\"legendgroup\":\"Leon\",\"lon\":[-84.260888],\"marker\":{\"color\":\"#FFA15A\"},\"mode\":\"markers\",\"name\":\"Leon\",\"showlegend\":true,\"subplot\":\"mapbox\",\"type\":\"scattermapbox\"},{\"hovertemplate\":\"County=Levy<br>Lat=%{lat}<br>Long=%{lon}<extra></extra>\",\"lat\":[29.330144],\"legendgroup\":\"Levy\",\"lon\":[-82.70781],\"marker\":{\"color\":\"#19d3f3\"},\"mode\":\"markers\",\"name\":\"Levy\",\"showlegend\":true,\"subplot\":\"mapbox\",\"type\":\"scattermapbox\"},{\"hovertemplate\":\"County=Liberty<br>Lat=%{lat}<br>Long=%{lon}<extra></extra>\",\"lat\":[30.285745000000002],\"legendgroup\":\"Liberty\",\"lon\":[-84.88324200000001],\"marker\":{\"color\":\"#FF6692\"},\"mode\":\"markers\",\"name\":\"Liberty\",\"showlegend\":true,\"subplot\":\"mapbox\",\"type\":\"scattermapbox\"},{\"hovertemplate\":\"County=Madison<br>Lat=%{lat}<br>Long=%{lon}<extra></extra>\",\"lat\":[30.443902],\"legendgroup\":\"Madison\",\"lon\":[-83.4258],\"marker\":{\"color\":\"#B6E880\"},\"mode\":\"markers\",\"name\":\"Madison\",\"showlegend\":true,\"subplot\":\"mapbox\",\"type\":\"scattermapbox\"},{\"hovertemplate\":\"County=Manatee<br>Lat=%{lat}<br>Long=%{lon}<extra></extra>\",\"lat\":[27.487817],\"legendgroup\":\"Manatee\",\"lon\":[-82.54906899999999],\"marker\":{\"color\":\"#FF97FF\"},\"mode\":\"markers\",\"name\":\"Manatee\",\"showlegend\":true,\"subplot\":\"mapbox\",\"type\":\"scattermapbox\"},{\"hovertemplate\":\"County=Marion<br>Lat=%{lat}<br>Long=%{lon}<extra></extra>\",\"lat\":[29.142854999999997],\"legendgroup\":\"Marion\",\"lon\":[-82.114602],\"marker\":{\"color\":\"#FECB52\"},\"mode\":\"markers\",\"name\":\"Marion\",\"showlegend\":true,\"subplot\":\"mapbox\",\"type\":\"scattermapbox\"},{\"hovertemplate\":\"County=Martin<br>Lat=%{lat}<br>Long=%{lon}<extra></extra>\",\"lat\":[27.132403000000004],\"legendgroup\":\"Martin\",\"lon\":[-80.255862],\"marker\":{\"color\":\"#636efa\"},\"mode\":\"markers\",\"name\":\"Martin\",\"showlegend\":true,\"subplot\":\"mapbox\",\"type\":\"scattermapbox\"},{\"hovertemplate\":\"County=Miami-Dade<br>Lat=%{lat}<br>Long=%{lon}<extra></extra>\",\"lat\":[25.756427],\"legendgroup\":\"Miami-Dade\",\"lon\":[-80.30226400000001],\"marker\":{\"color\":\"#EF553B\"},\"mode\":\"markers\",\"name\":\"Miami-Dade\",\"showlegend\":true,\"subplot\":\"mapbox\",\"type\":\"scattermapbox\"},{\"hovertemplate\":\"County=Monroe<br>Lat=%{lat}<br>Long=%{lon}<extra></extra>\",\"lat\":[24.777558],\"legendgroup\":\"Monroe\",\"lon\":[-81.228495],\"marker\":{\"color\":\"#00cc96\"},\"mode\":\"markers\",\"name\":\"Monroe\",\"showlegend\":true,\"subplot\":\"mapbox\",\"type\":\"scattermapbox\"},{\"hovertemplate\":\"County=Nassau<br>Lat=%{lat}<br>Long=%{lon}<extra></extra>\",\"lat\":[30.623401],\"legendgroup\":\"Nassau\",\"lon\":[-81.704762],\"marker\":{\"color\":\"#ab63fa\"},\"mode\":\"markers\",\"name\":\"Nassau\",\"showlegend\":true,\"subplot\":\"mapbox\",\"type\":\"scattermapbox\"},{\"hovertemplate\":\"County=Okaloosa<br>Lat=%{lat}<br>Long=%{lon}<extra></extra>\",\"lat\":[30.642028999999997],\"legendgroup\":\"Okaloosa\",\"lon\":[-86.562467],\"marker\":{\"color\":\"#FFA15A\"},\"mode\":\"markers\",\"name\":\"Okaloosa\",\"showlegend\":true,\"subplot\":\"mapbox\",\"type\":\"scattermapbox\"},{\"hovertemplate\":\"County=Okeechobee<br>Lat=%{lat}<br>Long=%{lon}<extra></extra>\",\"lat\":[27.32525],\"legendgroup\":\"Okeechobee\",\"lon\":[-80.870875],\"marker\":{\"color\":\"#19d3f3\"},\"mode\":\"markers\",\"name\":\"Okeechobee\",\"showlegend\":true,\"subplot\":\"mapbox\",\"type\":\"scattermapbox\"},{\"hovertemplate\":\"County=Orange<br>Lat=%{lat}<br>Long=%{lon}<extra></extra>\",\"lat\":[28.547128999999998],\"legendgroup\":\"Orange\",\"lon\":[-81.40415899999999],\"marker\":{\"color\":\"#FF6692\"},\"mode\":\"markers\",\"name\":\"Orange\",\"showlegend\":true,\"subplot\":\"mapbox\",\"type\":\"scattermapbox\"},{\"hovertemplate\":\"County=Osceola<br>Lat=%{lat}<br>Long=%{lon}<extra></extra>\",\"lat\":[28.231941],\"legendgroup\":\"Osceola\",\"lon\":[-81.31971],\"marker\":{\"color\":\"#B6E880\"},\"mode\":\"markers\",\"name\":\"Osceola\",\"showlegend\":true,\"subplot\":\"mapbox\",\"type\":\"scattermapbox\"},{\"hovertemplate\":\"County=Palm Beach<br>Lat=%{lat}<br>Long=%{lon}<extra></extra>\",\"lat\":[26.637745000000002],\"legendgroup\":\"Palm Beach\",\"lon\":[-80.176395],\"marker\":{\"color\":\"#FF97FF\"},\"mode\":\"markers\",\"name\":\"Palm Beach\",\"showlegend\":true,\"subplot\":\"mapbox\",\"type\":\"scattermapbox\"},{\"hovertemplate\":\"County=Pasco<br>Lat=%{lat}<br>Long=%{lon}<extra></extra>\",\"lat\":[28.276153000000004],\"legendgroup\":\"Pasco\",\"lon\":[-82.496887],\"marker\":{\"color\":\"#FECB52\"},\"mode\":\"markers\",\"name\":\"Pasco\",\"showlegend\":true,\"subplot\":\"mapbox\",\"type\":\"scattermapbox\"},{\"hovertemplate\":\"County=Pinellas<br>Lat=%{lat}<br>Long=%{lon}<extra></extra>\",\"lat\":[27.889646999999997],\"legendgroup\":\"Pinellas\",\"lon\":[-82.727766],\"marker\":{\"color\":\"#636efa\"},\"mode\":\"markers\",\"name\":\"Pinellas\",\"showlegend\":true,\"subplot\":\"mapbox\",\"type\":\"scattermapbox\"},{\"hovertemplate\":\"County=Polk<br>Lat=%{lat}<br>Long=%{lon}<extra></extra>\",\"lat\":[27.992435999999998],\"legendgroup\":\"Polk\",\"lon\":[-81.758303],\"marker\":{\"color\":\"#EF553B\"},\"mode\":\"markers\",\"name\":\"Polk\",\"showlegend\":true,\"subplot\":\"mapbox\",\"type\":\"scattermapbox\"},{\"hovertemplate\":\"County=Putnam<br>Lat=%{lat}<br>Long=%{lon}<extra></extra>\",\"lat\":[29.597982000000002],\"legendgroup\":\"Putnam\",\"lon\":[-81.75850799999999],\"marker\":{\"color\":\"#00cc96\"},\"mode\":\"markers\",\"name\":\"Putnam\",\"showlegend\":true,\"subplot\":\"mapbox\",\"type\":\"scattermapbox\"},{\"hovertemplate\":\"County=St. Johns<br>Lat=%{lat}<br>Long=%{lon}<extra></extra>\",\"lat\":[29.881861999999998],\"legendgroup\":\"St. Johns\",\"lon\":[-81.35813900000001],\"marker\":{\"color\":\"#ab63fa\"},\"mode\":\"markers\",\"name\":\"St. Johns\",\"showlegend\":true,\"subplot\":\"mapbox\",\"type\":\"scattermapbox\"},{\"hovertemplate\":\"County=St. Lucie<br>Lat=%{lat}<br>Long=%{lon}<extra></extra>\",\"lat\":[27.348246000000003],\"legendgroup\":\"St. Lucie\",\"lon\":[-80.360875],\"marker\":{\"color\":\"#FFA15A\"},\"mode\":\"markers\",\"name\":\"St. Lucie\",\"showlegend\":true,\"subplot\":\"mapbox\",\"type\":\"scattermapbox\"},{\"hovertemplate\":\"County=Santa Rosa<br>Lat=%{lat}<br>Long=%{lon}<extra></extra>\",\"lat\":[30.614138],\"legendgroup\":\"Santa Rosa\",\"lon\":[-87.021807],\"marker\":{\"color\":\"#19d3f3\"},\"mode\":\"markers\",\"name\":\"Santa Rosa\",\"showlegend\":true,\"subplot\":\"mapbox\",\"type\":\"scattermapbox\"},{\"hovertemplate\":\"County=Sarasota<br>Lat=%{lat}<br>Long=%{lon}<extra></extra>\",\"lat\":[27.16493],\"legendgroup\":\"Sarasota\",\"lon\":[-82.398881],\"marker\":{\"color\":\"#FF6692\"},\"mode\":\"markers\",\"name\":\"Sarasota\",\"showlegend\":true,\"subplot\":\"mapbox\",\"type\":\"scattermapbox\"},{\"hovertemplate\":\"County=Seminole<br>Lat=%{lat}<br>Long=%{lon}<extra></extra>\",\"lat\":[28.709909000000003],\"legendgroup\":\"Seminole\",\"lon\":[-81.31083100000001],\"marker\":{\"color\":\"#B6E880\"},\"mode\":\"markers\",\"name\":\"Seminole\",\"showlegend\":true,\"subplot\":\"mapbox\",\"type\":\"scattermapbox\"},{\"hovertemplate\":\"County=Sumter<br>Lat=%{lat}<br>Long=%{lon}<extra></extra>\",\"lat\":[28.770086],\"legendgroup\":\"Sumter\",\"lon\":[-82.075542],\"marker\":{\"color\":\"#FF97FF\"},\"mode\":\"markers\",\"name\":\"Sumter\",\"showlegend\":true,\"subplot\":\"mapbox\",\"type\":\"scattermapbox\"},{\"hovertemplate\":\"County=Suwannee<br>Lat=%{lat}<br>Long=%{lon}<extra></extra>\",\"lat\":[30.191684000000002],\"legendgroup\":\"Suwannee\",\"lon\":[-82.985391],\"marker\":{\"color\":\"#FECB52\"},\"mode\":\"markers\",\"name\":\"Suwannee\",\"showlegend\":true,\"subplot\":\"mapbox\",\"type\":\"scattermapbox\"},{\"hovertemplate\":\"County=Taylor<br>Lat=%{lat}<br>Long=%{lon}<extra></extra>\",\"lat\":[30.053738],\"legendgroup\":\"Taylor\",\"lon\":[-83.585228],\"marker\":{\"color\":\"#636efa\"},\"mode\":\"markers\",\"name\":\"Taylor\",\"showlegend\":true,\"subplot\":\"mapbox\",\"type\":\"scattermapbox\"},{\"hovertemplate\":\"County=Union<br>Lat=%{lat}<br>Long=%{lon}<extra></extra>\",\"lat\":[30.02805],\"legendgroup\":\"Union\",\"lon\":[-82.367222],\"marker\":{\"color\":\"#EF553B\"},\"mode\":\"markers\",\"name\":\"Union\",\"showlegend\":true,\"subplot\":\"mapbox\",\"type\":\"scattermapbox\"},{\"hovertemplate\":\"County=Volusia<br>Lat=%{lat}<br>Long=%{lon}<extra></extra>\",\"lat\":[29.049037],\"legendgroup\":\"Volusia\",\"lon\":[-81.138947],\"marker\":{\"color\":\"#00cc96\"},\"mode\":\"markers\",\"name\":\"Volusia\",\"showlegend\":true,\"subplot\":\"mapbox\",\"type\":\"scattermapbox\"},{\"hovertemplate\":\"County=Wakulla<br>Lat=%{lat}<br>Long=%{lon}<extra></extra>\",\"lat\":[30.14462],\"legendgroup\":\"Wakulla\",\"lon\":[-84.366174],\"marker\":{\"color\":\"#ab63fa\"},\"mode\":\"markers\",\"name\":\"Wakulla\",\"showlegend\":true,\"subplot\":\"mapbox\",\"type\":\"scattermapbox\"},{\"hovertemplate\":\"County=Walton<br>Lat=%{lat}<br>Long=%{lon}<extra></extra>\",\"lat\":[30.637995],\"legendgroup\":\"Walton\",\"lon\":[-86.155962],\"marker\":{\"color\":\"#FFA15A\"},\"mode\":\"markers\",\"name\":\"Walton\",\"showlegend\":true,\"subplot\":\"mapbox\",\"type\":\"scattermapbox\"},{\"hovertemplate\":\"County=Washington<br>Lat=%{lat}<br>Long=%{lon}<extra></extra>\",\"lat\":[30.630591],\"legendgroup\":\"Washington\",\"lon\":[-85.638396],\"marker\":{\"color\":\"#19d3f3\"},\"mode\":\"markers\",\"name\":\"Washington\",\"showlegend\":true,\"subplot\":\"mapbox\",\"type\":\"scattermapbox\"}],                        {\"legend\":{\"title\":{\"text\":\"County\"},\"tracegroupgap\":0},\"mapbox\":{\"accesstoken\":\"pk.eyJ1Ijoid2VpZXJtZWRpYSIsImEiOiJja3F4djAwMjUxMjhrMnVsMzh5aThlcW9yIn0.0EA9aojTBfUEoSEdsqpQUw\",\"center\":{\"lat\":28.92812159545455,\"lon\":-82.71822480757577},\"domain\":{\"x\":[0.0,1.0],\"y\":[0.0,1.0]},\"style\":\"open-street-map\",\"zoom\":8},\"margin\":{\"t\":60},\"template\":{\"data\":{\"bar\":[{\"error_x\":{\"color\":\"#2a3f5f\"},\"error_y\":{\"color\":\"#2a3f5f\"},\"marker\":{\"line\":{\"color\":\"#E5ECF6\",\"width\":0.5},\"pattern\":{\"fillmode\":\"overlay\",\"size\":10,\"solidity\":0.2}},\"type\":\"bar\"}],\"barpolar\":[{\"marker\":{\"line\":{\"color\":\"#E5ECF6\",\"width\":0.5},\"pattern\":{\"fillmode\":\"overlay\",\"size\":10,\"solidity\":0.2}},\"type\":\"barpolar\"}],\"carpet\":[{\"aaxis\":{\"endlinecolor\":\"#2a3f5f\",\"gridcolor\":\"white\",\"linecolor\":\"white\",\"minorgridcolor\":\"white\",\"startlinecolor\":\"#2a3f5f\"},\"baxis\":{\"endlinecolor\":\"#2a3f5f\",\"gridcolor\":\"white\",\"linecolor\":\"white\",\"minorgridcolor\":\"white\",\"startlinecolor\":\"#2a3f5f\"},\"type\":\"carpet\"}],\"choropleth\":[{\"colorbar\":{\"outlinewidth\":0,\"ticks\":\"\"},\"type\":\"choropleth\"}],\"contour\":[{\"colorbar\":{\"outlinewidth\":0,\"ticks\":\"\"},\"colorscale\":[[0.0,\"#0d0887\"],[0.1111111111111111,\"#46039f\"],[0.2222222222222222,\"#7201a8\"],[0.3333333333333333,\"#9c179e\"],[0.4444444444444444,\"#bd3786\"],[0.5555555555555556,\"#d8576b\"],[0.6666666666666666,\"#ed7953\"],[0.7777777777777778,\"#fb9f3a\"],[0.8888888888888888,\"#fdca26\"],[1.0,\"#f0f921\"]],\"type\":\"contour\"}],\"contourcarpet\":[{\"colorbar\":{\"outlinewidth\":0,\"ticks\":\"\"},\"type\":\"contourcarpet\"}],\"heatmap\":[{\"colorbar\":{\"outlinewidth\":0,\"ticks\":\"\"},\"colorscale\":[[0.0,\"#0d0887\"],[0.1111111111111111,\"#46039f\"],[0.2222222222222222,\"#7201a8\"],[0.3333333333333333,\"#9c179e\"],[0.4444444444444444,\"#bd3786\"],[0.5555555555555556,\"#d8576b\"],[0.6666666666666666,\"#ed7953\"],[0.7777777777777778,\"#fb9f3a\"],[0.8888888888888888,\"#fdca26\"],[1.0,\"#f0f921\"]],\"type\":\"heatmap\"}],\"heatmapgl\":[{\"colorbar\":{\"outlinewidth\":0,\"ticks\":\"\"},\"colorscale\":[[0.0,\"#0d0887\"],[0.1111111111111111,\"#46039f\"],[0.2222222222222222,\"#7201a8\"],[0.3333333333333333,\"#9c179e\"],[0.4444444444444444,\"#bd3786\"],[0.5555555555555556,\"#d8576b\"],[0.6666666666666666,\"#ed7953\"],[0.7777777777777778,\"#fb9f3a\"],[0.8888888888888888,\"#fdca26\"],[1.0,\"#f0f921\"]],\"type\":\"heatmapgl\"}],\"histogram\":[{\"marker\":{\"pattern\":{\"fillmode\":\"overlay\",\"size\":10,\"solidity\":0.2}},\"type\":\"histogram\"}],\"histogram2d\":[{\"colorbar\":{\"outlinewidth\":0,\"ticks\":\"\"},\"colorscale\":[[0.0,\"#0d0887\"],[0.1111111111111111,\"#46039f\"],[0.2222222222222222,\"#7201a8\"],[0.3333333333333333,\"#9c179e\"],[0.4444444444444444,\"#bd3786\"],[0.5555555555555556,\"#d8576b\"],[0.6666666666666666,\"#ed7953\"],[0.7777777777777778,\"#fb9f3a\"],[0.8888888888888888,\"#fdca26\"],[1.0,\"#f0f921\"]],\"type\":\"histogram2d\"}],\"histogram2dcontour\":[{\"colorbar\":{\"outlinewidth\":0,\"ticks\":\"\"},\"colorscale\":[[0.0,\"#0d0887\"],[0.1111111111111111,\"#46039f\"],[0.2222222222222222,\"#7201a8\"],[0.3333333333333333,\"#9c179e\"],[0.4444444444444444,\"#bd3786\"],[0.5555555555555556,\"#d8576b\"],[0.6666666666666666,\"#ed7953\"],[0.7777777777777778,\"#fb9f3a\"],[0.8888888888888888,\"#fdca26\"],[1.0,\"#f0f921\"]],\"type\":\"histogram2dcontour\"}],\"mesh3d\":[{\"colorbar\":{\"outlinewidth\":0,\"ticks\":\"\"},\"type\":\"mesh3d\"}],\"parcoords\":[{\"line\":{\"colorbar\":{\"outlinewidth\":0,\"ticks\":\"\"}},\"type\":\"parcoords\"}],\"pie\":[{\"automargin\":true,\"type\":\"pie\"}],\"scatter\":[{\"marker\":{\"colorbar\":{\"outlinewidth\":0,\"ticks\":\"\"}},\"type\":\"scatter\"}],\"scatter3d\":[{\"line\":{\"colorbar\":{\"outlinewidth\":0,\"ticks\":\"\"}},\"marker\":{\"colorbar\":{\"outlinewidth\":0,\"ticks\":\"\"}},\"type\":\"scatter3d\"}],\"scattercarpet\":[{\"marker\":{\"colorbar\":{\"outlinewidth\":0,\"ticks\":\"\"}},\"type\":\"scattercarpet\"}],\"scattergeo\":[{\"marker\":{\"colorbar\":{\"outlinewidth\":0,\"ticks\":\"\"}},\"type\":\"scattergeo\"}],\"scattergl\":[{\"marker\":{\"colorbar\":{\"outlinewidth\":0,\"ticks\":\"\"}},\"type\":\"scattergl\"}],\"scattermapbox\":[{\"marker\":{\"colorbar\":{\"outlinewidth\":0,\"ticks\":\"\"}},\"type\":\"scattermapbox\"}],\"scatterpolar\":[{\"marker\":{\"colorbar\":{\"outlinewidth\":0,\"ticks\":\"\"}},\"type\":\"scatterpolar\"}],\"scatterpolargl\":[{\"marker\":{\"colorbar\":{\"outlinewidth\":0,\"ticks\":\"\"}},\"type\":\"scatterpolargl\"}],\"scatterternary\":[{\"marker\":{\"colorbar\":{\"outlinewidth\":0,\"ticks\":\"\"}},\"type\":\"scatterternary\"}],\"surface\":[{\"colorbar\":{\"outlinewidth\":0,\"ticks\":\"\"},\"colorscale\":[[0.0,\"#0d0887\"],[0.1111111111111111,\"#46039f\"],[0.2222222222222222,\"#7201a8\"],[0.3333333333333333,\"#9c179e\"],[0.4444444444444444,\"#bd3786\"],[0.5555555555555556,\"#d8576b\"],[0.6666666666666666,\"#ed7953\"],[0.7777777777777778,\"#fb9f3a\"],[0.8888888888888888,\"#fdca26\"],[1.0,\"#f0f921\"]],\"type\":\"surface\"}],\"table\":[{\"cells\":{\"fill\":{\"color\":\"#EBF0F8\"},\"line\":{\"color\":\"white\"}},\"header\":{\"fill\":{\"color\":\"#C8D4E3\"},\"line\":{\"color\":\"white\"}},\"type\":\"table\"}]},\"layout\":{\"annotationdefaults\":{\"arrowcolor\":\"#2a3f5f\",\"arrowhead\":0,\"arrowwidth\":1},\"autotypenumbers\":\"strict\",\"coloraxis\":{\"colorbar\":{\"outlinewidth\":0,\"ticks\":\"\"}},\"colorscale\":{\"diverging\":[[0,\"#8e0152\"],[0.1,\"#c51b7d\"],[0.2,\"#de77ae\"],[0.3,\"#f1b6da\"],[0.4,\"#fde0ef\"],[0.5,\"#f7f7f7\"],[0.6,\"#e6f5d0\"],[0.7,\"#b8e186\"],[0.8,\"#7fbc41\"],[0.9,\"#4d9221\"],[1,\"#276419\"]],\"sequential\":[[0.0,\"#0d0887\"],[0.1111111111111111,\"#46039f\"],[0.2222222222222222,\"#7201a8\"],[0.3333333333333333,\"#9c179e\"],[0.4444444444444444,\"#bd3786\"],[0.5555555555555556,\"#d8576b\"],[0.6666666666666666,\"#ed7953\"],[0.7777777777777778,\"#fb9f3a\"],[0.8888888888888888,\"#fdca26\"],[1.0,\"#f0f921\"]],\"sequentialminus\":[[0.0,\"#0d0887\"],[0.1111111111111111,\"#46039f\"],[0.2222222222222222,\"#7201a8\"],[0.3333333333333333,\"#9c179e\"],[0.4444444444444444,\"#bd3786\"],[0.5555555555555556,\"#d8576b\"],[0.6666666666666666,\"#ed7953\"],[0.7777777777777778,\"#fb9f3a\"],[0.8888888888888888,\"#fdca26\"],[1.0,\"#f0f921\"]]},\"colorway\":[\"#636efa\",\"#EF553B\",\"#00cc96\",\"#ab63fa\",\"#FFA15A\",\"#19d3f3\",\"#FF6692\",\"#B6E880\",\"#FF97FF\",\"#FECB52\"],\"font\":{\"color\":\"#2a3f5f\"},\"geo\":{\"bgcolor\":\"white\",\"lakecolor\":\"white\",\"landcolor\":\"#E5ECF6\",\"showlakes\":true,\"showland\":true,\"subunitcolor\":\"white\"},\"hoverlabel\":{\"align\":\"left\"},\"hovermode\":\"closest\",\"mapbox\":{\"style\":\"light\"},\"paper_bgcolor\":\"white\",\"plot_bgcolor\":\"#E5ECF6\",\"polar\":{\"angularaxis\":{\"gridcolor\":\"white\",\"linecolor\":\"white\",\"ticks\":\"\"},\"bgcolor\":\"#E5ECF6\",\"radialaxis\":{\"gridcolor\":\"white\",\"linecolor\":\"white\",\"ticks\":\"\"}},\"scene\":{\"xaxis\":{\"backgroundcolor\":\"#E5ECF6\",\"gridcolor\":\"white\",\"gridwidth\":2,\"linecolor\":\"white\",\"showbackground\":true,\"ticks\":\"\",\"zerolinecolor\":\"white\"},\"yaxis\":{\"backgroundcolor\":\"#E5ECF6\",\"gridcolor\":\"white\",\"gridwidth\":2,\"linecolor\":\"white\",\"showbackground\":true,\"ticks\":\"\",\"zerolinecolor\":\"white\"},\"zaxis\":{\"backgroundcolor\":\"#E5ECF6\",\"gridcolor\":\"white\",\"gridwidth\":2,\"linecolor\":\"white\",\"showbackground\":true,\"ticks\":\"\",\"zerolinecolor\":\"white\"}},\"shapedefaults\":{\"line\":{\"color\":\"#2a3f5f\"}},\"ternary\":{\"aaxis\":{\"gridcolor\":\"white\",\"linecolor\":\"white\",\"ticks\":\"\"},\"baxis\":{\"gridcolor\":\"white\",\"linecolor\":\"white\",\"ticks\":\"\"},\"bgcolor\":\"#E5ECF6\",\"caxis\":{\"gridcolor\":\"white\",\"linecolor\":\"white\",\"ticks\":\"\"}},\"title\":{\"x\":0.05},\"xaxis\":{\"automargin\":true,\"gridcolor\":\"white\",\"linecolor\":\"white\",\"ticks\":\"\",\"title\":{\"standoff\":15},\"zerolinecolor\":\"white\",\"zerolinewidth\":2},\"yaxis\":{\"automargin\":true,\"gridcolor\":\"white\",\"linecolor\":\"white\",\"ticks\":\"\",\"title\":{\"standoff\":15},\"zerolinecolor\":\"white\",\"zerolinewidth\":2}}}},                        {\"responsive\": true}                    ).then(function(){\n",
       "                            \n",
       "var gd = document.getElementById('adeb215a-b258-4433-973e-08d3c1a51480');\n",
       "var x = new MutationObserver(function (mutations, observer) {{\n",
       "        var display = window.getComputedStyle(gd).display;\n",
       "        if (!display || display === 'none') {{\n",
       "            console.log([gd, 'removed!']);\n",
       "            Plotly.purge(gd);\n",
       "            observer.disconnect();\n",
       "        }}\n",
       "}});\n",
       "\n",
       "// Listen for the removal of the full notebook cells\n",
       "var notebookContainer = gd.closest('#notebook-container');\n",
       "if (notebookContainer) {{\n",
       "    x.observe(notebookContainer, {childList: true});\n",
       "}}\n",
       "\n",
       "// Listen for the clearing of the current output cell\n",
       "var outputEl = gd.closest('.output');\n",
       "if (outputEl) {{\n",
       "    x.observe(outputEl, {childList: true});\n",
       "}}\n",
       "\n",
       "                        })                };                });            </script>        </div>"
      ]
     },
     "metadata": {},
     "output_type": "display_data"
    }
   ],
   "source": [
    "# Florida counties shown with MapBox\n",
    "fl_county_map = px.scatter_mapbox(\n",
    "    lat_long_data,\n",
    "    lat=\"Lat\",\n",
    "    lon=\"Long\",\n",
    "    color=\"County\"\n",
    ")\n",
    "fl_county_map.update_layout(mapbox_style=\"open-street-map\")\n",
    "fl_county_map.show()"
   ]
  },
  {
   "cell_type": "code",
   "execution_count": null,
   "id": "f42c5ba8-7cf9-4afd-b00f-17ce871e5d13",
   "metadata": {},
   "outputs": [],
   "source": []
  }
 ],
 "metadata": {
  "kernelspec": {
   "display_name": "Python 3",
   "language": "python",
   "name": "python3"
  },
  "language_info": {
   "codemirror_mode": {
    "name": "ipython",
    "version": 3
   },
   "file_extension": ".py",
   "mimetype": "text/x-python",
   "name": "python",
   "nbconvert_exporter": "python",
   "pygments_lexer": "ipython3",
   "version": "3.8.8"
  }
 },
 "nbformat": 4,
 "nbformat_minor": 5
}
