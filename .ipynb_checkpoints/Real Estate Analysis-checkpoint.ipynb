{
 "cells": [
  {
   "cell_type": "code",
   "execution_count": null,
   "id": "5db0666b-8631-4364-94dc-7a1c6cd7f80b",
   "metadata": {},
   "outputs": [],
   "source": [
    "# import libraries\n",
    "import pandas as pd\n",
    "import panel as pn\n",
    "pn.extension('plotly')\n",
    "import plotly.express as px\n",
    "import hvplot.pandas\n",
    "import matplotlib.pyplot as plt\n",
    "import os\n",
    "from pathlib import Path\n",
    "from dotenv import load_dotenv"
   ]
  },
  {
   "cell_type": "code",
   "execution_count": null,
   "id": "3fddf65a-e1b3-4f05-bb67-39f9461369a9",
   "metadata": {},
   "outputs": [],
   "source": [
    "# Read Mapbox API Key\n",
    "load_dotenv()\n",
    "mapbox_api = os.getenv(\"mapbox\")\n",
    "px.set_mapbox_access_token(mapbox_api)"
   ]
  },
  {
   "cell_type": "code",
   "execution_count": null,
   "id": "669c66c0-36e2-4d24-897c-97cff707d843",
   "metadata": {},
   "outputs": [],
   "source": [
    "# Import Florida Median Home Prices CSV to Panda Dataframes\n",
    "file_path = Path(\"Florida-Median-Home-Prices-By-County-Q1-2021.csv\")\n",
    "re_data = pd.read_csv(file_path)"
   ]
  },
  {
   "cell_type": "code",
   "execution_count": null,
   "id": "0464b746-388e-4d33-bb9f-ac5e7fa97f34",
   "metadata": {},
   "outputs": [],
   "source": [
    "# Preview Data\n",
    "re_data.head()"
   ]
  },
  {
   "cell_type": "code",
   "execution_count": null,
   "id": "fe5d2506-c328-4f10-995b-bf6247601a1e",
   "metadata": {},
   "outputs": [],
   "source": [
    "# Change values from string to float, remove $\n",
    "re_data[re_data.columns[1:]] = re_data[re_data.columns[1:]].replace('[\\$,]', '', regex=True).astype(float)"
   ]
  },
  {
   "cell_type": "code",
   "execution_count": null,
   "id": "8fffba29-ced1-432a-b000-9501c30e7ae0",
   "metadata": {},
   "outputs": [],
   "source": [
    "# Sort data by Median Home Price\n",
    "re_data.sort_values(\"Median Home Price Q1 2021\")"
   ]
  },
  {
   "cell_type": "code",
   "execution_count": null,
   "id": "64fdb619-a91c-429c-bdc7-cea0d88e4cf7",
   "metadata": {},
   "outputs": [],
   "source": [
    "# Save sorted data as a new DF\n",
    "re_data_sorted_by_median_home_price = re_data.sort_values(\"Median Home Price Q1 2021\")"
   ]
  },
  {
   "cell_type": "code",
   "execution_count": null,
   "id": "5b41c9c5-b18f-4530-96ca-3f0272bedcfc",
   "metadata": {},
   "outputs": [],
   "source": [
    "# Scatter plot showing Florida median home prices per county in ascending order\n",
    "px.scatter(re_data_sorted_by_median_home_price, x=\"County\", y=\"Median Home Price Q1 2021\")"
   ]
  },
  {
   "cell_type": "code",
   "execution_count": null,
   "id": "8916e6c5-7efd-4b4b-8aaa-8c8d90050e2e",
   "metadata": {},
   "outputs": [],
   "source": [
    "# Import Lat Long CSV to Panda Dataframes for MapBox\n",
    "file_path = Path(\"lat_long.csv\")\n",
    "lat_long_data = pd.read_csv(file_path)"
   ]
  },
  {
   "cell_type": "code",
   "execution_count": null,
   "id": "5423cadc-a62b-4ec7-b2d1-22408c964084",
   "metadata": {},
   "outputs": [],
   "source": [
    "# Florida counties shown with MapBox\n",
    "fl_county_map = px.scatter_mapbox(\n",
    "    lat_long_data,\n",
    "    lat=\"Lat\",\n",
    "    lon=\"Long\"\n",
    ")\n",
    "fl_county_map.update_layout(mapbox_style=\"open-street-map\")\n",
    "fl_county_map.show()"
   ]
  },
  {
   "cell_type": "code",
   "execution_count": null,
   "id": "f42c5ba8-7cf9-4afd-b00f-17ce871e5d13",
   "metadata": {},
   "outputs": [],
   "source": []
  }
 ],
 "metadata": {
  "kernelspec": {
   "display_name": "Python [conda env:RyanEnv] *",
   "language": "python",
   "name": "conda-env-RyanEnv-py"
  },
  "language_info": {
   "codemirror_mode": {
    "name": "ipython",
    "version": 3
   },
   "file_extension": ".py",
   "mimetype": "text/x-python",
   "name": "python",
   "nbconvert_exporter": "python",
   "pygments_lexer": "ipython3",
   "version": "3.8.5"
  }
 },
 "nbformat": 4,
 "nbformat_minor": 5
}
